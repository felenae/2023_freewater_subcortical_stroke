{
 "cells": [
  {
   "cell_type": "markdown",
   "metadata": {},
   "source": [
    "# Load libraries"
   ]
  },
  {
   "cell_type": "code",
   "execution_count": null,
   "metadata": {
    "vscode": {
     "languageId": "r"
    }
   },
   "outputs": [],
   "source": [
    "library(tidyverse)\n",
    "library(ggsignif)"
   ]
  },
  {
   "cell_type": "markdown",
   "metadata": {},
   "source": [
    "# Set up paths"
   ]
  },
  {
   "cell_type": "code",
   "execution_count": null,
   "metadata": {
    "vscode": {
     "languageId": "r"
    }
   },
   "outputs": [],
   "source": [
    "code_dir <- getwd()\n",
    "project_dir <- file.path(code_dir, \"..\")\n",
    "input_dir <- file.path(code_dir, \"../sourcedata\")\n",
    "output_dir <- file.path(code_dir, \"../output/descriptives_supratentorial\")\n",
    "plot_dir <- file.path(code_dir, \"../output/plots_supratentorial\")\n",
    "\n",
    "# Check if the directories exists\n",
    "\n",
    "for (dir in c(output_dir, plot_dir)) {\n",
    "  # Check if the directory exists\n",
    "  if (!dir.exists(dir)) {\n",
    "    # Create the directory if it does not exist\n",
    "    dir.create(dir)\n",
    "    cat(\"Created directory:\", dir, \"\\n\")\n",
    "  } else {\n",
    "    cat(\"Directory already exists:\", dir, \"\\n\")\n",
    "  }\n",
    "}"
   ]
  },
  {
   "cell_type": "markdown",
   "metadata": {},
   "source": [
    "# Load dataframes"
   ]
  },
  {
   "cell_type": "code",
   "execution_count": null,
   "metadata": {
    "vscode": {
     "languageId": "r"
    }
   },
   "outputs": [],
   "source": [
    "df_joined <- read_csv(file.path(input_dir, \"df_joined.csv\"))\n",
    "df_esoc_norm <- read_csv(file.path(input_dir, \"df_normalized.csv\"))"
   ]
  },
  {
   "attachments": {},
   "cell_type": "markdown",
   "metadata": {},
   "source": [
    "# Figures"
   ]
  },
  {
   "attachments": {},
   "cell_type": "markdown",
   "metadata": {},
   "source": [
    "## Lesion volumes"
   ]
  },
  {
   "cell_type": "markdown",
   "metadata": {},
   "source": [
    "### Load data"
   ]
  },
  {
   "cell_type": "code",
   "execution_count": null,
   "metadata": {
    "vscode": {
     "languageId": "r"
    }
   },
   "outputs": [],
   "source": [
    "df_patients_supratentorial_lesionvolumes <- df_joined[df_joined$group == \"pat\" & df_joined$lesion_location_category %in% c(\"cortical\",\"subcortical\",\"cortical_subcortical\"), ]\n",
    "\n",
    "# Remove subjects with missing DWI data\n",
    "df_patients_supratentorial_lesionvolumes <- drop_na(df_patients_supratentorial_lesionvolumes, \"lesionanalysis_lesion_mean_FW\")\n",
    "\n",
    "df_patients_supratentorial_lesionvolumes <- df_patients_supratentorial_lesionvolumes[, c(\"sub_id\", \"ses_id\", \"lesion_volume\")]\n",
    "df_patients_supratentorial_lesionvolumes$ses_id <- factor(df_patients_supratentorial_lesionvolumes$ses_id, levels = 1:4, labels = c(\"3-5 days\", \"1 month\", \"3 months\", \"1 year\"))"
   ]
  },
  {
   "cell_type": "markdown",
   "metadata": {},
   "source": [
    "### Plot lesion volume per time point"
   ]
  },
  {
   "cell_type": "code",
   "execution_count": null,
   "metadata": {
    "vscode": {
     "languageId": "r"
    }
   },
   "outputs": [],
   "source": [
    "# Create figure\n",
    "df_patients_supratentorial_lesionvolumes %>% \n",
    "ggplot(aes(x=ses_id, y=lesion_volume, fill=ses_id)) + \n",
    "geom_boxplot(position = position_dodge(width=0.8), width=0.6) +\n",
    "scale_fill_brewer(palette = \"Greens\") +\n",
    "guides(fill = FALSE) +\n",
    "theme_test() + labs(y = \"Lesion volume [ml]\", x = \"Time point\") -> lesion_volume_per_tp\n",
    "\n",
    "# Display figure\n",
    "lesion_volume_per_tp\n",
    "\n",
    "# Save figure\n",
    "ggsave(file.path(plot_dir, \"lesion_volume_per_tp.png\"), plot = lesion_volume_per_tp, dpi = 300, width = 6, height = 5)"
   ]
  },
  {
   "cell_type": "markdown",
   "metadata": {},
   "source": [
    "### Calculate mean and SD of lesion volume per time point"
   ]
  },
  {
   "cell_type": "code",
   "execution_count": null,
   "metadata": {
    "vscode": {
     "languageId": "r"
    }
   },
   "outputs": [],
   "source": [
    "df_patients_supratentorial_lesionvolumes %>%\n",
    "group_by(ses_id) %>%\n",
    "summarise(mean_lesionvolume = mean(lesion_volume), sd_lesionvolume = sd(lesion_volume), observations = nrow(lesion_volume)) -> lesion_volumes\n",
    "\n",
    "lesion_volumes\n",
    "\n",
    "write.csv(lesion_volumes, file.path(output_dir, \"df_lesion_volumes.csv\"), row.names = FALSE)"
   ]
  },
  {
   "attachments": {},
   "cell_type": "markdown",
   "metadata": {},
   "source": [
    "## Boxplots of FW and FAt averaged across lesion and shells"
   ]
  },
  {
   "attachments": {},
   "cell_type": "markdown",
   "metadata": {},
   "source": [
    "### Load data"
   ]
  },
  {
   "cell_type": "code",
   "execution_count": null,
   "metadata": {
    "vscode": {
     "languageId": "r"
    }
   },
   "outputs": [],
   "source": [
    "df_average_ipsicontra_supratentorial <- read_csv(file.path(input_dir, \"df_average_ipsicontra_supratentorial_data.csv\"))\n",
    "df_average_ipsicontra_supratentorial$ses_id <- factor(df_average_ipsicontra_supratentorial$ses_id, levels = 1:4, labels = c(\"3-5 days\", \"1 month\", \"3 months\", \"1 year\"))"
   ]
  },
  {
   "attachments": {},
   "cell_type": "markdown",
   "metadata": {},
   "source": [
    "### Average FW ipilateral vs contralateral at different time point"
   ]
  },
  {
   "cell_type": "code",
   "execution_count": null,
   "metadata": {
    "vscode": {
     "languageId": "r"
    }
   },
   "outputs": [],
   "source": [
    "# Create figure\n",
    "df_average_ipsicontra_supratentorial %>% \n",
    "ggplot(aes(x=ses_id, y=fw, fill=location_fw)) + \n",
    "geom_boxplot(position = position_dodge(width=0.8), width=0.6) +\n",
    "scale_x_discrete(expand = expansion(add = 0.6)) +\n",
    "scale_fill_brewer(palette=\"Blues\", direction=-1) +\n",
    "theme_test() + labs(y = \"FW\", x = \"\", fill = \"Location\") -> fw_ipsicontra\n",
    "\n",
    "# Display figure\n",
    "fw_ipsicontra\n",
    "\n",
    "# Save figure\n",
    "ggsave(file.path(plot_dir, \"fw_ipsicontra_all_supratentorial_barplot.png\"), plot = fw_ipsicontra, dpi = 300, width = 6, height = 5)"
   ]
  },
  {
   "attachments": {},
   "cell_type": "markdown",
   "metadata": {},
   "source": [
    "### Average FAt ipsilateral vs contralateral at different time point"
   ]
  },
  {
   "cell_type": "code",
   "execution_count": null,
   "metadata": {
    "vscode": {
     "languageId": "r"
    }
   },
   "outputs": [],
   "source": [
    "# Create figure\n",
    "df_average_ipsicontra_supratentorial %>% \n",
    "ggplot(aes(x=ses_id, y=fat, fill=location_fat)) + \n",
    "geom_boxplot(position = position_dodge(width=0.8), width=0.6) +\n",
    "scale_x_discrete(expand = expansion(add = 0.6)) +\n",
    "scale_fill_brewer(palette=\"Reds\", direction=-1) +\n",
    "theme_test() + labs(y = expression(FA[T]), x = \"\", fill = \"Location\") -> fat_ipsicontra\n",
    "\n",
    "# Display figure\n",
    "fat_ipsicontra\n",
    "\n",
    "# Save figure\n",
    "ggsave(file.path(plot_dir, \"fat_ipsicontra_all_supratentorial_barplot.png\"), plot = fat_ipsicontra, dpi = 300, width = 6, height = 5)"
   ]
  },
  {
   "cell_type": "markdown",
   "metadata": {},
   "source": [
    "## Relative diffusion measures averaged across regions of interest for each time point"
   ]
  },
  {
   "cell_type": "markdown",
   "metadata": {},
   "source": [
    "### Load data"
   ]
  },
  {
   "cell_type": "code",
   "execution_count": null,
   "metadata": {
    "vscode": {
     "languageId": "r"
    }
   },
   "outputs": [],
   "source": [
    "df_patients_supratentorial_all <- df_esoc_norm[df_esoc_norm$group == \"pat\" & df_esoc_norm$lesion_location_category %in% c(\"cortical\",\"subcortical\",\"cortical_subcortical\"), ]\n",
    "df_patients_supratentorial_all <- drop_na(df_patients_supratentorial_all, \"lesionanalysis_lesion_mean_FW\")\n",
    "df_patients_supratentorial_all$ses_id <- factor(df_patients_supratentorial_all$ses_id, levels = 1:4, labels = c(\"3-5 days\", \"1 month\", \"3 months\", \"1 year\"))\n",
    "df_patients_supratentorial_all$location <- factor(df_patients_supratentorial_all$location, levels = c(\"lesion\",\"2mm\",\"4mm\",\"6mm\",\"8mm\",\"10mm\",\"12mm\",\"14mm\",\"16mm\"))"
   ]
  },
  {
   "cell_type": "markdown",
   "metadata": {},
   "source": [
    "### Calculate mean and SD of relative free-water"
   ]
  },
  {
   "cell_type": "code",
   "execution_count": null,
   "metadata": {
    "vscode": {
     "languageId": "r"
    }
   },
   "outputs": [],
   "source": [
    "df_fw_per_timepoint <- df_patients_supratentorial_all %>% group_by(ses_id) %>% summarise(mean(fw), sd(fw))\n",
    "\n",
    "df_fw_per_timepoint\n",
    "\n",
    "write.csv(df_fw_per_timepoint, file.path(output_dir, \"df_fw_per_timepoint_supratentorial.csv\"), row.names = FALSE)"
   ]
  },
  {
   "cell_type": "markdown",
   "metadata": {},
   "source": [
    "### Plot average of relative free-water by time point"
   ]
  },
  {
   "cell_type": "code",
   "execution_count": null,
   "metadata": {
    "vscode": {
     "languageId": "r"
    }
   },
   "outputs": [],
   "source": [
    "# Create figure\n",
    "df_fw_per_timepoint %>% \n",
    "ggplot(aes(x=ses_id, y=`mean(fw)`, fill = ses_id)) + \n",
    "geom_bar(color=\"black\",position = \"dodge\", stat=\"summary\", fun = \"mean\") +\n",
    "geom_errorbar(aes(ymin=`mean(fw)`-`sd(fw)`, ymax=`mean(fw)`+`sd(fw)`), width=.2, position=position_dodge(.9)) +\n",
    "geom_signif(comparisons = list(c(\"3-5 days\", \"3 months\")), annotation = \"***\") +\n",
    "geom_signif(comparisons = list(c(\"3-5 days\", \"1 year\")), y_position=1.7,annotation = \"***\") +\n",
    "geom_signif(comparisons = list(c(\"1 month\", \"1 year\")), y_position=2.2, annotation = \"***\") +\n",
    "geom_signif(comparisons = list(c(\"1 month\", \"3 months\")), y_position=2,annotation = \"***\") +\n",
    "geom_signif(comparisons = list(c(\"3 months\", \"1 year\")), y_position=2.5,annotation = \"***\") +\n",
    "geom_hline(yintercept=0, linetype = \"solid\", color = \"red\") +\n",
    "scale_fill_brewer(palette=\"Blues\", direction=-1) +\n",
    "theme_test() + labs(y = \"FW [(ipsi-contra)/contra]\", x = \"\", fill = \"Time Point\") + \n",
    "ylim(-0.5,2.7) -> fw_normalized_barplot\n",
    "\n",
    "# Display figure\n",
    "fw_normalized_barplot\n",
    "\n",
    "# Save figure\n",
    "ggsave(file.path(plot_dir, \"fw_normalized_all_supratentorial_barplot.png\"), plot = fw_normalized_barplot, dpi = 300, width = 6, height = 5)"
   ]
  },
  {
   "cell_type": "markdown",
   "metadata": {
    "vscode": {
     "languageId": "r"
    }
   },
   "source": [
    "### Plot average of relative free-water by time point and shell"
   ]
  },
  {
   "cell_type": "code",
   "execution_count": null,
   "metadata": {
    "vscode": {
     "languageId": "r"
    }
   },
   "outputs": [],
   "source": [
    "# Create figure\n",
    "df_patients_supratentorial_all %>% \n",
    "ggplot(aes(x=ses_id, y=fw, fill=location)) + \n",
    "annotate(geom = \"rect\", xmin= 0.55, xmax= 1.45, ymin=0, ymax = 0.109, color = \"black\", alpha=0.1) +\n",
    "annotate(geom = \"rect\", xmin= 1.55, xmax= 2.45, ymin=0, ymax = 0.197, color = \"black\", alpha=0.2) +\n",
    "annotate(geom = \"rect\", xmin= 2.55, xmax= 3.45, ymin=0, ymax = 0.389, color = \"black\", alpha=0.3) +\n",
    "annotate(geom = \"rect\", xmin= 3.55, xmax= 4.45, ymin=0, ymax = 0.614, color = \"black\", alpha=0.4) +\n",
    "\n",
    "geom_hline(yintercept=0, linetype = \"solid\", color = \"red\") +\n",
    "\n",
    "geom_boxplot(position = position_dodge(width=0.8), width=0.6) +\n",
    "\n",
    "annotate(geom = \"text\", x=0.65, y=-0.8, label=\"*\",fontface=\"bold\",color = \"red\") + \n",
    "annotate(geom = \"text\", x=0.74, y=-0.8, label=\"*\",fontface=\"bold\",color = \"red\") +\n",
    "annotate(geom = \"text\", x=0.83, y=-0.8, label=\"*\",fontface=\"bold\",color = \"red\") + \n",
    "annotate(geom = \"text\", x=0.92, y=-0.8, label=\"*\",fontface=\"bold\",color = \"red\") +\n",
    "annotate(geom = \"text\", x=1.01, y=-0.8, label=\"*\",fontface=\"bold\",color = \"red\") +\n",
    "#annotate(geom = \"text\", x=1.28, y=-0.6, label=\"*\",fontface=\"bold\",color = \"red\") + \n",
    "annotate(geom = \"text\", x=1.37, y=-0.8, label=\"*\",fontface=\"bold\",color = \"red\") +\n",
    "\n",
    "annotate(geom = \"text\", x=1.65, y=-0.8, label=\"*\",fontface=\"bold\",color = \"red\") + \n",
    "annotate(geom = \"text\", x=1.74, y=-0.8, label=\"*\",fontface=\"bold\",color = \"red\") +\n",
    "annotate(geom = \"text\", x=1.92, y=-0.8, label=\"*\",fontface=\"bold\",color = \"red\") +\n",
    "annotate(geom = \"text\", x=2.01, y=-0.8, label=\"*\",fontface=\"bold\",color = \"red\") +\n",
    "annotate(geom = \"text\", x=2.19, y=-0.8, label=\"*\",fontface=\"bold\",color = \"red\") +\n",
    "annotate(geom = \"text\", x=2.37, y=-0.8, label=\"*\",fontface=\"bold\",color = \"red\") +\n",
    "\n",
    "annotate(geom = \"text\", x=2.65, y=-0.8, label=\"*\",fontface=\"bold\",color = \"red\") + \n",
    "annotate(geom = \"text\", x=2.74, y=-0.8, label=\"*\",fontface=\"bold\",color = \"red\") +\n",
    "annotate(geom = \"text\", x=2.83, y=-0.8, label=\"*\",fontface=\"bold\",color = \"red\") + \n",
    "annotate(geom = \"text\", x=2.92, y=-0.8, label=\"*\",fontface=\"bold\",color = \"red\") +\n",
    "annotate(geom = \"text\", x=3.01, y=-0.8, label=\"*\",fontface=\"bold\",color = \"red\") +\n",
    "annotate(geom = \"text\", x=3.10, y=-0.8, label=\"*\",fontface=\"bold\",color = \"red\") +\n",
    "annotate(geom = \"text\", x=3.19, y=-0.8, label=\"*\",fontface=\"bold\",color = \"red\") +\n",
    "annotate(geom = \"text\", x=3.28, y=-0.8, label=\"*\",fontface=\"bold\",color = \"red\") +\n",
    "annotate(geom = \"text\", x=3.37, y=-0.8, label=\"*\",fontface=\"bold\",color = \"red\") +\n",
    "\n",
    "\n",
    "annotate(geom = \"text\", x=3.65, y=-0.8, label=\"*\",fontface=\"bold\",color = \"red\") + \n",
    "annotate(geom = \"text\", x=3.74, y=-0.8, label=\"*\",fontface=\"bold\",color = \"red\") +\n",
    "annotate(geom = \"text\", x=3.83, y=-0.8, label=\"*\",fontface=\"bold\",color = \"red\") + \n",
    "annotate(geom = \"text\", x=3.92, y=-0.8, label=\"*\",fontface=\"bold\",color = \"red\") +\n",
    "annotate(geom = \"text\", x=4.01, y=-0.8, label=\"*\",fontface=\"bold\",color = \"red\") + \n",
    "annotate(geom = \"text\", x=4.10, y=-0.8, label=\"*\",fontface=\"bold\",color = \"red\") +\n",
    "annotate(geom = \"text\", x=4.19, y=-0.8, label=\"*\",fontface=\"bold\",color = \"red\") + \n",
    "annotate(geom = \"text\", x=4.28, y=-0.8, label=\"*\",fontface=\"bold\",color = \"red\") +\n",
    "annotate(geom = \"text\", x=4.37, y=-0.8, label=\"*\",fontface=\"bold\",color = \"red\") +\n",
    "\n",
    "scale_x_discrete(expand = expansion(add = 0.6)) +\n",
    "scale_fill_brewer(palette=\"Blues\", direction=-1) +\n",
    "theme_test() + labs(y = \"FW [(ipsi-contra)/contra]\", x = \"\", fill = \"Location\") + \n",
    "ylim(-0.8,7) -> fw_normalized_all_boxplot\n",
    "\n",
    "# Display figure\n",
    "fw_normalized_all_boxplot\n",
    "\n",
    "# Save figure\n",
    "ggsave(file.path(plot_dir, \"fw_normalized_all_supratentorial_boxplot.png\"), plot = fw_normalized_all_boxplot, dpi = 300, width = 6, height = 5)"
   ]
  },
  {
   "cell_type": "markdown",
   "metadata": {},
   "source": [
    "### Plot average of relative free-water by time point and shell (only 3-5 days, 1 month)\n"
   ]
  },
  {
   "cell_type": "code",
   "execution_count": null,
   "metadata": {
    "vscode": {
     "languageId": "r"
    }
   },
   "outputs": [],
   "source": [
    "df_patients_supratentorial_all_tp1_2 <- df_patients_supratentorial_all[df_patients_supratentorial_all$ses_id %in% c(\"3-5 days\", \"1 month\"), ]"
   ]
  },
  {
   "cell_type": "code",
   "execution_count": null,
   "metadata": {
    "vscode": {
     "languageId": "r"
    }
   },
   "outputs": [],
   "source": [
    "#tiff(\"../plots/fw_normalized_all_boxplot_tp1_2.tiff\", units=\"in\", width=6, height=5, res=300)\n",
    "df_patients_supratentorial_all_tp1_2 %>% \n",
    "ggplot(aes(x=ses_id, y=fw, fill=location)) + \n",
    "annotate(geom = \"rect\", xmin= 0.55, xmax= 1.45, ymin=0, ymax = 0.131, color = \"black\", alpha=0.1) +\n",
    "annotate(geom = \"rect\", xmin= 1.55, xmax= 2.45, ymin=0, ymax = 0.187, color = \"black\", alpha=0.2) +\n",
    "geom_hline(yintercept=0, linetype = \"solid\", color = \"red\") +\n",
    "geom_boxplot(position = position_dodge(width=0.8), width=0.6) +\n",
    "annotate(geom = \"text\", x=0.65, y=-0.6, label=\"*\",fontface=\"bold\",color = \"red\") + \n",
    "annotate(geom = \"text\", x=0.74, y=-0.6, label=\"*\",fontface=\"bold\",color = \"red\") +\n",
    "annotate(geom = \"text\", x=0.83, y=-0.6, label=\"*\",fontface=\"bold\",color = \"red\") + \n",
    "annotate(geom = \"text\", x=0.92, y=-0.6, label=\"*\",fontface=\"bold\",color = \"red\") +\n",
    "annotate(geom = \"text\", x=1.01, y=-0.6, label=\"*\",fontface=\"bold\",color = \"red\") +\n",
    "annotate(geom = \"text\", x=1.28, y=-0.6, label=\"*\",fontface=\"bold\",color = \"red\") + \n",
    "annotate(geom = \"text\", x=1.37, y=-0.6, label=\"*\",fontface=\"bold\",color = \"red\") +\n",
    "\n",
    "annotate(geom = \"text\", x=1.65, y=-0.6, label=\"*\",fontface=\"bold\",color = \"red\") + \n",
    "annotate(geom = \"text\", x=1.74, y=-0.6, label=\"*\",fontface=\"bold\",color = \"red\") +\n",
    "\n",
    "scale_x_discrete(expand = expansion(add = 0.6)) +\n",
    "scale_fill_brewer(palette=\"Blues\", direction=-1) +\n",
    "theme_test() + labs(y = \"FW [(ipsi-contra)/contra]\", x = \"\", fill = \"Location\") + \n",
    "ylim(-0.7,2.5)\n",
    "#dev.off()\n"
   ]
  },
  {
   "cell_type": "markdown",
   "metadata": {},
   "source": [
    "### Calculate mean and SD of relative FA-t"
   ]
  },
  {
   "cell_type": "code",
   "execution_count": null,
   "metadata": {
    "vscode": {
     "languageId": "r"
    }
   },
   "outputs": [],
   "source": [
    "df_fat_per_timepoint <- df_patients_supratentorial_all %>% group_by(ses_id) %>% summarise(mean(fat), sd(fat))\n",
    "\n",
    "df_fat_per_timepoint\n",
    "\n",
    "write.csv(df_fat_per_timepoint, file.path(output_dir, \"df_fat_per_timepoint_supratentorial.csv\"), row.names = FALSE)"
   ]
  },
  {
   "attachments": {},
   "cell_type": "markdown",
   "metadata": {},
   "source": [
    "### Plot average of relative FA-t by time point"
   ]
  },
  {
   "cell_type": "code",
   "execution_count": null,
   "metadata": {
    "vscode": {
     "languageId": "r"
    }
   },
   "outputs": [],
   "source": [
    "#tiff(\"../plots/fat_normalized_all_barplot.tiff\", units=\"in\", width=6, height=5, res=300)\n",
    "df_fat_per_timepoint %>% \n",
    "ggplot(aes(x=ses_id, y=`mean(fat)`, fill = ses_id)) + \n",
    "geom_bar(color=\"black\",position = \"dodge\", stat=\"summary\", fun = \"mean\") +\n",
    "geom_errorbar(aes(ymin=`mean(fat)`-`sd(fat)`, ymax=`mean(fat)`+`sd(fat)`), width=.2, position=position_dodge(.9)) +\n",
    "geom_signif(comparisons = list(c(\"3-5 days\", \"1 month\")),annotation = \"***\") +\n",
    "geom_signif(comparisons = list(c(\"3-5 days\", \"3 months\")),y_position=0.085, annotation = \"*\") +\n",
    "geom_signif(comparisons = list(c(\"1 month\", \"1 year\")), y_position=0.13, annotation = \"***\") +\n",
    "geom_signif(comparisons = list(c(\"3 months\", \"1 year\")), y_position=0.11,annotation = \"*\") +\n",
    "geom_hline(yintercept=0, linetype = \"solid\", color = \"red\") +\n",
    "scale_fill_brewer(palette=\"Reds\", direction=-1) +\n",
    "theme_test() + labs(y = expression(FA[T]*\" [(ipsi-contra)/contra]\"), x = \"\", fill = \"Time Point\") + \n",
    "#theme(legend.position = \"none\") + \n",
    "ylim(-0.23,0.17) -> fat_normalized_barplot\n",
    "\n",
    "# Display figure\n",
    "fat_normalized_barplot\n",
    "\n",
    "# Save figure\n",
    "ggsave(file.path(plot_dir, \"fat_normalized_all_supratentorial_barplot.png\"), plot = fat_normalized_barplot, dpi = 300, width = 6, height = 5)"
   ]
  },
  {
   "cell_type": "markdown",
   "metadata": {},
   "source": [
    "### Plot average of relative FA-t by time point and shell"
   ]
  },
  {
   "cell_type": "code",
   "execution_count": null,
   "metadata": {
    "vscode": {
     "languageId": "r"
    }
   },
   "outputs": [],
   "source": [
    "# Create figure\n",
    "df_patients_supratentorial_all %>% \n",
    "ggplot(aes(x=ses_id, y=fat, fill=location)) +\n",
    "annotate(geom = \"rect\", xmin= 0.55, xmax= 1.45, ymin=0, ymax = -0.062, color = \"black\", alpha=0.1) +\n",
    "annotate(geom = \"rect\", xmin= 1.55, xmax= 2.45, ymin=0, ymax = -0.090, color = \"black\", alpha=0.2) +\n",
    "annotate(geom = \"rect\", xmin= 2.55, xmax= 3.45, ymin=0, ymax = -0.077, color = \"black\", alpha=0.3) +\n",
    "annotate(geom = \"rect\", xmin= 3.55, xmax= 4.45, ymin=0, ymax = -0.057, color = \"black\", alpha=0.4) + \n",
    "geom_hline(yintercept=0, linetype = \"solid\", color = \"red\") +\n",
    "geom_boxplot(position = position_dodge(width=0.8), width=0.6) +\n",
    "annotate(geom = \"text\", x=0.65, y=0.3, label=\"*\",fontface=\"bold\",color = \"red\") + \n",
    "annotate(geom = \"text\", x=0.74, y=0.3, label=\"*\",fontface=\"bold\",color = \"red\") +\n",
    "annotate(geom = \"text\", x=1.19, y=0.3, label=\"*\",fontface=\"bold\",color = \"red\") + \n",
    "annotate(geom = \"text\", x=1.28, y=0.3, label=\"*\",fontface=\"bold\",color = \"red\") + \n",
    "annotate(geom = \"text\", x=1.37, y=0.3, label=\"*\",fontface=\"bold\",color = \"red\") +\n",
    "\n",
    "annotate(geom = \"text\", x=1.65, y=0.3, label=\"*\",fontface=\"bold\",color = \"red\") + \n",
    "annotate(geom = \"text\", x=1.74, y=0.3, label=\"*\",fontface=\"bold\",color = \"red\") +\n",
    "annotate(geom = \"text\", x=1.83, y=0.3, label=\"*\",fontface=\"bold\",color = \"red\") + \n",
    "annotate(geom = \"text\", x=1.92, y=0.3, label=\"*\",fontface=\"bold\",color = \"red\") +\n",
    "annotate(geom = \"text\", x=2.01, y=0.3, label=\"*\",fontface=\"bold\",color = \"red\") + \n",
    "annotate(geom = \"text\", x=2.10, y=0.3, label=\"*\",fontface=\"bold\",color = \"red\") +\n",
    "annotate(geom = \"text\", x=2.19, y=0.3, label=\"*\",fontface=\"bold\",color = \"red\") + \n",
    "annotate(geom = \"text\", x=2.28, y=0.3, label=\"*\",fontface=\"bold\",color = \"red\") +\n",
    "annotate(geom = \"text\", x=2.37, y=0.3, label=\"*\",fontface=\"bold\",color = \"red\") +\n",
    "\n",
    "annotate(geom = \"text\", x=2.65, y=0.3, label=\"*\",fontface=\"bold\",color = \"red\") + \n",
    "annotate(geom = \"text\", x=2.74, y=0.3, label=\"*\",fontface=\"bold\",color = \"red\") +\n",
    "annotate(geom = \"text\", x=2.83, y=0.3, label=\"*\",fontface=\"bold\",color = \"red\") + \n",
    "annotate(geom = \"text\", x=2.92, y=0.3, label=\"*\",fontface=\"bold\",color = \"red\") +\n",
    "annotate(geom = \"text\", x=3.01, y=0.3, label=\"*\",fontface=\"bold\",color = \"red\") + \n",
    "annotate(geom = \"text\", x=3.10, y=0.3, label=\"*\",fontface=\"bold\",color = \"red\") +\n",
    "annotate(geom = \"text\", x=3.19, y=0.3, label=\"*\",fontface=\"bold\",color = \"red\") +\n",
    "annotate(geom = \"text\", x=3.28, y=0.3, label=\"*\",fontface=\"bold\",color = \"red\") +\n",
    "annotate(geom = \"text\", x=3.37, y=0.3, label=\"*\",fontface=\"bold\",color = \"red\") +\n",
    "\n",
    "annotate(geom = \"text\", x=3.65, y=0.3, label=\"*\",fontface=\"bold\",color = \"red\") + \n",
    "annotate(geom = \"text\", x=3.74, y=0.3, label=\"*\",fontface=\"bold\",color = \"red\") +\n",
    "annotate(geom = \"text\", x=3.83, y=0.3, label=\"*\",fontface=\"bold\",color = \"red\") + \n",
    "annotate(geom = \"text\", x=3.92, y=0.3, label=\"*\",fontface=\"bold\",color = \"red\") +\n",
    "annotate(geom = \"text\", x=4.01, y=0.3, label=\"*\",fontface=\"bold\",color = \"red\") +\n",
    "annotate(geom = \"text\", x=4.10, y=0.3, label=\"*\",fontface=\"bold\",color = \"red\") + \n",
    "annotate(geom = \"text\", x=4.28, y=0.3, label=\"*\",fontface=\"bold\",color = \"red\") + \n",
    "annotate(geom = \"text\", x=4.37, y=0.3, label=\"*\",fontface=\"bold\",color = \"red\") + \n",
    "\n",
    "\n",
    "scale_x_discrete(expand = expansion(add = 0.6)) +\n",
    "scale_fill_brewer(palette=\"Reds\", direction=-1) +\n",
    "theme_test() + labs(y = expression(FA[T]*\" [(ipsi-contra)/contra]\"), x = \"\", fill = \"Location\") + \n",
    "ylim(-0.6,0.47) -> fat_normalized_all_boxplot\n",
    "\n",
    "# Display figure\n",
    "fat_normalized_all_boxplot\n",
    "\n",
    "# Save figure\n",
    "ggsave(file.path(plot_dir, \"fat_normalized_all_supratentorial_boxplot.png\"), plot = fat_normalized_all_boxplot, dpi = 300, width = 6, height = 5)"
   ]
  },
  {
   "cell_type": "markdown",
   "metadata": {},
   "source": [
    "## Plot average diffusion measures by shell for each time point separately"
   ]
  },
  {
   "cell_type": "markdown",
   "metadata": {},
   "source": [
    "### Load data"
   ]
  },
  {
   "cell_type": "code",
   "execution_count": null,
   "metadata": {
    "vscode": {
     "languageId": "r"
    }
   },
   "outputs": [],
   "source": [
    "# Session 1\n",
    "df_patients_supratentorial_ses1 <- df_esoc_norm[df_esoc_norm$group == \"pat\" & df_esoc_norm$ses_id == \"1\" & df_esoc_norm$lesion_location_category %in% c(\"cortical\",\"subcortical\",\"cortical_subcortical\"), ]\n",
    "df_patients_supratentorial_ses1 <- drop_na(df_patients_supratentorial_ses1, \"lesionanalysis_lesion_mean_FW\")\n",
    "df_patients_supratentorial_ses1$location <- factor(df_patients_supratentorial_ses1$location, levels = c(\"lesion\",\"2mm\",\"4mm\",\"6mm\",\"8mm\",\"10mm\",\"12mm\",\"14mm\",\"16mm\"))\n",
    "\n",
    "#df$sex, levels = 0:1, labels = c(\"female\", \"male\")\n",
    "\n",
    "# Session 2\n",
    "df_patients_supratentorial_ses2 <- df_esoc_norm[df_esoc_norm$group == \"pat\" & df_esoc_norm$ses_id == \"2\" & df_esoc_norm$lesion_location_category %in% c(\"cortical\",\"subcortical\",\"cortical_subcortical\"), ]\n",
    "df_patients_supratentorial_ses2 <- drop_na(df_patients_supratentorial_ses2, c(\"sub_id\", \"lesionanalysis_lesion_mean_FW\"))\n",
    "df_patients_supratentorial_ses2$location <- factor(df_patients_supratentorial_ses2$location, levels = c(\"lesion\",\"2mm\",\"4mm\",\"6mm\",\"8mm\",\"10mm\",\"12mm\",\"14mm\",\"16mm\"))\n",
    "\n",
    "# Session 3\n",
    "df_patients_supratentorial_ses3 <- df_esoc_norm[df_esoc_norm$group == \"pat\" & df_esoc_norm$ses_id == \"3\" & df_esoc_norm$lesion_location_category %in% c(\"cortical\",\"subcortical\",\"cortical_subcortical\"), ]\n",
    "df_patients_supratentorial_ses3 <- drop_na(df_patients_supratentorial_ses3, c(\"sub_id\", \"lesionanalysis_lesion_mean_FW\"))\n",
    "df_patients_supratentorial_ses3$location <- factor(df_patients_supratentorial_ses3$location, levels = c(\"lesion\",\"2mm\",\"4mm\",\"6mm\",\"8mm\",\"10mm\",\"12mm\",\"14mm\",\"16mm\"))\n",
    "\n",
    "# Session 4\n",
    "df_patients_supratentorial_ses4 <- df_esoc_norm[df_esoc_norm$group == \"pat\" & df_esoc_norm$ses_id == \"4\" & df_esoc_norm$lesion_location_category %in% c(\"cortical\",\"subcortical\",\"cortical_subcortical\"), ]\n",
    "df_patients_supratentorial_ses4 <- drop_na(df_patients_supratentorial_ses4, c(\"sub_id\", \"lesionanalysis_lesion_mean_FW\"))\n",
    "df_patients_supratentorial_ses4$location <- factor(df_patients_supratentorial_ses4$location, levels = c(\"lesion\",\"2mm\",\"4mm\",\"6mm\",\"8mm\",\"10mm\",\"12mm\",\"14mm\",\"16mm\"))\n"
   ]
  },
  {
   "attachments": {},
   "cell_type": "markdown",
   "metadata": {},
   "source": [
    "### Free-water - Session 1"
   ]
  },
  {
   "cell_type": "code",
   "execution_count": null,
   "metadata": {
    "vscode": {
     "languageId": "r"
    }
   },
   "outputs": [],
   "source": [
    "# Create figure\n",
    "df_patients_supratentorial_ses1 %>% \n",
    "ggplot(aes(x=location, y=fw, fill=location)) + \n",
    "geom_boxplot() + \n",
    "geom_jitter(width=0.1,alpha=0.2) +\n",
    "geom_hline(yintercept=0, linetype = \"dashed\", color = \"red\") +\n",
    "scale_fill_brewer(palette=\"Blues\", direction=-1) +\n",
    "theme_test() + labs(y = \"FW [(ipsi-contra)/contra]\", x = \"Location\", fill = \"Location\") + \n",
    "theme(legend.position = \"none\") + \n",
    "ylim(-0.7,7) -> fw_normalized_ses1_boxplot\n",
    "\n",
    "# Display figure\n",
    "fw_normalized_ses1_boxplot\n",
    "\n",
    "# Save figure\n",
    "ggsave(file.path(plot_dir, \"fw_normalized_ses1_supratentorial_boxplot.png\"), plot = fw_normalized_ses1_boxplot, dpi = 300, width = 6, height = 5)"
   ]
  },
  {
   "attachments": {},
   "cell_type": "markdown",
   "metadata": {},
   "source": [
    "### Free-water - Session 2"
   ]
  },
  {
   "cell_type": "code",
   "execution_count": null,
   "metadata": {
    "vscode": {
     "languageId": "r"
    }
   },
   "outputs": [],
   "source": [
    "# Create figure\n",
    "df_patients_supratentorial_ses2 %>% \n",
    "ggplot(aes(x=location, y=fw, fill=location)) + \n",
    "geom_boxplot() + \n",
    "geom_jitter(width=0.1,alpha=0.2) +\n",
    "geom_hline(yintercept=0, linetype = \"dashed\", color = \"red\") +\n",
    "scale_fill_brewer(palette=\"Blues\", direction=-1) +\n",
    "theme_test() + labs(y = \"FW [(ipsi-contra)/contra]\", x = \"Location\", fill = \"Location\") + \n",
    "theme(legend.position = \"none\") + \n",
    "ylim(-0.7,7) -> fw_normalized_ses2_boxplot\n",
    "\n",
    "# Display figure\n",
    "fw_normalized_ses2_boxplot\n",
    "\n",
    "# Save figure\n",
    "ggsave(file.path(plot_dir, \"fw_normalized_ses2_supratentorial_boxplot.png\"), plot = fw_normalized_ses2_boxplot, dpi = 300, width = 6, height = 5)"
   ]
  },
  {
   "attachments": {},
   "cell_type": "markdown",
   "metadata": {},
   "source": [
    "### Free-water - Session 3"
   ]
  },
  {
   "cell_type": "code",
   "execution_count": null,
   "metadata": {
    "vscode": {
     "languageId": "r"
    }
   },
   "outputs": [],
   "source": [
    "# Create figure\n",
    "df_patients_supratentorial_ses3 %>% \n",
    "ggplot(aes(x=location, y=fw, fill=location)) + \n",
    "geom_boxplot() + \n",
    "geom_jitter(width=0.1,alpha=0.2) +\n",
    "geom_hline(yintercept=0, linetype = \"dashed\", color = \"red\") +\n",
    "scale_fill_brewer(palette=\"Blues\", direction=-1) +\n",
    "theme_test() + labs(y = \"FW [(ipsi-contra)/contra]\", x = \"Location\", fill = \"Location\") + \n",
    "theme(legend.position = \"none\") + \n",
    "ylim(-0.7,7) -> fw_normalized_ses3_boxplot\n",
    "\n",
    "# Display figure\n",
    "fw_normalized_ses3_boxplot\n",
    "\n",
    "# Save figure\n",
    "ggsave(file.path(plot_dir, \"fw_normalized_ses3_supratentorial_boxplot.png\"), plot = fw_normalized_ses3_boxplot, dpi = 300, width = 6, height = 5)"
   ]
  },
  {
   "attachments": {},
   "cell_type": "markdown",
   "metadata": {},
   "source": [
    "### Free-water - Session 4"
   ]
  },
  {
   "cell_type": "code",
   "execution_count": null,
   "metadata": {
    "vscode": {
     "languageId": "r"
    }
   },
   "outputs": [],
   "source": [
    "# Create figure\n",
    "df_patients_supratentorial_ses4 %>% \n",
    "ggplot(aes(x=location, y=fw, fill=location)) + \n",
    "geom_boxplot() + \n",
    "geom_jitter(width=0.1,alpha=0.2) +\n",
    "geom_hline(yintercept=0, linetype = \"dashed\", color = \"red\") +\n",
    "scale_fill_brewer(palette=\"Blues\", direction=-1) +\n",
    "theme_test() + labs(y = \"FW [(ipsi-contra)/contra]\", x = \"Location\", fill = \"Location\") + \n",
    "theme(legend.position = \"none\") + \n",
    "ylim(-0.5,7) -> fw_normalized_ses4_boxplot\n",
    "\n",
    "# Display figure\n",
    "fw_normalized_ses4_boxplot\n",
    "\n",
    "# Save figure\n",
    "ggsave(file.path(plot_dir, \"fw_normalized_ses4_supratentorial_boxplot.png\"), plot = fw_normalized_ses4_boxplot, dpi = 300, width = 6, height = 5)"
   ]
  },
  {
   "attachments": {},
   "cell_type": "markdown",
   "metadata": {},
   "source": [
    "### FA-t - Session 1"
   ]
  },
  {
   "cell_type": "code",
   "execution_count": null,
   "metadata": {
    "vscode": {
     "languageId": "r"
    }
   },
   "outputs": [],
   "source": [
    "# Create figure\n",
    "df_patients_supratentorial_ses1 %>% \n",
    "ggplot(aes(x=location, y=fat, fill=location)) + \n",
    "geom_boxplot() + \n",
    "geom_jitter(width=0.1,alpha=0.2) +\n",
    "geom_hline(yintercept=0, linetype = \"dashed\", color = \"red\") +\n",
    "scale_fill_brewer(palette=\"Reds\", direction=-1) +\n",
    "theme_test() + labs(y = expression(FA[T]*\" [(ipsi-contra)/contra]\"), x = \"Location\", fill = \"Location\") + \n",
    "theme(legend.position = \"none\") + \n",
    "ylim(-0.6,0.5) -> fat_normalized_ses1_boxplot\n",
    "\n",
    "# Display figure\n",
    "fat_normalized_ses1_boxplot\n",
    "\n",
    "# Save figure\n",
    "ggsave(file.path(plot_dir, \"fat_normalized_ses1_supratentorial_boxplot.png\"), plot = fat_normalized_ses1_boxplot, dpi = 300, width = 6, height = 5)"
   ]
  },
  {
   "attachments": {},
   "cell_type": "markdown",
   "metadata": {},
   "source": [
    "### FA-t - Session 2"
   ]
  },
  {
   "cell_type": "code",
   "execution_count": null,
   "metadata": {
    "vscode": {
     "languageId": "r"
    }
   },
   "outputs": [],
   "source": [
    "# Create figure\n",
    "df_patients_supratentorial_ses2 %>% \n",
    "ggplot(aes(x=location, y=fat, fill=location)) + \n",
    "geom_boxplot() + \n",
    "geom_jitter(width=0.1,alpha=0.2) +\n",
    "geom_hline(yintercept=0, linetype = \"dashed\", color = \"red\") +\n",
    "scale_fill_brewer(palette=\"Reds\", direction=-1) +\n",
    "theme_test() + labs(y = expression(FA[T]*\" [(ipsi-contra)/contra]\"), x = \"Location\", fill = \"Location\") + \n",
    "theme(legend.position = \"none\") + \n",
    "ylim(-0.6,0.5) -> fat_normalized_ses2_boxplot\n",
    "\n",
    "# Display figure\n",
    "fat_normalized_ses2_boxplot\n",
    "\n",
    "# Save figure\n",
    "ggsave(file.path(plot_dir, \"fat_normalized_ses2_supratentorial_boxplot.png\"), plot = fat_normalized_ses2_boxplot, dpi = 300, width = 6, height = 5)"
   ]
  },
  {
   "attachments": {},
   "cell_type": "markdown",
   "metadata": {},
   "source": [
    "### FA-t - Session 3"
   ]
  },
  {
   "cell_type": "code",
   "execution_count": null,
   "metadata": {
    "vscode": {
     "languageId": "r"
    }
   },
   "outputs": [],
   "source": [
    "# Create figure\n",
    "df_patients_supratentorial_ses3 %>% \n",
    "ggplot(aes(x=location, y=fat, fill=location)) + \n",
    "geom_boxplot(show.legend = FALSE) + \n",
    "geom_jitter(width=0.1,alpha=0.2) +\n",
    "geom_hline(yintercept=0, linetype = \"dashed\", color = \"red\") +\n",
    "scale_fill_brewer(palette=\"Reds\", direction=-1) +\n",
    "theme_test() + labs(y = expression(FA[T]*\" [(ipsi-contra)/contra]\"), x = \"Location\", fill = \"Location\") + \n",
    "theme(legend.position = \"none\") + \n",
    "ylim(-0.6,0.5) -> fat_normalized_ses3_boxplot\n",
    "\n",
    "# Display figure\n",
    "fat_normalized_ses3_boxplot\n",
    "\n",
    "# Save figure\n",
    "ggsave(file.path(plot_dir, \"fat_normalized_ses3_supratentorial_boxplot.png\"), plot = fat_normalized_ses3_boxplot, dpi = 300, width = 6, height = 5)"
   ]
  },
  {
   "attachments": {},
   "cell_type": "markdown",
   "metadata": {},
   "source": [
    "### FA-t - Session 4"
   ]
  },
  {
   "cell_type": "code",
   "execution_count": null,
   "metadata": {
    "vscode": {
     "languageId": "r"
    }
   },
   "outputs": [],
   "source": [
    "# Create figure\n",
    "df_patients_supratentorial_ses4 %>% \n",
    "ggplot(aes(x=location, y=fat, fill=location)) + \n",
    "geom_boxplot(show.legend = FALSE) + \n",
    "geom_jitter(width=0.1,alpha=0.2) +\n",
    "geom_hline(yintercept=0, linetype = \"dashed\", color = \"red\") +\n",
    "scale_fill_brewer(palette=\"Reds\", direction=-1) +\n",
    "theme_test() + labs(y = expression(FA[T]*\" [(ipsi-contra)/contra]\"), x = \"Location\", fill = \"Location\") + \n",
    "theme(legend.position = \"none\") +\n",
    "ylim(-0.6,0.5) -> fat_normalized_ses4_boxplot\n",
    "\n",
    "# Display figure\n",
    "fat_normalized_ses4_boxplot\n",
    "\n",
    "# Save figure\n",
    "ggsave(file.path(plot_dir, \"fat_normalized_ses4_supratentorial_boxplot.png\"), plot = fat_normalized_ses4_boxplot, dpi = 300, width = 6, height = 5)"
   ]
  }
 ],
 "metadata": {
  "interpreter": {
   "hash": "670600997a950fa4949c4f437e053972f9e8db0968569fb7ef65a7c862049b6c"
  },
  "kernelspec": {
   "display_name": "R",
   "language": "R",
   "name": "ir"
  },
  "language_info": {
   "codemirror_mode": "r",
   "file_extension": ".r",
   "mimetype": "text/x-r-source",
   "name": "R",
   "pygments_lexer": "r",
   "version": "4.3.2"
  },
  "orig_nbformat": 4
 },
 "nbformat": 4,
 "nbformat_minor": 2
}
