{
 "cells": [
  {
   "cell_type": "markdown",
   "metadata": {},
   "source": [
    "# Load libraries"
   ]
  },
  {
   "cell_type": "code",
   "execution_count": null,
   "metadata": {
    "vscode": {
     "languageId": "r"
    }
   },
   "outputs": [],
   "source": [
    "library(tidyverse)\n",
    "library(ggsignif)\n",
    "library(ggpubr)\n",
    "library(tableone)"
   ]
  },
  {
   "cell_type": "markdown",
   "metadata": {},
   "source": [
    "# Set up paths"
   ]
  },
  {
   "cell_type": "code",
   "execution_count": null,
   "metadata": {
    "vscode": {
     "languageId": "r"
    }
   },
   "outputs": [],
   "source": [
    "code_dir <- getwd()\n",
    "project_dir <- file.path(code_dir, \"..\")\n",
    "input_dir <- file.path(code_dir, \"../sourcedata\")\n",
    "output_dir <- file.path(code_dir, \"../output/sensitivity_analyses\")\n",
    "\n",
    "# Check if the directory exists\n",
    "if (!dir.exists(output_dir)) {\n",
    "  # Create the directory if it does not exist\n",
    "  dir.create(output_dir)\n",
    "  cat(\"Created directory:\", output_dir, \"\\n\")\n",
    "} else {\n",
    "  cat(\"Directory already exists:\", output_dir, \"\\n\")\n",
    "}"
   ]
  },
  {
   "cell_type": "markdown",
   "metadata": {},
   "source": [
    "# Load dataframes"
   ]
  },
  {
   "cell_type": "code",
   "execution_count": null,
   "metadata": {
    "vscode": {
     "languageId": "r"
    }
   },
   "outputs": [],
   "source": [
    "df_joined <- read_csv(file.path(input_dir, \"df_joined.csv\"))\n",
    "df_esoc_norm <- read_csv(file.path(input_dir, \"df_normalized.csv\"))"
   ]
  },
  {
   "cell_type": "markdown",
   "metadata": {},
   "source": [
    "## Prepare dataframes"
   ]
  },
  {
   "cell_type": "markdown",
   "metadata": {},
   "source": [
    "### Dataframe subset with subcortical infarcts and removal of subjects without diffusion data"
   ]
  },
  {
   "cell_type": "code",
   "execution_count": null,
   "metadata": {
    "vscode": {
     "languageId": "r"
    }
   },
   "outputs": [],
   "source": [
    "df_patients_subcortical_all <- df_esoc_norm[df_esoc_norm$group == \"pat\" & df_esoc_norm$lesion_location_category == \"subcortical\", ]\n",
    "df_patients_subcortical_all <- drop_na(df_patients_subcortical_all, \"lesionanalysis_lesion_mean_FW\")\n",
    "df_patients_subcortical_all$ses_id <- factor(df_patients_subcortical_all$ses_id, levels = 1:4, labels = c(\"3-5 days\", \"1 month\", \"3 months\", \"1 year\"))"
   ]
  },
  {
   "cell_type": "code",
   "execution_count": null,
   "metadata": {
    "vscode": {
     "languageId": "r"
    }
   },
   "outputs": [],
   "source": [
    "# Session 1\n",
    "df_patients_subcortical_ses1 <- df_esoc_norm[df_esoc_norm$group == \"pat\" & df_esoc_norm$ses_id == \"1\" & df_esoc_norm$lesion_location_category == \"subcortical\", ]\n",
    "df_patients_subcortical_ses1 <- drop_na(df_patients_subcortical_ses1, \"lesionanalysis_lesion_mean_FW\")\n",
    "df_patients_subcortical_ses1$location <- factor(df_patients_subcortical_ses1$location, levels = c(\"lesion\",\"2mm\",\"4mm\",\"6mm\",\"8mm\",\"10mm\",\"12mm\",\"14mm\",\"16mm\"))\n",
    "\n",
    "#df$sex, levels = 0:1, labels = c(\"female\", \"male\")\n",
    "\n",
    "# Session 2\n",
    "df_patients_subcortical_ses2 <- df_esoc_norm[df_esoc_norm$group == \"pat\" & df_esoc_norm$ses_id == \"2\" & df_esoc_norm$lesion_location_category == \"subcortical\", ]\n",
    "df_patients_subcortical_ses2 <- drop_na(df_patients_subcortical_ses2, c(\"sub_id\", \"lesionanalysis_lesion_mean_FW\"))\n",
    "df_patients_subcortical_ses2$location <- factor(df_patients_subcortical_ses2$location, levels = c(\"lesion\",\"2mm\",\"4mm\",\"6mm\",\"8mm\",\"10mm\",\"12mm\",\"14mm\",\"16mm\"))\n",
    "\n",
    "# Session 3\n",
    "df_patients_subcortical_ses3 <- df_esoc_norm[df_esoc_norm$group == \"pat\" & df_esoc_norm$ses_id == \"3\" & df_esoc_norm$lesion_location_category == \"subcortical\", ]\n",
    "df_patients_subcortical_ses3 <- drop_na(df_patients_subcortical_ses3, c(\"sub_id\", \"lesionanalysis_lesion_mean_FW\"))\n",
    "df_patients_subcortical_ses3$location <- factor(df_patients_subcortical_ses3$location, levels = c(\"lesion\",\"2mm\",\"4mm\",\"6mm\",\"8mm\",\"10mm\",\"12mm\",\"14mm\",\"16mm\"))\n",
    "\n",
    "# Session 4\n",
    "df_patients_subcortical_ses4 <- df_esoc_norm[df_esoc_norm$group == \"pat\" & df_esoc_norm$ses_id == \"4\" & df_esoc_norm$lesion_location_category == \"subcortical\", ]\n",
    "df_patients_subcortical_ses4 <- drop_na(df_patients_subcortical_ses4, c(\"sub_id\", \"lesionanalysis_lesion_mean_FW\"))\n",
    "df_patients_subcortical_ses4$location <- factor(df_patients_subcortical_ses4$location, levels = c(\"lesion\",\"2mm\",\"4mm\",\"6mm\",\"8mm\",\"10mm\",\"12mm\",\"14mm\",\"16mm\"))\n"
   ]
  },
  {
   "cell_type": "markdown",
   "metadata": {},
   "source": [
    "## Baseline associations with age and sex"
   ]
  },
  {
   "cell_type": "markdown",
   "metadata": {},
   "source": [
    "### Prepare data"
   ]
  },
  {
   "cell_type": "code",
   "execution_count": null,
   "metadata": {
    "vscode": {
     "languageId": "r"
    }
   },
   "outputs": [],
   "source": [
    "# Relative diffusion measures averaged perilesionally and within lesion at time point 1\n",
    "df_mean_peri_lesional_ses1 <- df_patients_subcortical_ses1 %>%\n",
    "  group_by(sub_id) %>%\n",
    "  mutate(mean_fat_perilesional = mean(fat[location %in% c(\"2mm\", \"4mm\", \"6mm\", \"8mm\", \"10mm\", \"12mm\", \"14mm\", \"16mm\")], na.rm = TRUE), # Calculate mean for specified locations\n",
    "         fat_lesional = fat[location == \"lesion\"],\n",
    "         mean_fw_perilesional = mean(fw[location %in% c(\"2mm\", \"4mm\", \"6mm\", \"8mm\", \"10mm\", \"12mm\", \"14mm\", \"16mm\")], na.rm = TRUE),\n",
    "         fw_lesional = fw[location == \"lesion\"]) %>%\n",
    "  ungroup()\n",
    "\n",
    "df_mean_peri_lesional_ses1 <- df_mean_peri_lesional_ses1[df_mean_peri_lesional_ses1$location == \"lesion\", ][c(\n",
    "       \"sub_id\", \"ses_id\", \"age\", \"sex\", \"days_since_stroke\", \"scan_interval\", \"mean_fat_perilesional\", \"fat_lesional\", \"mean_fw_perilesional\", \"fw_lesional\")]\n",
    "\n",
    "# Relative diffusion measures averaged perilesionally and within lesion at time point 2\n",
    "df_mean_peri_lesional_ses2 <- df_patients_subcortical_ses2 %>%\n",
    "  group_by(sub_id) %>%\n",
    "  mutate(mean_fat_perilesional = mean(fat[location %in% c(\"2mm\", \"4mm\", \"6mm\", \"8mm\", \"10mm\", \"12mm\", \"14mm\", \"16mm\")], na.rm = TRUE), # Calculate mean for specified locations\n",
    "         fat_lesional = fat[location == \"lesion\"],\n",
    "         mean_fw_perilesional = mean(fw[location %in% c(\"2mm\", \"4mm\", \"6mm\", \"8mm\", \"10mm\", \"12mm\", \"14mm\", \"16mm\")], na.rm = TRUE),\n",
    "         fw_lesional = fw[location == \"lesion\"]) %>%\n",
    "  ungroup()\n",
    "\n",
    "df_mean_peri_lesional_ses2 <- df_mean_peri_lesional_ses2[df_mean_peri_lesional_ses2$location == \"lesion\", ][c(\n",
    "       \"sub_id\", \"ses_id\", \"age\", \"sex\", \"days_since_stroke\", \"scan_interval\", \"mean_fat_perilesional\", \"fat_lesional\", \"mean_fw_perilesional\", \"fw_lesional\")]\n",
    "\n",
    "# Relative diffusion measures averaged perilesionally and within lesion at time point 3\n",
    "df_mean_peri_lesional_ses3 <- df_patients_subcortical_ses3 %>%\n",
    "  group_by(sub_id) %>%\n",
    "  mutate(mean_fat_perilesional = mean(fat[location %in% c(\"2mm\", \"4mm\", \"6mm\", \"8mm\", \"10mm\", \"12mm\", \"14mm\", \"16mm\")], na.rm = TRUE), # Calculate mean for specified locations\n",
    "         fat_lesional = fat[location == \"lesion\"],\n",
    "         mean_fw_perilesional = mean(fw[location %in% c(\"2mm\", \"4mm\", \"6mm\", \"8mm\", \"10mm\", \"12mm\", \"14mm\", \"16mm\")], na.rm = TRUE),\n",
    "         fw_lesional = fw[location == \"lesion\"]) %>%\n",
    "  ungroup()\n",
    "\n",
    "df_mean_peri_lesional_ses3 <- df_mean_peri_lesional_ses3[df_mean_peri_lesional_ses3$location == \"lesion\", ][c(\n",
    "       \"sub_id\", \"ses_id\", \"age\", \"sex\", \"days_since_stroke\", \"scan_interval\", \"mean_fat_perilesional\", \"fat_lesional\", \"mean_fw_perilesional\", \"fw_lesional\")]\n",
    "\n",
    "\n",
    "# Relative diffusion measures averaged perilesionally and within lesion at time point 4\n",
    "df_mean_peri_lesional_ses4 <- df_patients_subcortical_ses4 %>%\n",
    "  group_by(sub_id) %>%\n",
    "  mutate(mean_fat_perilesional = mean(fat[location %in% c(\"2mm\", \"4mm\", \"6mm\", \"8mm\", \"10mm\", \"12mm\", \"14mm\", \"16mm\")], na.rm = TRUE), # Calculate mean for specified locations\n",
    "         fat_lesional = fat[location == \"lesion\"],\n",
    "         mean_fw_perilesional = mean(fw[location %in% c(\"2mm\", \"4mm\", \"6mm\", \"8mm\", \"10mm\", \"12mm\", \"14mm\", \"16mm\")], na.rm = TRUE),\n",
    "         fw_lesional = fw[location == \"lesion\"]) %>%\n",
    "  ungroup()\n",
    "\n",
    "df_mean_peri_lesional_ses4 <- df_mean_peri_lesional_ses4[df_mean_peri_lesional_ses4$location == \"lesion\", ][c(\n",
    "       \"sub_id\", \"ses_id\", \"age\", \"sex\", \"days_since_stroke\", \"scan_interval\", \"mean_fat_perilesional\", \"fat_lesional\", \"mean_fw_perilesional\", \"fw_lesional\")]\n",
    "\n",
    "df_mean_peri_lesional_all <- df_mean_peri_lesional_ses1 %>%\n",
    "       full_join(df_mean_peri_lesional_ses2, copy = TRUE) %>%\n",
    "       full_join(df_mean_peri_lesional_ses3, copy = TRUE) %>%\n",
    "       full_join(df_mean_peri_lesional_ses4, copy = TRUE)"
   ]
  },
  {
   "cell_type": "markdown",
   "metadata": {},
   "source": [
    "### Demographics according to sex"
   ]
  },
  {
   "cell_type": "code",
   "execution_count": null,
   "metadata": {
    "vscode": {
     "languageId": "r"
    }
   },
   "outputs": [],
   "source": [
    "## Time point 1: Including sub-pa021 (does not have data at time point 1)\n",
    "df_demo <- df_joined[df_joined$group == \"pat\" & df_joined$ses_id == \"1\" & df_joined$lesion_location_category == \"subcortical\", ]\n",
    "\n",
    "df_demo$sex <- factor(df_demo$sex)\n",
    "df_demo$dominant_hand <- factor(df_demo$dominant_hand)\n",
    "df_demo$lesion_side <- factor(df_demo$lesion_side)\n",
    "df_demo <- df_demo %>%\n",
    "  mutate(across(c(\n",
    "        \"Risikofaktoren_Bluthochdruck\", \n",
    "        \"Risikofaktoren_Hypercholesterinaemie\", \n",
    "        \"Risikofaktoren_Herzrhythmusstoerungen\", \n",
    "        \"Risikofaktoren_Diabetes\", \n",
    "        \"Risikofaktoren_Nikotinabusus\", \n",
    "        \"Risikofaktoren_Adipositas\", \n",
    "        \"Risikofaktoren_vaskulaereEreignisse\",\n",
    "        \"Risikofaktoren_Artherosklerose\"), \n",
    "        ~factor(., levels = c(\"Nein\", \"Ja\"))))"
   ]
  },
  {
   "cell_type": "code",
   "execution_count": null,
   "metadata": {
    "vscode": {
     "languageId": "r"
    }
   },
   "outputs": [],
   "source": [
    "library(tableone)\n",
    "\n",
    "table_1 <- CreateTableOne(\n",
    "    data = df_demo, \n",
    "    strata = \"sex\",\n",
    "    vars = c(\n",
    "        \"age\",\n",
    "        \"Risikofaktoren_Bluthochdruck\", \n",
    "        \"Risikofaktoren_Hypercholesterinaemie\", \n",
    "        \"Risikofaktoren_Herzrhythmusstoerungen\", \n",
    "        \"Risikofaktoren_Diabetes\", \n",
    "        \"Risikofaktoren_Nikotinabusus\", \n",
    "        \"Risikofaktoren_Adipositas\", \n",
    "        \"Risikofaktoren_vaskulaereEreignisse\",\n",
    "        \"Risikofaktoren_Artherosklerose\", \n",
    "        \"nihss\", \n",
    "        \"lesion_side\", \n",
    "        \"lesion_volume\", \n",
    "        \"gripstrength_affected_nonaffected\", \n",
    "        \"fugl_meyer\", \n",
    "        \"nhp_affected_nonaffected\"))\n",
    "\n",
    "table_1_df <- print(table_1, nonnormal = \"nihss\", exact = \"stage\", quote = FALSE, noSpaces = TRUE, printToggle = FALSE)\n",
    "write.csv(table_1_df, file.path(output_dir, \"demographics_by_sex_tp1.csv\"), row.names = FALSE)"
   ]
  },
  {
   "cell_type": "markdown",
   "metadata": {},
   "source": [
    "### T-tests: Sex"
   ]
  },
  {
   "cell_type": "code",
   "execution_count": null,
   "metadata": {
    "vscode": {
     "languageId": "r"
    }
   },
   "outputs": [],
   "source": [
    "perform_t_test <- function(data, dependent, independent) {\n",
    "\n",
    "  # Create a formula\n",
    "  formula_str <- as.formula(paste(dependent, \"~\", independent))\n",
    "  \n",
    "  # Perform the t-test\n",
    "  test_result <- t.test(formula_str, data = data)\n",
    "  \n",
    "  # Categorizing the p-value\n",
    "  p_value_category <- ifelse(test_result$p.value < 0.001, \"< .001\",\n",
    "                             ifelse(test_result$p.value < 0.05, \"< .05\", \">= .05\"))\n",
    "  \n",
    "  # Calculate means of the two groups\n",
    "  means <- aggregate(data[[dependent]] ~ data[[independent]], data = data, FUN = mean)\n",
    "  \n",
    "  # Extract t and df, handling potential issues with df being NULL or absent\n",
    "  t_value <- test_result$statistic\n",
    "  df_value <- ifelse(is.null(test_result$parameter), NA, test_result$parameter)\n",
    "  \n",
    "  # Dynamically create column names based on group names\n",
    "  mean_col_names <- paste(\"mean\", means[[1]], sep = \"_\")\n",
    "  \n",
    "  # Prepare results\n",
    "  results <- data.frame(\n",
    "    t = t_value,\n",
    "    df = df_value,\n",
    "    p_value = test_result$p.value,\n",
    "    ci_lower = test_result$conf.int[1], \n",
    "    ci_upper = test_result$conf.int[2],\n",
    "    p_value_category = p_value_category\n",
    "  )\n",
    "  \n",
    "  # Dynamically add mean columns to results\n",
    "  results[mean_col_names[1]] <- means[[2]][1]\n",
    "  results[mean_col_names[2]] <- means[[2]][2]\n",
    "  \n",
    "  return(results)\n",
    "}\n"
   ]
  },
  {
   "cell_type": "code",
   "execution_count": null,
   "metadata": {
    "vscode": {
     "languageId": "r"
    }
   },
   "outputs": [],
   "source": [
    "# Assuming 'df' is your DataFrame, 'independent' is the name of your grouping column,\n",
    "# and 'dependent_vars' is a list of the names of your dependent variables.\n",
    "\n",
    "dependent_vars <- c(\"mean_fat_perilesional\", \"fat_lesional\", \"mean_fw_perilesional\", \"fw_lesional\")  # List your dependent variable names here\n",
    "independent <- \"sex\"  # Replace with your actual grouping column name\n",
    "df = df_mean_peri_lesional_ses1\n",
    "\n",
    "# Initialize an empty DataFrame to store aggregated results\n",
    "aggregated_results <- data.frame()\n",
    "\n",
    "for (dependent_var in dependent_vars) {\n",
    "  # Perform the t-test for each dependent variable\n",
    "  test_result <- perform_t_test(data = df, dependent = dependent_var, independent = independent)\n",
    "  \n",
    "  # Add an identifier for the dependent variable to the results\n",
    "  test_result$dependent_variable <- dependent_var\n",
    "  \n",
    "  # Aggregate the results\n",
    "  aggregated_results <- rbind(aggregated_results, test_result)\n",
    "}\n",
    "\n",
    "# View the aggregated results\n",
    "aggregated_results\n",
    "\n",
    "# Save the aggregated results to a CSV file\n",
    "write.csv(aggregated_results, file.path(output_dir, \"t_tests_sex_results.csv\"), row.names = FALSE)\n"
   ]
  },
  {
   "cell_type": "markdown",
   "metadata": {},
   "source": [
    "### Pearson correlations with age"
   ]
  },
  {
   "cell_type": "markdown",
   "metadata": {},
   "source": [
    "#### Perilesional FA-t"
   ]
  },
  {
   "cell_type": "code",
   "execution_count": null,
   "metadata": {
    "vscode": {
     "languageId": "r"
    }
   },
   "outputs": [],
   "source": [
    "# Create figure\n",
    "ggscatter(df_mean_peri_lesional_ses1, x = \"age\", y = \"mean_fat_perilesional\", add = \"reg.line\", \n",
    "    add.params = list(color = \"red\", fill = \"lightgray\"), cor.method = \"spearman\", cor.coef = TRUE, cor.coef.name = \"rho\", \n",
    "    conf.int = TRUE, ylab = \"Average relative perilesional FA-t \", xlab = \"Age [years]\") -> fat_perilesional_age_corr\n",
    "\n",
    "# Display figure\n",
    "fat_perilesional_age_corr\n",
    "\n",
    "# Save figure\n",
    "ggsave(file.path(output_dir, \"fat_perilesional_age_corr.png\"), plot = fat_perilesional_age_corr, dpi = 300, width = 6, height = 5)"
   ]
  },
  {
   "cell_type": "markdown",
   "metadata": {},
   "source": [
    "#### Lesional FA-t"
   ]
  },
  {
   "cell_type": "code",
   "execution_count": null,
   "metadata": {
    "vscode": {
     "languageId": "r"
    }
   },
   "outputs": [],
   "source": [
    "# Create figure\n",
    "ggscatter(df_mean_peri_lesional_ses1, x = \"age\", y = \"fat_lesional\", add = \"reg.line\", \n",
    "    add.params = list(color = \"red\", fill = \"lightgray\"), cor.method = \"spearman\", cor.coef = TRUE, cor.coef.name = \"rho\", \n",
    "    conf.int = TRUE, ylab = \"Average relative lesional FA-t \", xlab = \"Age [years]\") -> fat_lesional_age_corr\n",
    "\n",
    "# Display figure\n",
    "fat_lesional_age_corr\n",
    "\n",
    "# Save figure\n",
    "ggsave(file.path(output_dir, \"fat_lesional_age_corr.png\"), plot = fat_lesional_age_corr, dpi = 300, width = 6, height = 5)"
   ]
  },
  {
   "cell_type": "markdown",
   "metadata": {},
   "source": [
    "#### Perilesional free-water"
   ]
  },
  {
   "cell_type": "code",
   "execution_count": null,
   "metadata": {
    "vscode": {
     "languageId": "r"
    }
   },
   "outputs": [],
   "source": [
    "# Create figure\n",
    "ggscatter(df_mean_peri_lesional_ses1, x = \"age\", y = \"mean_fw_perilesional\", add = \"reg.line\", \n",
    "    add.params = list(color = \"blue\", fill = \"lightgray\"), cor.method = \"spearman\", cor.coef = TRUE, cor.coef.name = \"rho\", \n",
    "    conf.int = TRUE, ylab = \"Average relative perilesional free-water\", xlab = \"Age [years]\") -> fw_perilesional_age_corr\n",
    "\n",
    "# Display figure\n",
    "fw_perilesional_age_corr\n",
    "\n",
    "# Save figure\n",
    "ggsave(file.path(output_dir, \"fw_perilesional_age_corr.png\"), plot = fw_perilesional_age_corr, dpi = 300, width = 6, height = 5)"
   ]
  },
  {
   "cell_type": "markdown",
   "metadata": {},
   "source": [
    "#### Lesional free-water"
   ]
  },
  {
   "cell_type": "code",
   "execution_count": null,
   "metadata": {
    "vscode": {
     "languageId": "r"
    }
   },
   "outputs": [],
   "source": [
    "# Create figure\n",
    "ggscatter(df_mean_peri_lesional_ses1, x = \"age\", y = \"fw_lesional\", add = \"reg.line\", \n",
    "    add.params = list(color = \"blue\", fill = \"lightgray\"), cor.method = \"spearman\", cor.coef = TRUE, cor.coef.name = \"rho\", \n",
    "    conf.int = TRUE, ylab = \"Average relative lesional free-water\", xlab = \"Age [years]\") -> fw_lesional_age_corr\n",
    "\n",
    "# Display figure\n",
    "fw_lesional_age_corr\n",
    "\n",
    "# Save figure\n",
    "ggsave(file.path(output_dir, \"fw_lesional_age_corr.png\"), plot = fw_lesional_age_corr, dpi = 300, width = 6, height = 5)"
   ]
  },
  {
   "cell_type": "markdown",
   "metadata": {},
   "source": [
    "## Rerun longitudinal LME for lesion and tissue shells separately\n"
   ]
  },
  {
   "cell_type": "code",
   "execution_count": null,
   "metadata": {
    "vscode": {
     "languageId": "r"
    }
   },
   "outputs": [],
   "source": [
    "forward_diff_coding <- matrix(c(8/9,-1/9,-1/9,-1/9,-1/9,-1/9,-1/9,-1/9,-1/9,\n",
    "7/9,7/9,-2/9,-2/9,-2/9,-2/9,-2/9,-2/9,-2/9,\n",
    "6/9,6/9,6/9,-3/9,-3/9,-3/9,-3/9,-3/9,-3/9,\n",
    "5/9,5/9,5/9,5/9,-4/9,-4/9,-4/9,-4/9,-4/9,\n",
    "4/9,4/9,4/9,4/9,4/9,-5/9,-5/9,-5/9,-5/9,\n",
    "3/9,3/9,3/9,3/9,3/9,3/9,-6/9,-6/9,-6/9,\n",
    "2/9,2/9,2/9,2/9,2/9,2/9,2/9,-7/9,-7/9,\n",
    "1/9,1/9,1/9,1/9,1/9,1/9,1/9,1/9,-8/9), ncol=8)\n",
    "\n",
    "backward_diff_coding <- matrix(c(-8/9,1/9,1/9,1/9,1/9,1/9,1/9,1/9,1/9,\n",
    "-7/9,-7/9,2/9,2/9,2/9,2/9,2/9,2/9,2/9,\n",
    "-6/9,-6/9,-6/9,3/9,3/9,3/9,3/9,3/9,3/9,\n",
    "-5/9,-5/9,-5/9,-5/9,4/9,4/9,4/9,4/9,4/9,\n",
    "-4/9,-4/9,-4/9,-4/9,-4/9,5/9,5/9,5/9,5/9,\n",
    "-3/9,-3/9,-3/9,-3/9,-3/9,-3/9,6/9,6/9,6/9,\n",
    "-2/9,-2/9,-2/9,-2/9,-2/9,-2/9,-2/9,7/9,7/9,\n",
    "-1/9,-1/9,-1/9,-1/9,-1/9,-1/9,-1/9,-1/9,8/9), ncol=8)\n",
    "\n",
    "helmert_coding <- matrix(c(8/9,-1/9,-1/9,-1/9,-1/9,-1/9,-1/9,-1/9,-1/9,\n",
    "0,7/8,-1/8,-1/8,-1/8,-1/8,-1/8,-1/8,-1/8,\n",
    "0,0,6/7,-1/7,-1/7,-1/7,-1/7,-1/7,-1/7,\n",
    "0,0,0,5/6,-1/6,-1/6,-1/6,-1/6,-1/6,\n",
    "0,0,0,0,4/5,-1/5,-1/5,-1/5,-1/5,\n",
    "0,0,0,0,0,3/4,-1/4,-1/4,-1/4,\n",
    "0,0,0,0,0,0,2/3,-1/3,-1/3,\n",
    "0,0,0,0,0,0,0,1/2,-1/2), ncol=8)\n",
    "\n",
    "two_groups_coding <- matrix(c(-1,1),ncol=1)\n",
    "\n",
    "dummy_coding <- contr.treatment(4)"
   ]
  },
  {
   "cell_type": "code",
   "execution_count": null,
   "metadata": {
    "vscode": {
     "languageId": "r"
    }
   },
   "outputs": [],
   "source": [
    "# Z-score days since stroke within each session\n",
    "df_days_since_stroke_z <- subset(df_patients_subcortical_all, location == \"lesion\")[c(\"sub_id\", \"ses_id\", \"days_since_stroke\")] %>%\n",
    "  group_by(ses_id) %>%\n",
    "  mutate(days_since_stroke_z = (days_since_stroke - mean(days_since_stroke, na.rm = TRUE)) / sd(days_since_stroke, na.rm = TRUE)) %>%\n",
    "  ungroup() # Ungroup to avoid affecting subsequent operations\n",
    "\n",
    "df_patients_subcortical_all <- full_join(df_patients_subcortical_all, df_days_since_stroke_z, by = c(\"sub_id\", \"ses_id\", \"days_since_stroke\"), copy = TRUE)"
   ]
  },
  {
   "cell_type": "code",
   "execution_count": null,
   "metadata": {
    "vscode": {
     "languageId": "r"
    }
   },
   "outputs": [],
   "source": [
    "df_patients_subcortical_all_shells <- df_patients_subcortical_all %>%\n",
    "    filter(location %in% c(\"2mm\", \"4mm\", \"6mm\", \"8mm\", \"10mm\", \"12mm\", \"14mm\", \"16mm\"))"
   ]
  },
  {
   "cell_type": "code",
   "execution_count": null,
   "metadata": {
    "vscode": {
     "languageId": "r"
    }
   },
   "outputs": [],
   "source": [
    "df_patients_subcortical_all_lesion <- df_patients_subcortical_all %>%\n",
    "    filter(location %in% c(\"lesion\"))"
   ]
  },
  {
   "cell_type": "markdown",
   "metadata": {},
   "source": [
    "### Free-water: Model with shells only"
   ]
  },
  {
   "cell_type": "code",
   "execution_count": null,
   "metadata": {
    "vscode": {
     "languageId": "r"
    }
   },
   "outputs": [],
   "source": [
    "library(lmerTest)\n",
    "library(broom.mixed)\n",
    "library(MuMIn)\n",
    "\n",
    "contrasts(df_patients_subcortical_all_shells$ses_id) = dummy_coding\n",
    "\n",
    "baseline_lme_fw_shells <- lmer(fw ~ 1 + (1|sub_id) + (1|location), data = df_patients_subcortical_all_shells)\n",
    "ses_lme_fw_shells <- lmer(fw ~ 1 + ses_id + (1|sub_id) + (1|location), data = df_patients_subcortical_all_shells)\n",
    "demographics_dss_lme_fw_shells <- lmer(fw ~ 1 + ses_id + lesion_volume + age + sex + days_since_stroke_z + (1|sub_id) + (1|location), data = df_patients_subcortical_all_shells)\n",
    "\n",
    "# Run ANOVA and save results\n",
    "anova_result <- anova(baseline_lme_fw_shells, ses_lme_fw_shells)\n",
    "write.csv(anova_result, file.path(output_dir, \"anova_fw_longitudinal_shells.csv\"))\n",
    "\n",
    "# Save model summary\n",
    "model_summary_df <- tidy(demographics_dss_lme_fw_shells)\n",
    "write.csv(model_summary_df, file.path(output_dir, \"lme_fw_longitudinal_shells.csv\"))\n",
    "\n",
    "# Display results\n",
    "anova_result\n",
    "summary(demographics_dss_lme_fw_shells)\n",
    "r.squaredGLMM(demographics_dss_lme_fw_shells)"
   ]
  },
  {
   "cell_type": "code",
   "execution_count": null,
   "metadata": {
    "vscode": {
     "languageId": "r"
    }
   },
   "outputs": [],
   "source": [
    "library(multcomp)\n",
    "library(broom)\n",
    "\n",
    "# Run post-hoc tests\n",
    "posthoc_fw_shells <- glht(demographics_dss_lme_fw_shells, linfct = mcp(ses_id = \"Tukey\"))\n",
    "posthoc_summary <- summary(posthoc_fw_shells)\n",
    "posthoc_confint <- confint(posthoc_fw_shells)\n",
    "\n",
    "# Convert both summary and confint to data frames\n",
    "posthoc_summary_df <- tidy(posthoc_summary)\n",
    "posthoc_confint_df <- tidy(posthoc_confint)\n",
    "\n",
    "# Merge summary and confidence intervals data frames\n",
    "combined_df <- merge(posthoc_summary_df, posthoc_confint_df, by = c(\"contrast\", \"term\", \"estimate\"))\n",
    "\n",
    "# Write the combined dataframe to CSV\n",
    "write.csv(combined_df, file.path(output_dir, \"lme_fw_longitudinal_shells_posthoc_tests.csv\"))\n",
    "\n",
    "# Display results\n",
    "posthoc_summary\n",
    "posthoc_confint"
   ]
  },
  {
   "cell_type": "markdown",
   "metadata": {},
   "source": [
    "#### Plot model results "
   ]
  },
  {
   "cell_type": "markdown",
   "metadata": {},
   "source": [
    "##### Calculate mean and SD of relative free-water in shells"
   ]
  },
  {
   "cell_type": "code",
   "execution_count": null,
   "metadata": {
    "vscode": {
     "languageId": "r"
    }
   },
   "outputs": [],
   "source": [
    "df_fw_shells_per_timepoint <- df_patients_subcortical_all_shells %>% group_by(ses_id) %>% summarise(mean(fw), sd(fw))\n",
    "\n",
    "df_fw_shells_per_timepoint\n",
    "\n",
    "write.csv(df_fw_shells_per_timepoint, file.path(output_dir, \"df_fw_shells_per_timepoint.csv\"), row.names = FALSE)"
   ]
  },
  {
   "cell_type": "markdown",
   "metadata": {},
   "source": [
    "##### Plot average of relative free-water by time point"
   ]
  },
  {
   "cell_type": "code",
   "execution_count": null,
   "metadata": {
    "vscode": {
     "languageId": "r"
    }
   },
   "outputs": [],
   "source": [
    "library(ggsignif)\n",
    "\n",
    "# Create figure\n",
    "df_fw_shells_per_timepoint %>% \n",
    "ggplot(aes(x=ses_id, y=`mean(fw)`, fill = ses_id)) + \n",
    "geom_bar(color=\"black\",position = \"dodge\", stat=\"summary\", fun = \"mean\") +\n",
    "geom_errorbar(aes(ymin=`mean(fw)`-`sd(fw)`, ymax=`mean(fw)`+`sd(fw)`), width=.2, position=position_dodge(.9)) +\n",
    "geom_signif(comparisons = list(c(\"3-5 days\", \"1 year\")), y_position=1.0,annotation = \"***\") +\n",
    "geom_signif(comparisons = list(c(\"1 month\", \"1 year\")), y_position=1.5, annotation = \"***\") +\n",
    "geom_signif(comparisons = list(c(\"1 month\", \"3 months\")), y_position=2.0,annotation = \"*\") +\n",
    "geom_signif(comparisons = list(c(\"3 months\", \"1 year\")), y_position=2.5,annotation = \"***\") +\n",
    "geom_hline(yintercept=0, linetype = \"solid\", color = \"red\") +\n",
    "scale_fill_brewer(palette=\"Blues\", direction=-1) +\n",
    "theme_test() + labs(y = \"FW - shells [(ipsi-contra)/contra]\", x = \"\", fill = \"Time Point\") + \n",
    "ylim(-0.5,6) -> fw_normalized_shells_barplot\n",
    "\n",
    "# Display figure\n",
    "fw_normalized_shells_barplot\n",
    "\n",
    "# Save figure\n",
    "ggsave(file.path(output_dir, \"fw_normalized_all_shells_barplot.png\"), plot = fw_normalized_shells_barplot, dpi = 300, width = 6, height = 5)"
   ]
  },
  {
   "cell_type": "markdown",
   "metadata": {},
   "source": [
    "### Free-water: model with lesion only"
   ]
  },
  {
   "cell_type": "code",
   "execution_count": null,
   "metadata": {
    "vscode": {
     "languageId": "r"
    }
   },
   "outputs": [],
   "source": [
    "library(lmerTest)\n",
    "library(broom.mixed)\n",
    "library(MuMIn)\n",
    "\n",
    "contrasts(df_patients_subcortical_all_lesion$ses_id) = dummy_coding\n",
    "\n",
    "baseline_lme_fw_lesion <- lmer(fw ~ 1 + (1|sub_id), data = df_patients_subcortical_all_lesion)\n",
    "ses_lme_fw_lesion <- lmer(fw ~ 1 + ses_id + (1|sub_id), data = df_patients_subcortical_all_lesion)\n",
    "demographics_dss_lme_fw_lesion <- lmer(fw ~ 1 + ses_id + lesion_volume + age + sex + days_since_stroke_z + (1|sub_id), data = df_patients_subcortical_all_lesion)\n",
    "\n",
    "# Run ANOVA and save results\n",
    "anova_result <- anova(baseline_lme_fw_lesion, ses_lme_fw_lesion)\n",
    "write.csv(anova_result, file.path(output_dir, \"anova_fw_longitudinal_lesion.csv\"))\n",
    "\n",
    "# Save model summary\n",
    "model_summary_df <- tidy(demographics_dss_lme_fw_lesion)\n",
    "write.csv(model_summary_df, file.path(output_dir, \"lme_fw_longitudinal_lesion.csv\"))\n",
    "\n",
    "# Display results\n",
    "anova_result\n",
    "summary(demographics_dss_lme_fw_lesion)\n",
    "r.squaredGLMM(demographics_dss_lme_fw_lesion)"
   ]
  },
  {
   "cell_type": "code",
   "execution_count": null,
   "metadata": {
    "vscode": {
     "languageId": "r"
    }
   },
   "outputs": [],
   "source": [
    "library(multcomp)\n",
    "library(broom)\n",
    "\n",
    "# Run post-hoc tests\n",
    "posthoc_fw_lesion <- glht(demographics_dss_lme_fw_lesion, linfct = mcp(ses_id = \"Tukey\"))\n",
    "posthoc_summary <- summary(posthoc_fw_lesion)\n",
    "posthoc_confint <- confint(posthoc_fw_lesion)\n",
    "\n",
    "# Convert both summary and confint to data frames\n",
    "posthoc_summary_df <- tidy(posthoc_summary)\n",
    "posthoc_confint_df <- tidy(posthoc_confint)\n",
    "\n",
    "# Merge summary and confidence intervals data frames\n",
    "combined_df <- merge(posthoc_summary_df, posthoc_confint_df, by = c(\"contrast\", \"term\", \"estimate\"))\n",
    "\n",
    "# Write the combined dataframe to CSV\n",
    "write.csv(combined_df, file.path(output_dir, \"lme_fw_longitudinal_lesion_posthoc_tests.csv\"))\n",
    "\n",
    "# Display results\n",
    "posthoc_summary\n",
    "posthoc_confint"
   ]
  },
  {
   "cell_type": "markdown",
   "metadata": {},
   "source": [
    "#### Plot model results "
   ]
  },
  {
   "cell_type": "markdown",
   "metadata": {},
   "source": [
    "##### Calculate mean and SD of relative free-water in lesion"
   ]
  },
  {
   "cell_type": "code",
   "execution_count": null,
   "metadata": {
    "vscode": {
     "languageId": "r"
    }
   },
   "outputs": [],
   "source": [
    "df_fw_lesion_per_timepoint <- df_patients_subcortical_all_lesion %>% group_by(ses_id) %>% summarise(mean(fw), sd(fw))\n",
    "\n",
    "df_fw_lesion_per_timepoint\n",
    "\n",
    "write.csv(df_fw_lesion_per_timepoint, file.path(output_dir, \"df_fw_lesion_per_timepoint.csv\"), row.names = FALSE)"
   ]
  },
  {
   "cell_type": "markdown",
   "metadata": {},
   "source": [
    "##### Plot average of relative free-water by time point"
   ]
  },
  {
   "cell_type": "code",
   "execution_count": null,
   "metadata": {
    "vscode": {
     "languageId": "r"
    }
   },
   "outputs": [],
   "source": [
    "library(ggsignif)\n",
    "\n",
    "# Create figure\n",
    "df_fw_lesion_per_timepoint %>% \n",
    "ggplot(aes(x=ses_id, y=`mean(fw)`, fill = ses_id)) + \n",
    "geom_bar(color=\"black\",position = \"dodge\", stat=\"summary\", fun = \"mean\") +\n",
    "geom_errorbar(aes(ymin=`mean(fw)`-`sd(fw)`, ymax=`mean(fw)`+`sd(fw)`), width=.2, position=position_dodge(.9)) +\n",
    "geom_signif(comparisons = list(c(\"3-5 days\", \"1 year\")), y_position=4.2,annotation = \"***\") +\n",
    "geom_signif(comparisons = list(c(\"3-5 days\", \"3 months\")), y_position=4.7, annotation = \"***\") +\n",
    "geom_signif(comparisons = list(c(\"1 month\", \"1 year\")), y_position=5.2, annotation = \"***\") +\n",
    "geom_signif(comparisons = list(c(\"1 month\", \"3 months\")), y_position=5.7,annotation = \"*\") +\n",
    "geom_hline(yintercept=0, linetype = \"solid\", color = \"red\") +\n",
    "scale_fill_brewer(palette=\"Blues\", direction=-1) +\n",
    "theme_test() + labs(y = \"FW - lesion [(ipsi-contra)/contra]\", x = \"\", fill = \"Time Point\") + \n",
    "ylim(-0.5,6) -> fw_normalized_lesion_barplot\n",
    "\n",
    "# Display figure\n",
    "fw_normalized_lesion_barplot\n",
    "\n",
    "# Save figure\n",
    "ggsave(file.path(output_dir, \"fw_normalized_all_lesion_barplot.png\"), plot = fw_normalized_lesion_barplot, dpi = 300, width = 6, height = 5)"
   ]
  },
  {
   "cell_type": "markdown",
   "metadata": {},
   "source": [
    "### FA-t: model with shells only"
   ]
  },
  {
   "cell_type": "code",
   "execution_count": null,
   "metadata": {
    "vscode": {
     "languageId": "r"
    }
   },
   "outputs": [],
   "source": [
    "library(lmerTest)\n",
    "library(broom.mixed)\n",
    "library(MuMIn)\n",
    "\n",
    "\n",
    "contrasts(df_patients_subcortical_all_shells$ses_id) = dummy_coding\n",
    "\n",
    "baseline_lme_fat_shells <- lmer(fat ~ 1 + (1|sub_id) + (1|location), data = df_patients_subcortical_all_shells)\n",
    "ses_lme_fat_shells <- lmer(fat ~ 1 + ses_id + (1|sub_id) + (1|location), data = df_patients_subcortical_all_shells)\n",
    "demographics_dss_lme_fat_shells <- lmer(fat ~ 1 + ses_id + lesion_volume + age + sex + days_since_stroke_z + (1|sub_id) + (1|location), data = df_patients_subcortical_all_shells)\n",
    "\n",
    "# Run ANOVA and save results\n",
    "anova_result <- anova(baseline_lme_fat_shells, ses_lme_fat_shells)\n",
    "write.csv(anova_result, file.path(output_dir, \"anova_fat_longitudinal_shells.csv\"))\n",
    "\n",
    "# Save model summary\n",
    "model_summary_df <- tidy(demographics_dss_lme_fat_shells)\n",
    "write.csv(model_summary_df, file.path(output_dir, \"lme_fat_longitudinal_shells.csv\"))\n",
    "\n",
    "# Display results\n",
    "anova_result\n",
    "summary(demographics_dss_lme_fat_shells)\n",
    "r.squaredGLMM(demographics_dss_lme_fat_shells)"
   ]
  },
  {
   "cell_type": "code",
   "execution_count": null,
   "metadata": {
    "vscode": {
     "languageId": "r"
    }
   },
   "outputs": [],
   "source": [
    "library(multcomp)\n",
    "library(broom)\n",
    "\n",
    "# Run post-hoc tests\n",
    "posthoc_fat_shells <- glht(demographics_dss_lme_fat_shells, linfct = mcp(ses_id = \"Tukey\"))\n",
    "posthoc_summary <- summary(posthoc_fat_shells)\n",
    "posthoc_confint <- confint(posthoc_fat_shells)\n",
    "\n",
    "# Convert both summary and confint to data frames\n",
    "posthoc_summary_df <- tidy(posthoc_summary)\n",
    "posthoc_confint_df <- tidy(posthoc_confint)\n",
    "\n",
    "# Merge summary and confidence intervals data frames\n",
    "combined_df <- merge(posthoc_summary_df, posthoc_confint_df, by = c(\"contrast\", \"term\", \"estimate\"))\n",
    "\n",
    "# Write the combined dataframe to CSV\n",
    "write.csv(combined_df, file.path(output_dir, \"lme_fat_longitudinal_shells_posthoc_tests.csv\"))\n",
    "\n",
    "# Display results\n",
    "posthoc_summary\n",
    "posthoc_confint"
   ]
  },
  {
   "cell_type": "markdown",
   "metadata": {},
   "source": [
    "#### Plot model results "
   ]
  },
  {
   "cell_type": "markdown",
   "metadata": {},
   "source": [
    "##### Calculate mean and SD of relative FA-t in shells"
   ]
  },
  {
   "cell_type": "code",
   "execution_count": null,
   "metadata": {
    "vscode": {
     "languageId": "r"
    }
   },
   "outputs": [],
   "source": [
    "df_fat_shells_per_timepoint <- df_patients_subcortical_all_shells %>% group_by(ses_id) %>% summarise(mean(fat), sd(fat))\n",
    "\n",
    "df_fat_shells_per_timepoint\n",
    "\n",
    "write.csv(df_fat_shells_per_timepoint, file.path(output_dir, \"df_fat_shells_per_timepoint.csv\"), row.names = FALSE)\n"
   ]
  },
  {
   "cell_type": "markdown",
   "metadata": {},
   "source": [
    "##### Plot average of relative FA-t in shells by time point"
   ]
  },
  {
   "cell_type": "code",
   "execution_count": null,
   "metadata": {
    "vscode": {
     "languageId": "r"
    }
   },
   "outputs": [],
   "source": [
    "library(ggsignif)\n",
    "\n",
    "df_fat_shells_per_timepoint %>% \n",
    "ggplot(aes(x=ses_id, y=`mean(fat)`, fill = ses_id)) + \n",
    "geom_bar(color=\"black\",position = \"dodge\", stat=\"summary\", fun = \"mean\") +\n",
    "geom_errorbar(aes(ymin=`mean(fat)`-`sd(fat)`, ymax=`mean(fat)`+`sd(fat)`), width=.2, position=position_dodge(.9)) +\n",
    "geom_signif(comparisons = list(c(\"3-5 days\", \"1 year\")),y_position=0.05, annotation = \"***\") +\n",
    "geom_signif(comparisons = list(c(\"3-5 days\", \"3 months\")),y_position=0.1, annotation = \"***\") +\n",
    "geom_signif(comparisons = list(c(\"3-5 days\", \"1 month\")),y_position=0.15, annotation = \"***\") +\n",
    "geom_hline(yintercept=0, linetype = \"solid\", color = \"red\") +\n",
    "scale_fill_brewer(palette=\"Reds\", direction=-1) +\n",
    "theme_test() + labs(y = expression(FA[T]*\"- shells [(ipsi-contra)/contra]\"), x = \"\", fill = \"Time Point\") + \n",
    "ylim(-0.55,0.3) -> fat_normalized_shells_barplot\n",
    "\n",
    "# Display figure\n",
    "fat_normalized_shells_barplot\n",
    "\n",
    "# Save figure\n",
    "ggsave(file.path(output_dir, \"fat_normalized_all_shells_barplot.png\"), plot = fat_normalized_shells_barplot, dpi = 300, width = 6, height = 5)"
   ]
  },
  {
   "cell_type": "markdown",
   "metadata": {},
   "source": [
    "### FA-t: model with lesion only"
   ]
  },
  {
   "cell_type": "code",
   "execution_count": null,
   "metadata": {
    "vscode": {
     "languageId": "r"
    }
   },
   "outputs": [],
   "source": [
    "contrasts(df_patients_subcortical_all_lesion$ses_id) = dummy_coding\n",
    "\n",
    "baseline_lme_fat_lesion <- lmer(fat ~ 1 + (1|sub_id), data = df_patients_subcortical_all_lesion)\n",
    "ses_lme_fat_lesion <- lmer(fat ~ 1 + ses_id + (1|sub_id), data = df_patients_subcortical_all_lesion)\n",
    "demographics_dss_lme_fat_lesion <- lmer(fat ~ 1 + ses_id + lesion_volume + age + sex + days_since_stroke_z + (1|sub_id), data = df_patients_subcortical_all_lesion)\n",
    "\n",
    "# Run ANOVA and save results\n",
    "anova_result <- anova(baseline_lme_fat_lesion, ses_lme_fat_lesion)\n",
    "write.csv(anova_result, file.path(output_dir, \"anova_fat_longitudinal_lesion.csv\"))\n",
    "\n",
    "# Save model summary\n",
    "model_summary_df <- tidy(demographics_dss_lme_fat_lesion)\n",
    "write.csv(model_summary_df, file.path(output_dir, \"lme_fat_longitudinal_lesion.csv\"))\n",
    "\n",
    "# Display results\n",
    "anova_result\n",
    "summary(demographics_dss_lme_fat_lesion)\n",
    "r.squaredGLMM(demographics_dss_lme_fat_lesion)"
   ]
  },
  {
   "cell_type": "code",
   "execution_count": null,
   "metadata": {
    "vscode": {
     "languageId": "r"
    }
   },
   "outputs": [],
   "source": [
    "library(multcomp)\n",
    "library(broom)\n",
    "\n",
    "# Run post-hoc tests\n",
    "posthoc_fat_lesion <- glht(demographics_dss_lme_fat_lesion, linfct = mcp(ses_id = \"Tukey\"))\n",
    "posthoc_summary <- summary(posthoc_fat_lesion)\n",
    "posthoc_confint <- confint(posthoc_fat_lesion)\n",
    "\n",
    "# Convert both summary and confint to data frames\n",
    "posthoc_summary_df <- tidy(posthoc_summary)\n",
    "posthoc_confint_df <- tidy(posthoc_confint)\n",
    "\n",
    "# Merge summary and confidence intervals data frames\n",
    "combined_df <- merge(posthoc_summary_df, posthoc_confint_df, by = c(\"contrast\", \"term\", \"estimate\"))\n",
    "\n",
    "# Write the combined dataframe to CSV\n",
    "write.csv(combined_df, file.path(output_dir, \"lme_fat_longitudinal_lesion_posthoc_tests.csv\"))\n",
    "\n",
    "# Display results\n",
    "posthoc_summary\n",
    "posthoc_confint"
   ]
  },
  {
   "cell_type": "markdown",
   "metadata": {},
   "source": [
    "#### Plot model results"
   ]
  },
  {
   "cell_type": "markdown",
   "metadata": {},
   "source": [
    "##### Calculate mean and SD of relative FA-t in lesion"
   ]
  },
  {
   "cell_type": "code",
   "execution_count": null,
   "metadata": {
    "vscode": {
     "languageId": "r"
    }
   },
   "outputs": [],
   "source": [
    "df_fat_lesion_per_timepoint <- df_patients_subcortical_all_lesion %>% group_by(ses_id) %>% summarise(mean(fat), sd(fat))\n",
    "\n",
    "df_fat_lesion_per_timepoint\n",
    "\n",
    "write.csv(df_fat_lesion_per_timepoint, file.path(output_dir, \"df_fat_lesion_per_timepoint.csv\"), row.names = FALSE)\n"
   ]
  },
  {
   "cell_type": "markdown",
   "metadata": {},
   "source": [
    "##### Plot average of relative FA-t in lesion by time point"
   ]
  },
  {
   "cell_type": "code",
   "execution_count": null,
   "metadata": {
    "vscode": {
     "languageId": "r"
    }
   },
   "outputs": [],
   "source": [
    "posthoc_summary"
   ]
  },
  {
   "cell_type": "code",
   "execution_count": null,
   "metadata": {
    "vscode": {
     "languageId": "r"
    }
   },
   "outputs": [],
   "source": [
    "library(ggsignif)\n",
    "\n",
    "df_fat_lesion_per_timepoint %>% \n",
    "ggplot(aes(x=ses_id, y=`mean(fat)`, fill = ses_id)) + \n",
    "geom_bar(color=\"black\",position = \"dodge\", stat=\"summary\", fun = \"mean\") +\n",
    "geom_errorbar(aes(ymin=`mean(fat)`-`sd(fat)`, ymax=`mean(fat)`+`sd(fat)`), width=.2, position=position_dodge(.9)) +\n",
    "geom_signif(comparisons = list(c(\"3-5 days\", \"1 year\")),y_position=0.03, annotation = \"***\") +\n",
    "geom_signif(comparisons = list(c(\"3-5 days\", \"3 months\")),y_position=0.09, annotation = \"**\") +\n",
    "geom_signif(comparisons = list(c(\"1 month\", \"1 year\")),y_position=0.15, annotation = \"***\") +\n",
    "geom_signif(comparisons = list(c(\"1 month\", \"3 months\")),y_position=0.21, annotation = \"***\") +\n",
    "geom_signif(comparisons = list(c(\"1 year\", \"3 months\")),y_position=0.27, annotation = \"*\") +\n",
    "geom_hline(yintercept=0, linetype = \"solid\", color = \"red\") +\n",
    "scale_fill_brewer(palette=\"Reds\", direction=-1) +\n",
    "theme_test() + labs(y = expression(FA[T]*\"- lesion [(ipsi-contra)/contra]\"), x = \"\", fill = \"Time Point\") + \n",
    "ylim(-0.55,0.3) -> fat_normalized_lesion_barplot\n",
    "\n",
    "# Display figure\n",
    "fat_normalized_lesion_barplot\n",
    "\n",
    "# Save figure\n",
    "ggsave(file.path(output_dir, \"fat_normalized_all_lesion_barplot.png\"), plot = fat_normalized_lesion_barplot, dpi = 300, width = 6, height = 5)"
   ]
  },
  {
   "cell_type": "markdown",
   "metadata": {},
   "source": [
    "## Tract-of-interest analysis - CST"
   ]
  },
  {
   "cell_type": "markdown",
   "metadata": {},
   "source": [
    "### Load data"
   ]
  },
  {
   "cell_type": "code",
   "execution_count": null,
   "metadata": {
    "vscode": {
     "languageId": "r"
    }
   },
   "outputs": [],
   "source": [
    "# Load tract data\n",
    "df_fat_ses1_hcp1065 <- read_csv(file.path(input_dir, \"fat_ses-1_hcp1065_tracts_thr0p6.csv\"))\n",
    "df_fat_ses1_hcp1065 <- df_fat_ses1_hcp1065 %>% add_column(ses_id = \"3-5 days\", .before = 2)\n",
    "df_fat_ses2_hcp1065 <- read_csv(file.path(input_dir, \"fat_ses-2_hcp1065_tracts_thr0p6.csv\"))\n",
    "df_fat_ses2_hcp1065 <- df_fat_ses2_hcp1065 %>% add_column(ses_id = \"1 month\", .before = 2)\n",
    "df_fat_ses3_hcp1065 <- read_csv(file.path(input_dir, \"fat_ses-3_hcp1065_tracts_thr0p6.csv\"))\n",
    "df_fat_ses3_hcp1065 <- df_fat_ses3_hcp1065 %>% add_column(ses_id = \"3 months\", .before = 2)\n",
    "df_fat_ses4_hcp1065 <- read_csv(file.path(input_dir, \"fat_ses-4_hcp1065_tracts_thr0p6.csv\"))\n",
    "df_fat_ses4_hcp1065 <- df_fat_ses4_hcp1065 %>% add_column(ses_id = \"1 year\", .before = 2)\n",
    "\n",
    "df_fw_ses1_hcp1065 <- read_csv(file.path(input_dir, \"fw_ses-1_hcp1065_tracts_thr0p6.csv\"))\n",
    "df_fw_ses1_hcp1065 <- df_fw_ses1_hcp1065 %>% add_column(ses_id = \"3-5 days\", .before = 2)\n",
    "df_fw_ses2_hcp1065 <- read_csv(file.path(input_dir, \"fw_ses-2_hcp1065_tracts_thr0p6.csv\"))\n",
    "df_fw_ses2_hcp1065 <- df_fw_ses2_hcp1065 %>% add_column(ses_id = \"1 month\", .before = 2)\n",
    "df_fw_ses3_hcp1065 <- read_csv(file.path(input_dir, \"fw_ses-3_hcp1065_tracts_thr0p6.csv\"))\n",
    "df_fw_ses3_hcp1065 <- df_fw_ses3_hcp1065 %>% add_column(ses_id = \"3 months\", .before = 2)\n",
    "df_fw_ses4_hcp1065 <- read_csv(file.path(input_dir, \"fw_ses-4_hcp1065_tracts_thr0p6.csv\"))\n",
    "df_fw_ses4_hcp1065 <- df_fw_ses4_hcp1065 %>% add_column(ses_id = \"1 year\", .before = 2)\n",
    "\n",
    "df_fat_hcp1065 <- df_fat_ses1_hcp1065 %>% \n",
    "    full_join(df_fat_ses2_hcp1065) %>%\n",
    "    full_join(df_fat_ses3_hcp1065) %>%\n",
    "    full_join(df_fat_ses4_hcp1065)\n",
    "\n",
    "df_fw_hcp1065 <- df_fw_ses1_hcp1065 %>% \n",
    "    full_join(df_fw_ses2_hcp1065) %>%\n",
    "    full_join(df_fw_ses3_hcp1065) %>%\n",
    "    full_join(df_fw_ses4_hcp1065)\n",
    "\n",
    "# Merge tract data with rest of the data\n",
    "df_toi <- df_patients_subcortical_all[df_patients_subcortical_all$location == \"lesion\", ] %>%\n",
    "    left_join(df_fat_hcp1065, by = c(\"sub_id\", \"ses_id\")) %>%\n",
    "    left_join(df_fw_hcp1065, by = c(\"sub_id\", \"ses_id\"))\n",
    "\n",
    "# Add mean diffusion measures averaged for shells and lesion for each time point\n",
    "df_mean_peri_lesional_all$ses_id <- factor(df_mean_peri_lesional_all$ses_id, levels = 1:4, labels = c(\"3-5 days\", \"1 month\", \"3 months\", \"1 year\"))\n",
    "df_toi <- df_toi %>%\n",
    "    full_join(df_mean_peri_lesional_all[c(\"sub_id\", \"ses_id\", \"mean_fat_perilesional\", \"fat_lesional\", \"mean_fw_perilesional\", \"fw_lesional\")], by = c(\"sub_id\", \"ses_id\"))\n",
    "\n",
    "# Determine ipsi and contralesional CST\n",
    "df_toi$fw_cst_ipsi <- ifelse(df_toi$lesion_side == \"left\", df_toi$FW_Corticospinal_Tract_L, df_toi$FW_Corticospinal_Tract_R)\n",
    "df_toi$fw_cst_contra <- ifelse(df_toi$lesion_side == \"left\", df_toi$FW_Corticospinal_Tract_R, df_toi$FW_Corticospinal_Tract_L)\n",
    "df_toi$fat_cst_ipsi <- ifelse(df_toi$lesion_side == \"left\", df_toi$FAt_Corticospinal_Tract_L, df_toi$FAt_Corticospinal_Tract_R)\n",
    "df_toi$fat_cst_contra <- ifelse(df_toi$lesion_side == \"left\", df_toi$FAt_Corticospinal_Tract_R, df_toi$FAt_Corticospinal_Tract_L)\n",
    "\n",
    "# Calculate realtive change of ipsilesional CST compared to healthy side\n",
    "df_toi <- df_toi %>% mutate(rel_fw_cst = (fw_cst_ipsi - fw_cst_contra) / fw_cst_contra)\n",
    "df_toi <- df_toi %>% mutate(rel_fat_cst = (fat_cst_ipsi - fat_cst_contra) / fat_cst_contra)\n",
    "\n",
    "df_toi$ses_id <- factor(df_toi$ses_id, levels = c(\"3-5 days\", \"1 month\", \"3 months\", \"1 year\"))"
   ]
  },
  {
   "cell_type": "markdown",
   "metadata": {},
   "source": [
    "### Longitudinal LME - FAt"
   ]
  },
  {
   "cell_type": "code",
   "execution_count": null,
   "metadata": {
    "vscode": {
     "languageId": "r"
    }
   },
   "outputs": [],
   "source": [
    "library(lmerTest)\n",
    "library(broom.mixed)\n",
    "library(MuMIn)\n",
    "\n",
    "contrasts(df_toi$ses_id) = dummy_coding\n",
    "\n",
    "baseline_lme_fat_all <- lmer(rel_fat_cst ~ 1 + (1|sub_id), data = df_toi)\n",
    "ses_lme_fat_all <- lmer(rel_fat_cst ~ 1 + ses_id + (1|sub_id), data = df_toi)\n",
    "demographics_dss_lme_fat_all <- lmer(rel_fat_cst ~ 1 + ses_id + lesion_volume + age + sex + days_since_stroke_z + (1|sub_id), data = df_toi)\n",
    "\n",
    "# Run ANOVA and save results\n",
    "anova_result <- anova(baseline_lme_fat_all, ses_lme_fat_all)\n",
    "write.csv(anova_result, file.path(output_dir, \"anova_fat_cst_longitudinal_all.csv\"))\n",
    "\n",
    "# Save model summary\n",
    "model_summary_df <- tidy(demographics_dss_lme_fat_all)\n",
    "write.csv(model_summary_df, file.path(output_dir, \"lme_fat_cst_longitudinal.csv\"))\n",
    "\n",
    "# Display results\n",
    "anova_result\n",
    "summary(demographics_dss_lme_fat_all)\n",
    "r.squaredGLMM(demographics_dss_lme_fat_all)"
   ]
  },
  {
   "cell_type": "code",
   "execution_count": null,
   "metadata": {
    "vscode": {
     "languageId": "r"
    }
   },
   "outputs": [],
   "source": [
    "library(multcomp)\n",
    "library(broom)\n",
    "\n",
    "# Run post-hoc tests\n",
    "posthoc_fat_all <- glht(demographics_dss_lme_fat_all, linfct = mcp(ses_id = \"Tukey\"))\n",
    "posthoc_summary <- summary(posthoc_fat_all)\n",
    "posthoc_confint <- confint(posthoc_fat_all)\n",
    "\n",
    "# Convert both summary and confint to data frames\n",
    "posthoc_summary_df <- tidy(posthoc_summary)\n",
    "posthoc_confint_df <- tidy(posthoc_confint)\n",
    "\n",
    "# Merge summary and confidence intervals data frames\n",
    "combined_df <- merge(posthoc_summary_df, posthoc_confint_df, by = c(\"contrast\", \"term\", \"estimate\"))\n",
    "\n",
    "# Write the combined dataframe to CSV\n",
    "write.csv(combined_df, file.path(output_dir, \"lme_fat_cst_longitudinal_posthoc_tests.csv\"))\n",
    "\n",
    "# Display results\n",
    "posthoc_summary\n",
    "posthoc_confint"
   ]
  },
  {
   "cell_type": "code",
   "execution_count": null,
   "metadata": {
    "vscode": {
     "languageId": "r"
    }
   },
   "outputs": [],
   "source": [
    "df_fat_cst_per_timepoint <- df_toi %>% group_by(ses_id) %>% summarise(mean(rel_fat_cst), sd(rel_fat_cst))\n",
    "\n",
    "df_fat_cst_per_timepoint\n",
    "\n",
    "write.csv(df_fat_cst_per_timepoint, file.path(output_dir, \"df_fat_cst_per_timepoint.csv\"), row.names = FALSE)\n"
   ]
  },
  {
   "cell_type": "code",
   "execution_count": null,
   "metadata": {
    "vscode": {
     "languageId": "r"
    }
   },
   "outputs": [],
   "source": [
    "posthoc_summary"
   ]
  },
  {
   "cell_type": "markdown",
   "metadata": {},
   "source": [
    "### Plot relative FAt of CST over time"
   ]
  },
  {
   "cell_type": "code",
   "execution_count": null,
   "metadata": {
    "vscode": {
     "languageId": "r"
    }
   },
   "outputs": [],
   "source": [
    "library(ggsignif)\n",
    "\n",
    "df_fat_cst_per_timepoint %>% \n",
    "ggplot(aes(x=ses_id, y=`mean(rel_fat_cst)`, fill = ses_id)) + \n",
    "geom_bar(color=\"black\",position = \"dodge\", stat=\"summary\", fun = \"mean\") +\n",
    "geom_errorbar(aes(ymin=`mean(rel_fat_cst)`-`sd(rel_fat_cst)`, ymax=`mean(rel_fat_cst)`+`sd(rel_fat_cst)`), width=.2, position=position_dodge(.9)) +\n",
    "geom_signif(comparisons = list(c(\"3-5 days\", \"1 year\")),y_position=0.03, annotation = \"***\") +\n",
    "geom_signif(comparisons = list(c(\"3-5 days\", \"3 months\")),y_position=0.06, annotation = \"***\") +\n",
    "geom_signif(comparisons = list(c(\"3-5 days\", \"1 month\")),y_position=0.09, annotation = \"***\") +\n",
    "geom_signif(comparisons = list(c(\"1 month\", \"1 year\")),y_position=0.12, annotation = \"*\") +\n",
    "geom_signif(comparisons = list(c(\"3 months\", \"1 year\")),y_position=0.15, annotation = \"*\") +\n",
    "geom_hline(yintercept=0, linetype = \"solid\", color = \"red\") +\n",
    "scale_fill_brewer(palette=\"Reds\", direction=-1) +\n",
    "theme_test() + labs(y = expression(FA[T]*\" - CST [(ipsi-contra)/contra]\"), x = \"\", fill = \"Time Point\") + \n",
    "ylim(-0.25,0.2) -> fat_normalized_lesion_barplot\n",
    "\n",
    "# Display figure\n",
    "fat_normalized_lesion_barplot\n",
    "\n",
    "# Save figure\n",
    "ggsave(file.path(output_dir, \"fat_normalized_all_cst_barplot.png\"), plot = fat_normalized_lesion_barplot, dpi = 300, width = 6, height = 5)"
   ]
  },
  {
   "cell_type": "code",
   "execution_count": null,
   "metadata": {
    "vscode": {
     "languageId": "r"
    }
   },
   "outputs": [],
   "source": [
    "library(ggplot2)\n",
    "\n",
    "# Plot\n",
    "ggplot(df_toi, aes(x = ses_id, y = rel_fat_cst, group = ses_id)) +\n",
    "  geom_boxplot() +\n",
    "  stat_summary(fun.y = median, geom = \"line\", aes(group = 1), color = \"red\") +\n",
    "  stat_summary(fun.y = median, geom = \"point\", aes(group = 1), color = \"red\") +\n",
    "  theme_test()\n"
   ]
  },
  {
   "cell_type": "markdown",
   "metadata": {},
   "source": [
    "### Longitudinal LME - Free-water"
   ]
  },
  {
   "cell_type": "code",
   "execution_count": null,
   "metadata": {
    "vscode": {
     "languageId": "r"
    }
   },
   "outputs": [],
   "source": [
    "contrasts(df_toi$ses_id) = dummy_coding\n",
    "\n",
    "baseline_lme_fw_all <- lmer(rel_fw_cst ~ 1 + (1|sub_id), data = df_toi)\n",
    "ses_lme_fw_all <- lmer(rel_fw_cst ~ 1 + ses_id + (1|sub_id), data = df_toi)\n",
    "demographics_dss_lme_fw_all <- lmer(rel_fw_cst ~ 1 + ses_id + lesion_volume + age + sex + days_since_stroke_z + (1|sub_id), data = df_toi)\n",
    "\n",
    "# Run ANOVA and save results\n",
    "anova_result <- anova(baseline_lme_fw_all, ses_lme_fw_all)\n",
    "write.csv(anova_result, file.path(output_dir, \"anova_fw_cst_longitudinal_all.csv\"))\n",
    "\n",
    "# Save model summary\n",
    "model_summary_df <- tidy(demographics_dss_lme_fw_all)\n",
    "write.csv(model_summary_df, file.path(output_dir, \"lme_fw_cst_longitudinal.csv\"))\n",
    "\n",
    "# Display results\n",
    "anova_result\n",
    "summary(demographics_dss_lme_fw_all)\n",
    "r.squaredGLMM(demographics_dss_lme_fw_all)"
   ]
  },
  {
   "cell_type": "code",
   "execution_count": null,
   "metadata": {
    "vscode": {
     "languageId": "r"
    }
   },
   "outputs": [],
   "source": [
    "library(multcomp)\n",
    "library(broom)\n",
    "\n",
    "# Run post-hoc tests\n",
    "posthoc_fw_all <- glht(demographics_dss_lme_fw_all, linfct = mcp(ses_id = \"Tukey\"))\n",
    "posthoc_summary <- summary(posthoc_fw_all)\n",
    "posthoc_confint <- confint(posthoc_fw_all)\n",
    "\n",
    "# Convert both summary and confint to data frames\n",
    "posthoc_summary_df <- tidy(posthoc_summary)\n",
    "posthoc_confint_df <- tidy(posthoc_confint)\n",
    "\n",
    "# Merge summary and confidence intervals data frames\n",
    "combined_df <- merge(posthoc_summary_df, posthoc_confint_df, by = c(\"contrast\", \"term\", \"estimate\"))\n",
    "\n",
    "# Write the combined dataframe to CSV\n",
    "write.csv(combined_df, file.path(output_dir, \"lme_fw_cst_longitudinal_posthoc_tests.csv\"))\n",
    "\n",
    "# Display results\n",
    "posthoc_summary\n",
    "posthoc_confint"
   ]
  },
  {
   "cell_type": "markdown",
   "metadata": {},
   "source": [
    "### Plot relative free-water of CST over time"
   ]
  },
  {
   "cell_type": "code",
   "execution_count": null,
   "metadata": {
    "vscode": {
     "languageId": "r"
    }
   },
   "outputs": [],
   "source": [
    "df_fw_cst_per_timepoint <- df_toi %>% group_by(ses_id) %>% summarise(mean(rel_fw_cst), sd(rel_fw_cst))\n",
    "\n",
    "df_fw_cst_per_timepoint\n",
    "\n",
    "write.csv(df_fat_cst_per_timepoint, file.path(output_dir, \"df_fw_cst_per_timepoint.csv\"), row.names = FALSE)\n"
   ]
  },
  {
   "cell_type": "code",
   "execution_count": null,
   "metadata": {
    "vscode": {
     "languageId": "r"
    }
   },
   "outputs": [],
   "source": [
    "posthoc_summary"
   ]
  },
  {
   "cell_type": "code",
   "execution_count": null,
   "metadata": {
    "vscode": {
     "languageId": "r"
    }
   },
   "outputs": [],
   "source": [
    "library(ggsignif)\n",
    "\n",
    "df_fw_cst_per_timepoint %>% \n",
    "ggplot(aes(x=ses_id, y=`mean(rel_fw_cst)`, fill = ses_id)) + \n",
    "geom_bar(color=\"black\",position = \"dodge\", stat=\"summary\", fun = \"mean\") +\n",
    "geom_errorbar(aes(ymin=`mean(rel_fw_cst)`-`sd(rel_fw_cst)`, ymax=`mean(rel_fw_cst)`+`sd(rel_fw_cst)`), width=.2, position=position_dodge(.9)) +\n",
    "geom_signif(comparisons = list(c(\"3-5 days\", \"1 year\")),y_position=0.4, annotation = \"***\") +\n",
    "geom_signif(comparisons = list(c(\"3-5 days\", \"3 months\")),y_position=0.45, annotation = \"**\") +\n",
    "geom_signif(comparisons = list(c(\"1 month\", \"1 year\")),y_position=0.50, annotation = \"***\") +\n",
    "geom_signif(comparisons = list(c(\"1 month\", \"3 months\")),y_position=0.55, annotation = \"*\") +\n",
    "geom_hline(yintercept=0, linetype = \"solid\", color = \"red\") +\n",
    "scale_fill_brewer(palette=\"Blues\", direction=-1) +\n",
    "theme_test() + labs(y = \"FW - CST [(ipsi-contra)/contra]\", x = \"\", fill = \"Time Point\") + \n",
    "ylim(-0.2,0.6) -> fw_normalized_lesion_barplot\n",
    "\n",
    "# Display figure\n",
    "fw_normalized_lesion_barplot\n",
    "\n",
    "# Save figure\n",
    "ggsave(file.path(output_dir, \"fw_normalized_all_cst_barplot.png\"), plot = fw_normalized_lesion_barplot, dpi = 300, width = 6, height = 5)"
   ]
  },
  {
   "cell_type": "code",
   "execution_count": null,
   "metadata": {
    "vscode": {
     "languageId": "r"
    }
   },
   "outputs": [],
   "source": [
    "library(ggplot2)\n",
    "\n",
    "# Plot\n",
    "ggplot(df_toi, aes(x = ses_id, y = rel_fw_cst, group = ses_id)) +\n",
    "  geom_boxplot() +\n",
    "  stat_summary(fun.y = median, geom = \"line\", aes(group = 1), color = \"blue\") +\n",
    "  stat_summary(fun.y = median, geom = \"point\", aes(group = 1), color = \"blue\") +\n",
    "  theme_test()\n"
   ]
  },
  {
   "cell_type": "markdown",
   "metadata": {},
   "source": [
    "### Perilesional and lesional free-water and FAt of CST at 1 year "
   ]
  },
  {
   "cell_type": "code",
   "execution_count": null,
   "metadata": {
    "vscode": {
     "languageId": "r"
    }
   },
   "outputs": [],
   "source": [
    "df_toi_ses4 <- df_toi[df_toi$ses_id == \"1 year\", ]"
   ]
  },
  {
   "cell_type": "code",
   "execution_count": null,
   "metadata": {
    "vscode": {
     "languageId": "r"
    }
   },
   "outputs": [],
   "source": [
    "ggscatter(df_toi_ses4, x = \"mean_fw_perilesional\", y = \"rel_fat_cst\", add = \"reg.line\", cor.method = \"spearman\", cor.coef = TRUE)\n",
    "ggscatter(df_toi_ses4, x = \"fw_lesional\", y = \"rel_fat_cst\", add = \"reg.line\", cor.method = \"spearman\", cor.coef = TRUE)"
   ]
  },
  {
   "cell_type": "code",
   "execution_count": null,
   "metadata": {
    "vscode": {
     "languageId": "r"
    }
   },
   "outputs": [],
   "source": [
    "ggscatter(df_toi_ses4, x = \"mean_fw_perilesional\", y = \"mean_fat_perilesional\", add = \"reg.line\", cor.method = \"spearman\", cor.coef = TRUE)\n",
    "ggscatter(df_toi_ses4, x = \"fw_lesional\", y = \"fat_lesional\", add = \"reg.line\", cor.method = \"spearman\", cor.coef = TRUE)"
   ]
  },
  {
   "cell_type": "markdown",
   "metadata": {},
   "source": [
    "### Free-water and FAt of CST at 1 year"
   ]
  },
  {
   "cell_type": "code",
   "execution_count": null,
   "metadata": {
    "vscode": {
     "languageId": "r"
    }
   },
   "outputs": [],
   "source": [
    "ggscatter(df_toi_ses4, x = \"rel_fw_cst\", y = \"rel_fat_cst\", add = \"reg.line\", cor.method = \"spearman\", cor.coef = TRUE)\n"
   ]
  },
  {
   "cell_type": "markdown",
   "metadata": {},
   "source": [
    "### Perilesional and lesional FAt and FAt of CST at 1 year "
   ]
  },
  {
   "cell_type": "code",
   "execution_count": null,
   "metadata": {
    "vscode": {
     "languageId": "r"
    }
   },
   "outputs": [],
   "source": [
    "ggscatter(df_toi_ses4, x = \"mean_fat_perilesional\", y = \"rel_fat_cst\", add = \"reg.line\", cor.method = \"spearman\", cor.coef = TRUE)\n",
    "ggscatter(df_toi_ses4, x = \"fat_lesional\", y = \"rel_fat_cst\", add = \"reg.line\", cor.method = \"spearman\", cor.coef = TRUE)"
   ]
  },
  {
   "cell_type": "markdown",
   "metadata": {},
   "source": [
    "### Perilesional and lesional FAt and free-water of CST at 1 year "
   ]
  },
  {
   "cell_type": "code",
   "execution_count": null,
   "metadata": {
    "vscode": {
     "languageId": "r"
    }
   },
   "outputs": [],
   "source": [
    "ggscatter(df_toi_ses4, x = \"mean_fat_perilesional\", y = \"rel_fw_cst\", add = \"reg.line\", cor.method = \"spearman\", cor.coef = TRUE)\n",
    "ggscatter(df_toi_ses4, x = \"fat_lesional\", y = \"rel_fw_cst\", add = \"reg.line\", cor.method = \"spearman\", cor.coef = TRUE)"
   ]
  },
  {
   "cell_type": "markdown",
   "metadata": {},
   "source": [
    "### Perilesional and lesional free-water and free-water of CST at 1 year "
   ]
  },
  {
   "cell_type": "code",
   "execution_count": null,
   "metadata": {
    "vscode": {
     "languageId": "r"
    }
   },
   "outputs": [],
   "source": [
    "ggscatter(df_toi_ses4, x = \"mean_fw_perilesional\", y = \"rel_fw_cst\", add = \"reg.line\", cor.method = \"spearman\", cor.coef = TRUE)\n",
    "ggscatter(df_toi_ses4, x = \"fw_lesional\", y = \"rel_fw_cst\", add = \"reg.line\", cor.method = \"spearman\", cor.coef = TRUE)"
   ]
  },
  {
   "cell_type": "markdown",
   "metadata": {},
   "source": [
    "### NIHSS ~ FAt in CST at 3 months"
   ]
  },
  {
   "cell_type": "code",
   "execution_count": null,
   "metadata": {
    "vscode": {
     "languageId": "r"
    }
   },
   "outputs": [],
   "source": [
    "df_toi_ses3 <- df_toi[df_toi$ses_id == \"3 months\", ]"
   ]
  },
  {
   "cell_type": "code",
   "execution_count": null,
   "metadata": {
    "vscode": {
     "languageId": "r"
    }
   },
   "outputs": [],
   "source": [
    "ggscatter(df_toi_ses3, x = \"nihss\", y = \"rel_fat_cst\", add = \"reg.line\", cor.method = \"spearman\", cor.coef = TRUE)"
   ]
  },
  {
   "cell_type": "code",
   "execution_count": null,
   "metadata": {
    "vscode": {
     "languageId": "r"
    }
   },
   "outputs": [],
   "source": [
    "# Create figure\n",
    "ggscatter(df_toi_ses3, y = \"rel_fat_cst\", x = \"nihss\", add = \"reg.line\", \n",
    "    add.params = list(color = \"red\", fill = \"lightgray\"), cor.method = \"spearman\", \n",
    "    cor.coef = TRUE, cor.coef.name = \"rho\", cor.coeff.args = list(label.x = 4),\n",
    "    conf.int = TRUE, \n",
    "    xlab = \"NIHSS\", ylab = \"FA-t - CST [(ipsi-contra)/contra]\") -> fat_cst_nihss_corr\n",
    "\n",
    "# Display figure\n",
    "fat_cst_nihss_corr\n",
    "\n",
    "# Save figure\n",
    "ggsave(file.path(output_dir, \"fat_cst_nihss_corr.png\"), plot = fat_cst_nihss_corr, dpi = 300, width = 6, height = 5)"
   ]
  },
  {
   "cell_type": "code",
   "execution_count": null,
   "metadata": {
    "vscode": {
     "languageId": "r"
    }
   },
   "outputs": [],
   "source": [
    "nihss_fat_cst <- lm(nihss ~ 1 + rel_fat_cst + lesion_volume + days_since_stroke + age + sex, data = df_toi_ses3)\n",
    "summary(nihss_fat_cst)"
   ]
  },
  {
   "cell_type": "markdown",
   "metadata": {},
   "source": [
    "### NIHSS ~ free-water in CST at 3 months"
   ]
  },
  {
   "cell_type": "code",
   "execution_count": null,
   "metadata": {
    "vscode": {
     "languageId": "r"
    }
   },
   "outputs": [],
   "source": [
    "ggscatter(df_toi_ses3, x = \"nihss\", y = \"rel_fw_cst\", add = \"reg.line\", cor.method = \"spearman\", cor.coef = TRUE)"
   ]
  },
  {
   "cell_type": "code",
   "execution_count": null,
   "metadata": {
    "vscode": {
     "languageId": "r"
    }
   },
   "outputs": [],
   "source": [
    "nihss_fw_cst <- lm(nihss ~ 1 + rel_fw_cst + lesion_volume + days_since_stroke + age + sex, data = df_toi_ses3)\n",
    "summary(nihss_fw_cst)"
   ]
  },
  {
   "cell_type": "code",
   "execution_count": null,
   "metadata": {
    "vscode": {
     "languageId": "r"
    }
   },
   "outputs": [],
   "source": [
    "# Create figure\n",
    "ggscatter(df_toi_ses3, y = \"rel_fw_cst\", x = \"nihss\", add = \"reg.line\", \n",
    "    add.params = list(color = \"blue\", fill = \"lightgray\"), cor.method = \"spearman\", cor.coef = TRUE, cor.coef.name = \"rho\", \n",
    "    conf.int = TRUE, xlab = \"NIHSS\", ylab = \"FW - CST [(ipsi-contra)/contra]\") -> fw_cst_nihss_corr\n",
    "\n",
    "# Display figure\n",
    "fw_cst_nihss_corr\n",
    "\n",
    "# Save figure\n",
    "ggsave(file.path(output_dir, \"fw_cst_nihss_corr.png\"), plot = fw_cst_nihss_corr, dpi = 300, width = 6, height = 5)"
   ]
  },
  {
   "cell_type": "markdown",
   "metadata": {},
   "source": [
    "## Desciptive statistics of free-water and FAt in HCHS and SFBC1"
   ]
  },
  {
   "cell_type": "markdown",
   "metadata": {},
   "source": [
    "### Read in data"
   ]
  },
  {
   "cell_type": "code",
   "execution_count": null,
   "metadata": {
    "vscode": {
     "languageId": "r"
    }
   },
   "outputs": [],
   "source": [
    "# HCHS data\n",
    "\n",
    "hchs_tbss <- read_csv(file.path(input_dir, \"hchs_tbss.csv\"))\n",
    "hchs_tbss <- hchs_tbss[c(\"sub_id\", \"tbssmni_skeleton_mean_FW\", \"tbssmni_skeleton_mean_FAt\")]\n",
    "hchs_tbss <- drop_na(hchs_tbss, \"tbssmni_skeleton_mean_FAt\")"
   ]
  },
  {
   "cell_type": "code",
   "execution_count": null,
   "metadata": {
    "vscode": {
     "languageId": "r"
    }
   },
   "outputs": [],
   "source": [
    "# SFBC1 data\n",
    "sfbc1_tbss <- read_csv(file.path(input_dir, \"sub-all_ses-1_space-MNI_desc-skeleton_label-JHU_desc-ROIs_means.csv\"))\n",
    "sfbc1_tbss <- sfbc1_tbss[c(\"sub_id\", \"tbssmni_skeleton_mean_FW\", \"tbssmni_skeleton_mean_FAt\")]\n",
    "\n",
    "df <- read_csv(file.path(input_dir, \"sfbc1_data.csv\"))\n",
    "\n",
    "df_con <- full_join(df, sfbc1_tbss, copy = TRUE) \n",
    "df_con <- df_con[df_con$group == \"con\",]\n",
    "df_con <- drop_na(df_con[c(\"sub_id\", \"age\", \"sex\", \"tbssmni_skeleton_mean_FW\", \"tbssmni_skeleton_mean_FAt\")], \"tbssmni_skeleton_mean_FAt\")\n",
    "\n",
    "df_pat <- full_join(df, sfbc1_tbss, copy = TRUE) \n",
    "df_pat <- df_pat[df_pat$group == \"pat\" & df_pat$ses_id == \"1\" & df_pat$lesion_location_category == \"2\",]\n",
    "df_pat <- drop_na(df_pat[c(\"sub_id\", \"age\", \"sex\", \"tbssmni_skeleton_mean_FW\", \"tbssmni_skeleton_mean_FAt\")],)\n"
   ]
  },
  {
   "cell_type": "markdown",
   "metadata": {},
   "source": [
    "### Mean free-water (skeleton) in patients ~ age "
   ]
  },
  {
   "cell_type": "code",
   "execution_count": null,
   "metadata": {
    "vscode": {
     "languageId": "r"
    }
   },
   "outputs": [],
   "source": [
    "ggscatter(data = df_patients_subcortical_ses1[df_patients_subcortical_ses1$location == \"lesion\",],x = \"age\", y=\"tbssmni_skeleton_mean_FW\", add = \"reg.line\", cor.method = \"spearman\", cor.coef = TRUE)"
   ]
  },
  {
   "cell_type": "markdown",
   "metadata": {},
   "source": [
    "### Descriptive stats and histograms"
   ]
  },
  {
   "cell_type": "code",
   "execution_count": null,
   "metadata": {
    "vscode": {
     "languageId": "r"
    }
   },
   "outputs": [],
   "source": [
    "library(pastecs)\n",
    "\n",
    "# HCHS\n",
    "stat.desc(hchs_tbss)\n",
    "\n",
    "# SFBC1\n",
    "stat.desc(df_con)\n",
    "summary(df_con$sex)\n"
   ]
  },
  {
   "cell_type": "code",
   "execution_count": null,
   "metadata": {
    "vscode": {
     "languageId": "r"
    }
   },
   "outputs": [],
   "source": [
    "# histograms\n",
    "hist(x = hchs_tbss$tbssmni_skeleton_mean_FW)\n",
    "hist(x = df_con$tbssmni_skeleton_mean_FW,breaks = 4)"
   ]
  }
 ],
 "metadata": {
  "interpreter": {
   "hash": "670600997a950fa4949c4f437e053972f9e8db0968569fb7ef65a7c862049b6c"
  },
  "kernelspec": {
   "display_name": "R",
   "language": "R",
   "name": "ir"
  },
  "language_info": {
   "codemirror_mode": "r",
   "file_extension": ".r",
   "mimetype": "text/x-r-source",
   "name": "R",
   "pygments_lexer": "r",
   "version": "4.3.2"
  },
  "orig_nbformat": 4
 },
 "nbformat": 4,
 "nbformat_minor": 2
}
