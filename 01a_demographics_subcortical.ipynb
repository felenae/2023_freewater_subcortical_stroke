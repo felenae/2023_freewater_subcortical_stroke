{
 "cells": [
  {
   "cell_type": "markdown",
   "metadata": {},
   "source": [
    "# Load libraries"
   ]
  },
  {
   "cell_type": "code",
   "execution_count": null,
   "metadata": {
    "vscode": {
     "languageId": "r"
    }
   },
   "outputs": [],
   "source": [
    "library(tidyverse)\n",
    "library(pastecs)\n",
    "library(tableone)"
   ]
  },
  {
   "cell_type": "markdown",
   "metadata": {},
   "source": [
    "# Set up paths"
   ]
  },
  {
   "cell_type": "code",
   "execution_count": null,
   "metadata": {
    "vscode": {
     "languageId": "r"
    }
   },
   "outputs": [],
   "source": [
    "code_dir <- getwd()\n",
    "project_dir <- file.path(code_dir, \"..\")\n",
    "input_dir <- file.path(code_dir, \"../sourcedata\")\n",
    "output_dir <- file.path(code_dir, \"../output/demographics\")\n",
    "\n",
    "# Check if the directory exists\n",
    "if (!dir.exists(output_dir)) {\n",
    "  # Directory does not exist, so create it\n",
    "  dir.create(output_dir, recursive = TRUE)\n",
    "  cat(\"Directory created at:\", output_dir)\n",
    "} else {\n",
    "  # Directory already exists\n",
    "  cat(\"Directory already exists at:\", output_dir)\n",
    "}"
   ]
  },
  {
   "attachments": {},
   "cell_type": "markdown",
   "metadata": {},
   "source": [
    "# Load dataframe"
   ]
  },
  {
   "cell_type": "code",
   "execution_count": null,
   "metadata": {
    "vscode": {
     "languageId": "r"
    }
   },
   "outputs": [],
   "source": [
    "df_joined <- read_csv(file.path(input_dir, \"df_joined.csv\"))"
   ]
  },
  {
   "attachments": {},
   "cell_type": "markdown",
   "metadata": {},
   "source": [
    "# Demographics"
   ]
  },
  {
   "cell_type": "markdown",
   "metadata": {},
   "source": [
    "## Time point 1: Including sub-pa021 (does not have data at time point 1)"
   ]
  },
  {
   "cell_type": "code",
   "execution_count": null,
   "metadata": {
    "vscode": {
     "languageId": "r"
    }
   },
   "outputs": [],
   "source": [
    "df_demo <- df_joined[df_joined$group == \"pat\" & df_joined$ses_id == \"1\" & df_joined$lesion_location_category == \"subcortical\", ]\n",
    "\n",
    "df_demo$sex <- factor(df_demo$sex)\n",
    "df_demo$dominant_hand <- factor(df_demo$dominant_hand)\n",
    "df_demo$lesion_side <- factor(df_demo$lesion_side)\n",
    "\n",
    "df_demo <- df_demo %>%\n",
    "  mutate(across(c(\n",
    "        \"Risikofaktoren_Bluthochdruck\", \n",
    "        \"Risikofaktoren_Hypercholesterinaemie\", \n",
    "        \"Risikofaktoren_Herzrhythmusstoerungen\", \n",
    "        \"Risikofaktoren_Diabetes\", \n",
    "        \"Risikofaktoren_Nikotinabusus\", \n",
    "        \"Risikofaktoren_Adipositas\", \n",
    "        \"Risikofaktoren_vaskulaereEreignisse\",\n",
    "        \"Risikofaktoren_Artherosklerose\"), \n",
    "        ~factor(., levels = c(\"Nein\", \"Ja\"))))"
   ]
  },
  {
   "cell_type": "code",
   "execution_count": null,
   "metadata": {
    "vscode": {
     "languageId": "r"
    }
   },
   "outputs": [],
   "source": [
    "desc <- stat.desc(df_demo[, c(\"age\", \"nihss\", \"days_since_stroke\", \"lesion_volume\", \"gripstrength_affected_nonaffected\", \"fugl_meyer\", \"nhp_affected_nonaffected\")])\n",
    "desc\n",
    "\n",
    "sex <- summary(df_demo[, \"sex\"])\n",
    "sex\n",
    "\n",
    "hand <- summary(df_demo[, \"dominant_hand\"])\n",
    "hand\n",
    "\n",
    "lesion_side <- summary(df_demo[, \"lesion_side\"])\n",
    "lesion_side\n",
    "\n",
    "quantile_nihss <- quantile(df_demo[, \"nihss\"], na.rm = TRUE)\n",
    "quantile_nihss"
   ]
  },
  {
   "cell_type": "code",
   "execution_count": null,
   "metadata": {
    "vscode": {
     "languageId": "r"
    }
   },
   "outputs": [],
   "source": [
    "write.csv(desc, file.path(output_dir, \"demographics_tp1.csv\"), row.names = FALSE)"
   ]
  },
  {
   "cell_type": "code",
   "execution_count": null,
   "metadata": {
    "vscode": {
     "languageId": "r"
    }
   },
   "outputs": [],
   "source": [
    "cvr <- CreateTableOne(\n",
    "    data = df_demo, \n",
    "    vars = c(\n",
    "        \"Risikofaktoren_Bluthochdruck\", \n",
    "        \"Risikofaktoren_Hypercholesterinaemie\", \n",
    "        \"Risikofaktoren_Herzrhythmusstoerungen\", \n",
    "        \"Risikofaktoren_Diabetes\", \n",
    "        \"Risikofaktoren_Nikotinabusus\", \n",
    "        \"Risikofaktoren_Adipositas\", \n",
    "        \"Risikofaktoren_vaskulaereEreignisse\",\n",
    "        \"Risikofaktoren_Artherosklerose\"))\n",
    "\n",
    "print(cvr)"
   ]
  },
  {
   "attachments": {},
   "cell_type": "markdown",
   "metadata": {},
   "source": [
    "## Time point 1: Only including subjects that have DWI data at time point 1"
   ]
  },
  {
   "cell_type": "code",
   "execution_count": null,
   "metadata": {
    "vscode": {
     "languageId": "r"
    }
   },
   "outputs": [],
   "source": [
    "df_demographics <- drop_na(df_demo, \"lesionanalysis_lesion_mean_FW\")"
   ]
  },
  {
   "cell_type": "code",
   "execution_count": null,
   "metadata": {
    "vscode": {
     "languageId": "r"
    }
   },
   "outputs": [],
   "source": [
    "desc <- stat.desc(df_demographics[, c(\"age\", \"nihss\", \"days_since_stroke\", \"lesion_volume\", \"gripstrength_affected_nonaffected\", \"fugl_meyer\", \"nhp_affected_nonaffected\")])\n",
    "desc\n",
    "\n",
    "sex <- summary(df_demographics[, \"sex\"])\n",
    "sex\n",
    "\n",
    "hand <- summary(df_demographics[, \"dominant_hand\"])\n",
    "hand\n",
    "\n",
    "lesion_side <- summary(df_demographics[, \"lesion_side\"])\n",
    "lesion_side\n",
    "\n",
    "quantile_nihss <- quantile(df_demographics[, \"nihss\"], na.rm = TRUE)\n",
    "quantile_nihss"
   ]
  },
  {
   "attachments": {},
   "cell_type": "markdown",
   "metadata": {},
   "source": [
    "## Time point 3: Clinical variables"
   ]
  },
  {
   "cell_type": "code",
   "execution_count": null,
   "metadata": {
    "vscode": {
     "languageId": "r"
    }
   },
   "outputs": [],
   "source": [
    "df_demographics_tp3 <- df_joined[df_joined$group == \"pat\" & df_joined$ses_id == \"3\" & df_joined$lesion_location_category == \"subcortical\", ]\n",
    "df_demographics_tp3 <- drop_na(df_demographics_tp3, \"lesionanalysis_lesion_mean_FW\")"
   ]
  },
  {
   "cell_type": "code",
   "execution_count": null,
   "metadata": {
    "vscode": {
     "languageId": "r"
    }
   },
   "outputs": [],
   "source": [
    "desc_tp3 <- stat.desc(df_demographics_tp3[, c(\"age\", \"nihss\", \"days_since_stroke\", \"lesion_volume\", \"gripstrength_affected_nonaffected\", \"fugl_meyer\", \"nhp_affected_nonaffected\")])\n",
    "desc_tp3\n",
    "\n",
    "quantile(df_demographics_tp3[,\"nihss\"], na.rm = TRUE)"
   ]
  },
  {
   "cell_type": "code",
   "execution_count": null,
   "metadata": {
    "vscode": {
     "languageId": "r"
    }
   },
   "outputs": [],
   "source": [
    "write.csv(desc_tp3, file.path(output_dir, \"demographics_tp3.csv\"), row.names = FALSE)"
   ]
  }
 ],
 "metadata": {
  "interpreter": {
   "hash": "670600997a950fa4949c4f437e053972f9e8db0968569fb7ef65a7c862049b6c"
  },
  "kernelspec": {
   "display_name": "R",
   "language": "R",
   "name": "ir"
  },
  "language_info": {
   "codemirror_mode": "r",
   "file_extension": ".r",
   "mimetype": "text/x-r-source",
   "name": "R",
   "pygments_lexer": "r",
   "version": "4.3.2"
  },
  "orig_nbformat": 4
 },
 "nbformat": 4,
 "nbformat_minor": 2
}
