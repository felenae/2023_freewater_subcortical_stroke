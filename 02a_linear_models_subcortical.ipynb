{
 "cells": [
  {
   "cell_type": "markdown",
   "metadata": {},
   "source": [
    "# Load libraries"
   ]
  },
  {
   "cell_type": "code",
   "execution_count": null,
   "metadata": {
    "vscode": {
     "languageId": "r"
    }
   },
   "outputs": [],
   "source": [
    "library(tidyverse)\n",
    "library(lmerTest)\n",
    "library(multcomp)\n",
    "library(ggpubr)"
   ]
  },
  {
   "cell_type": "markdown",
   "metadata": {},
   "source": [
    "# Set up paths"
   ]
  },
  {
   "cell_type": "code",
   "execution_count": null,
   "metadata": {
    "vscode": {
     "languageId": "r"
    }
   },
   "outputs": [],
   "source": [
    "code_dir <- getwd()\n",
    "project_dir <- file.path(code_dir, \"..\")\n",
    "input_dir <- file.path(code_dir, \"../sourcedata\")\n",
    "output_dir <- file.path(code_dir, \"../output/linear_models\")\n",
    "plot_dir <- file.path(code_dir, \"../output/plots\")\n",
    "\n",
    "# Check if the directories exists\n",
    "\n",
    "for (dir in c(output_dir, plot_dir)) {\n",
    "  # Check if the directory exists\n",
    "  if (!dir.exists(dir)) {\n",
    "    # Create the directory if it does not exist\n",
    "    dir.create(dir)\n",
    "    cat(\"Created directory:\", dir, \"\\n\")\n",
    "  } else {\n",
    "    cat(\"Directory already exists:\", dir, \"\\n\")\n",
    "  }\n",
    "}"
   ]
  },
  {
   "cell_type": "markdown",
   "metadata": {},
   "source": [
    "# Load dataframes"
   ]
  },
  {
   "cell_type": "code",
   "execution_count": null,
   "metadata": {
    "vscode": {
     "languageId": "r"
    }
   },
   "outputs": [],
   "source": [
    "df_joined <- read_csv(file.path(input_dir, \"df_joined.csv\"))\n",
    "df_esoc_norm <- read_csv(file.path(input_dir, \"df_normalized.csv\"))"
   ]
  },
  {
   "attachments": {},
   "cell_type": "markdown",
   "metadata": {},
   "source": [
    "# Linear models"
   ]
  },
  {
   "cell_type": "markdown",
   "metadata": {},
   "source": [
    "## Prepare dataframes"
   ]
  },
  {
   "cell_type": "markdown",
   "metadata": {},
   "source": [
    "### Dataframe subset with subcortical infarcts and removal of subjects without diffusion data"
   ]
  },
  {
   "cell_type": "code",
   "execution_count": null,
   "metadata": {
    "vscode": {
     "languageId": "r"
    }
   },
   "outputs": [],
   "source": [
    "df_patients_subcortical_all <- df_esoc_norm[df_esoc_norm$group == \"pat\" & df_esoc_norm$lesion_location_category == \"subcortical\", ]\n",
    "df_patients_subcortical_all <- drop_na(df_patients_subcortical_all, \"lesionanalysis_lesion_mean_FW\")\n",
    "df_patients_subcortical_all$ses_id <- factor(df_patients_subcortical_all$ses_id, levels = 1:4, labels = c(\"3-5 days\", \"1 month\", \"3 months\", \"1 year\"))"
   ]
  },
  {
   "cell_type": "code",
   "execution_count": null,
   "metadata": {
    "vscode": {
     "languageId": "r"
    }
   },
   "outputs": [],
   "source": [
    "# Session 1\n",
    "df_patients_subcortical_ses1 <- df_esoc_norm[df_esoc_norm$group == \"pat\" & df_esoc_norm$ses_id == \"1\" & df_esoc_norm$lesion_location_category == \"subcortical\", ]\n",
    "df_patients_subcortical_ses1 <- drop_na(df_patients_subcortical_ses1, \"lesionanalysis_lesion_mean_FW\")\n",
    "df_patients_subcortical_ses1$location <- factor(df_patients_subcortical_ses1$location, levels = c(\"lesion\",\"2mm\",\"4mm\",\"6mm\",\"8mm\",\"10mm\",\"12mm\",\"14mm\",\"16mm\"))\n",
    "\n",
    "#df$sex, levels = 0:1, labels = c(\"female\", \"male\")\n",
    "\n",
    "# Session 2\n",
    "df_patients_subcortical_ses2 <- df_esoc_norm[df_esoc_norm$group == \"pat\" & df_esoc_norm$ses_id == \"2\" & df_esoc_norm$lesion_location_category == \"subcortical\", ]\n",
    "df_patients_subcortical_ses2 <- drop_na(df_patients_subcortical_ses2, c(\"sub_id\", \"lesionanalysis_lesion_mean_FW\"))\n",
    "df_patients_subcortical_ses2$location <- factor(df_patients_subcortical_ses2$location, levels = c(\"lesion\",\"2mm\",\"4mm\",\"6mm\",\"8mm\",\"10mm\",\"12mm\",\"14mm\",\"16mm\"))\n",
    "\n",
    "# Session 3\n",
    "df_patients_subcortical_ses3 <- df_esoc_norm[df_esoc_norm$group == \"pat\" & df_esoc_norm$ses_id == \"3\" & df_esoc_norm$lesion_location_category == \"subcortical\", ]\n",
    "df_patients_subcortical_ses3 <- drop_na(df_patients_subcortical_ses3, c(\"sub_id\", \"lesionanalysis_lesion_mean_FW\"))\n",
    "df_patients_subcortical_ses3$location <- factor(df_patients_subcortical_ses3$location, levels = c(\"lesion\",\"2mm\",\"4mm\",\"6mm\",\"8mm\",\"10mm\",\"12mm\",\"14mm\",\"16mm\"))\n",
    "\n",
    "# Session 4\n",
    "df_patients_subcortical_ses4 <- df_esoc_norm[df_esoc_norm$group == \"pat\" & df_esoc_norm$ses_id == \"4\" & df_esoc_norm$lesion_location_category == \"subcortical\", ]\n",
    "df_patients_subcortical_ses4 <- drop_na(df_patients_subcortical_ses4, c(\"sub_id\", \"lesionanalysis_lesion_mean_FW\"))\n",
    "df_patients_subcortical_ses4$location <- factor(df_patients_subcortical_ses4$location, levels = c(\"lesion\",\"2mm\",\"4mm\",\"6mm\",\"8mm\",\"10mm\",\"12mm\",\"14mm\",\"16mm\"))\n"
   ]
  },
  {
   "cell_type": "markdown",
   "metadata": {},
   "source": [
    "### Lesion / shell vectors per time point"
   ]
  },
  {
   "cell_type": "code",
   "execution_count": null,
   "metadata": {
    "vscode": {
     "languageId": "r"
    }
   },
   "outputs": [],
   "source": [
    "# ### Session 1\n",
    "lesion_ses1 <- df_patients_subcortical_ses1[df_patients_subcortical_ses1$location == \"lesion\",]\n",
    "shell1_ses1 <- df_patients_subcortical_ses1[df_patients_subcortical_ses1$location == \"2mm\",]\n",
    "shell2_ses1 <- df_patients_subcortical_ses1[df_patients_subcortical_ses1$location == \"4mm\",]\n",
    "shell3_ses1 <- df_patients_subcortical_ses1[df_patients_subcortical_ses1$location == \"6mm\",]\n",
    "shell4_ses1 <- df_patients_subcortical_ses1[df_patients_subcortical_ses1$location == \"8mm\",]\n",
    "shell5_ses1 <- df_patients_subcortical_ses1[df_patients_subcortical_ses1$location == \"10mm\",]\n",
    "shell6_ses1 <- df_patients_subcortical_ses1[df_patients_subcortical_ses1$location == \"12mm\",]\n",
    "shell7_ses1 <- df_patients_subcortical_ses1[df_patients_subcortical_ses1$location == \"14mm\",]\n",
    "shell8_ses1 <- df_patients_subcortical_ses1[df_patients_subcortical_ses1$location == \"16mm\",]\n"
   ]
  },
  {
   "cell_type": "code",
   "execution_count": null,
   "metadata": {
    "vscode": {
     "languageId": "r"
    }
   },
   "outputs": [],
   "source": [
    "### Session 2\n",
    "lesion_ses2 <- df_patients_subcortical_ses2[df_patients_subcortical_ses2$location == \"lesion\",]\n",
    "shell1_ses2 <- df_patients_subcortical_ses2[df_patients_subcortical_ses2$location == \"2mm\",]\n",
    "shell2_ses2 <- df_patients_subcortical_ses2[df_patients_subcortical_ses2$location == \"4mm\",]\n",
    "shell3_ses2 <- df_patients_subcortical_ses2[df_patients_subcortical_ses2$location == \"6mm\",]\n",
    "shell4_ses2 <- df_patients_subcortical_ses2[df_patients_subcortical_ses2$location == \"8mm\",]\n",
    "shell5_ses2 <- df_patients_subcortical_ses2[df_patients_subcortical_ses2$location == \"10mm\",]\n",
    "shell6_ses2 <- df_patients_subcortical_ses2[df_patients_subcortical_ses2$location == \"12mm\",]\n",
    "shell7_ses2 <- df_patients_subcortical_ses2[df_patients_subcortical_ses2$location == \"14mm\",]\n",
    "shell8_ses2 <- df_patients_subcortical_ses2[df_patients_subcortical_ses2$location == \"16mm\",]\n"
   ]
  },
  {
   "cell_type": "code",
   "execution_count": null,
   "metadata": {
    "vscode": {
     "languageId": "r"
    }
   },
   "outputs": [],
   "source": [
    "### Session 3\n",
    "lesion_ses3 <- df_patients_subcortical_ses3[df_patients_subcortical_ses3$location == \"lesion\",]\n",
    "shell1_ses3 <- df_patients_subcortical_ses3[df_patients_subcortical_ses3$location == \"2mm\",]\n",
    "shell2_ses3 <- df_patients_subcortical_ses3[df_patients_subcortical_ses3$location == \"4mm\",]\n",
    "shell3_ses3 <- df_patients_subcortical_ses3[df_patients_subcortical_ses3$location == \"6mm\",]\n",
    "shell4_ses3 <- df_patients_subcortical_ses3[df_patients_subcortical_ses3$location == \"8mm\",]\n",
    "shell5_ses3 <- df_patients_subcortical_ses3[df_patients_subcortical_ses3$location == \"10mm\",]\n",
    "shell6_ses3 <- df_patients_subcortical_ses3[df_patients_subcortical_ses3$location == \"12mm\",]\n",
    "shell7_ses3 <- df_patients_subcortical_ses3[df_patients_subcortical_ses3$location == \"14mm\",]\n",
    "shell8_ses3 <- df_patients_subcortical_ses3[df_patients_subcortical_ses3$location == \"16mm\",]"
   ]
  },
  {
   "cell_type": "code",
   "execution_count": null,
   "metadata": {
    "vscode": {
     "languageId": "r"
    }
   },
   "outputs": [],
   "source": [
    "### Session 4\n",
    "lesion_ses4 <- df_patients_subcortical_ses4[df_patients_subcortical_ses4$location == \"lesion\",]\n",
    "shell1_ses4 <- df_patients_subcortical_ses4[df_patients_subcortical_ses4$location == \"2mm\",]\n",
    "shell2_ses4 <- df_patients_subcortical_ses4[df_patients_subcortical_ses4$location == \"4mm\",]\n",
    "shell3_ses4 <- df_patients_subcortical_ses4[df_patients_subcortical_ses4$location == \"6mm\",]\n",
    "shell4_ses4 <- df_patients_subcortical_ses4[df_patients_subcortical_ses4$location == \"8mm\",]\n",
    "shell5_ses4 <- df_patients_subcortical_ses4[df_patients_subcortical_ses4$location == \"10mm\",]\n",
    "shell6_ses4 <- df_patients_subcortical_ses4[df_patients_subcortical_ses4$location == \"12mm\",]\n",
    "shell7_ses4 <- df_patients_subcortical_ses4[df_patients_subcortical_ses4$location == \"14mm\",]\n",
    "shell8_ses4 <- df_patients_subcortical_ses4[df_patients_subcortical_ses4$location == \"16mm\",]"
   ]
  },
  {
   "attachments": {},
   "cell_type": "markdown",
   "metadata": {},
   "source": [
    "## Setup contrasts"
   ]
  },
  {
   "cell_type": "code",
   "execution_count": null,
   "metadata": {
    "vscode": {
     "languageId": "r"
    }
   },
   "outputs": [],
   "source": [
    "forward_diff_coding <- matrix(c(8/9,-1/9,-1/9,-1/9,-1/9,-1/9,-1/9,-1/9,-1/9,\n",
    "7/9,7/9,-2/9,-2/9,-2/9,-2/9,-2/9,-2/9,-2/9,\n",
    "6/9,6/9,6/9,-3/9,-3/9,-3/9,-3/9,-3/9,-3/9,\n",
    "5/9,5/9,5/9,5/9,-4/9,-4/9,-4/9,-4/9,-4/9,\n",
    "4/9,4/9,4/9,4/9,4/9,-5/9,-5/9,-5/9,-5/9,\n",
    "3/9,3/9,3/9,3/9,3/9,3/9,-6/9,-6/9,-6/9,\n",
    "2/9,2/9,2/9,2/9,2/9,2/9,2/9,-7/9,-7/9,\n",
    "1/9,1/9,1/9,1/9,1/9,1/9,1/9,1/9,-8/9), ncol=8)\n",
    "\n",
    "backward_diff_coding <- matrix(c(-8/9,1/9,1/9,1/9,1/9,1/9,1/9,1/9,1/9,\n",
    "-7/9,-7/9,2/9,2/9,2/9,2/9,2/9,2/9,2/9,\n",
    "-6/9,-6/9,-6/9,3/9,3/9,3/9,3/9,3/9,3/9,\n",
    "-5/9,-5/9,-5/9,-5/9,4/9,4/9,4/9,4/9,4/9,\n",
    "-4/9,-4/9,-4/9,-4/9,-4/9,5/9,5/9,5/9,5/9,\n",
    "-3/9,-3/9,-3/9,-3/9,-3/9,-3/9,6/9,6/9,6/9,\n",
    "-2/9,-2/9,-2/9,-2/9,-2/9,-2/9,-2/9,7/9,7/9,\n",
    "-1/9,-1/9,-1/9,-1/9,-1/9,-1/9,-1/9,-1/9,8/9), ncol=8)\n",
    "\n",
    "helmert_coding <- matrix(c(8/9,-1/9,-1/9,-1/9,-1/9,-1/9,-1/9,-1/9,-1/9,\n",
    "0,7/8,-1/8,-1/8,-1/8,-1/8,-1/8,-1/8,-1/8,\n",
    "0,0,6/7,-1/7,-1/7,-1/7,-1/7,-1/7,-1/7,\n",
    "0,0,0,5/6,-1/6,-1/6,-1/6,-1/6,-1/6,\n",
    "0,0,0,0,4/5,-1/5,-1/5,-1/5,-1/5,\n",
    "0,0,0,0,0,3/4,-1/4,-1/4,-1/4,\n",
    "0,0,0,0,0,0,2/3,-1/3,-1/3,\n",
    "0,0,0,0,0,0,0,1/2,-1/2), ncol=8)\n",
    "\n",
    "two_groups_coding <- matrix(c(-1,1),ncol=1)\n",
    "\n",
    "dummy_coding <- contr.treatment(4)"
   ]
  },
  {
   "attachments": {},
   "cell_type": "markdown",
   "metadata": {},
   "source": [
    "## Linear mixed model - test between-shell differences accouting for random intercept of subject and covariates"
   ]
  },
  {
   "attachments": {},
   "cell_type": "markdown",
   "metadata": {},
   "source": [
    "### Free-water - Session 1"
   ]
  },
  {
   "cell_type": "code",
   "execution_count": null,
   "metadata": {
    "vscode": {
     "languageId": "r"
    }
   },
   "outputs": [],
   "source": [
    "df_patients_subcortical_ses1 %>% group_by(location) %>% summarise(mean(fw), sd(fw))"
   ]
  },
  {
   "cell_type": "code",
   "execution_count": null,
   "metadata": {
    "vscode": {
     "languageId": "r"
    }
   },
   "outputs": [],
   "source": [
    "contrasts(df_patients_subcortical_ses1$location) = helmert_coding\n",
    "\n",
    "baseline_lme_fw_ses1 <- lmer(fw ~ 1 + (1|sub_id), data = df_patients_subcortical_ses1,)\n",
    "location_lme_fw_ses1 <- lmer(fw ~ 1 + location + (1|sub_id), data = df_patients_subcortical_ses1)\n",
    "norm_lme_fw_ses1 <- lmer(fw ~ location + lesion_volume + days_since_stroke + (1|sub_id), data = df_patients_subcortical_ses1)\n",
    "\n",
    "anova(baseline_lme_fw_ses1, location_lme_fw_ses1)\n",
    "summary(norm_lme_fw_ses1)"
   ]
  },
  {
   "cell_type": "markdown",
   "metadata": {},
   "source": [
    "#### ...including age and sex as covariates"
   ]
  },
  {
   "cell_type": "code",
   "execution_count": null,
   "metadata": {
    "vscode": {
     "languageId": "r"
    }
   },
   "outputs": [],
   "source": [
    "contrasts(df_patients_subcortical_ses1$location) = helmert_coding\n",
    "\n",
    "baseline_lme_fw_ses1 <- lmer(fw ~ 1 + (1|sub_id), data = df_patients_subcortical_ses1,)\n",
    "location_lme_fw_ses1 <- lmer(fw ~ 1 + location + (1|sub_id), data = df_patients_subcortical_ses1)\n",
    "norm_lme_fw_ses1 <- lmer(fw ~ location + lesion_volume + days_since_stroke + age + sex + (1|sub_id), data = df_patients_subcortical_ses1)\n",
    "\n",
    "anova(baseline_lme_fw_ses1, location_lme_fw_ses1)\n",
    "summary(norm_lme_fw_ses1)"
   ]
  },
  {
   "attachments": {},
   "cell_type": "markdown",
   "metadata": {},
   "source": [
    "### Free-water - Session 2"
   ]
  },
  {
   "cell_type": "code",
   "execution_count": null,
   "metadata": {
    "vscode": {
     "languageId": "r"
    }
   },
   "outputs": [],
   "source": [
    "df_patients_subcortical_ses2 %>% group_by(location) %>% summarise(mean(fw), sd(fw))"
   ]
  },
  {
   "cell_type": "code",
   "execution_count": null,
   "metadata": {
    "vscode": {
     "languageId": "r"
    }
   },
   "outputs": [],
   "source": [
    "contrasts(df_patients_subcortical_ses2$location) = helmert_coding\n",
    "\n",
    "baseline_lme_fw_ses2 <- lmer(fw ~ 1 + (1|sub_id), data = df_patients_subcortical_ses2,)\n",
    "location_lme_fw_ses2 <- lmer(fw ~ 1 + location + (1|sub_id), data = df_patients_subcortical_ses2)\n",
    "norm_lme_fw_ses2 <- lmer(fw ~ location + lesion_volume + days_since_stroke + (1|sub_id), data = df_patients_subcortical_ses2)\n",
    "\n",
    "anova(baseline_lme_fw_ses2, location_lme_fw_ses2)\n",
    "summary(norm_lme_fw_ses2)"
   ]
  },
  {
   "cell_type": "markdown",
   "metadata": {},
   "source": [
    "#### ...including age and sex as covariates"
   ]
  },
  {
   "cell_type": "code",
   "execution_count": null,
   "metadata": {
    "vscode": {
     "languageId": "r"
    }
   },
   "outputs": [],
   "source": [
    "contrasts(df_patients_subcortical_ses2$location) = helmert_coding\n",
    "\n",
    "baseline_lme_fw_ses2 <- lmer(fw ~ 1 + (1|sub_id), data = df_patients_subcortical_ses2,)\n",
    "location_lme_fw_ses2 <- lmer(fw ~ 1 + location + (1|sub_id), data = df_patients_subcortical_ses2)\n",
    "norm_lme_fw_ses2 <- lmer(fw ~ location + lesion_volume + days_since_stroke + age + sex + (1|sub_id), data = df_patients_subcortical_ses2)\n",
    "\n",
    "anova(baseline_lme_fw_ses2, location_lme_fw_ses2)\n",
    "summary(norm_lme_fw_ses2)"
   ]
  },
  {
   "attachments": {},
   "cell_type": "markdown",
   "metadata": {},
   "source": [
    "### Free-water - Session 3"
   ]
  },
  {
   "cell_type": "code",
   "execution_count": null,
   "metadata": {
    "vscode": {
     "languageId": "r"
    }
   },
   "outputs": [],
   "source": [
    "df_patients_subcortical_ses3 %>% group_by(location) %>% summarise(mean(fw), sd(fw))"
   ]
  },
  {
   "cell_type": "code",
   "execution_count": null,
   "metadata": {
    "vscode": {
     "languageId": "r"
    }
   },
   "outputs": [],
   "source": [
    "contrasts(df_patients_subcortical_ses3$location) = helmert_coding\n",
    "\n",
    "baseline_lme_fw_ses3 <- lmer(fw ~ 1 + (1|sub_id), data = df_patients_subcortical_ses3,)\n",
    "location_lme_fw_ses3 <- lmer(fw ~ 1 + location + (1|sub_id), data = df_patients_subcortical_ses3)\n",
    "norm_lme_fw_ses3 <- lmer(fw ~ location + lesion_volume + days_since_stroke + (1|sub_id), data = df_patients_subcortical_ses3)\n",
    "\n",
    "anova(baseline_lme_fw_ses3, location_lme_fw_ses3)\n",
    "summary(norm_lme_fw_ses3)"
   ]
  },
  {
   "cell_type": "markdown",
   "metadata": {},
   "source": [
    "#### ...inclding age and sex as covariates"
   ]
  },
  {
   "cell_type": "code",
   "execution_count": null,
   "metadata": {
    "vscode": {
     "languageId": "r"
    }
   },
   "outputs": [],
   "source": [
    "contrasts(df_patients_subcortical_ses3$location) = helmert_coding\n",
    "\n",
    "baseline_lme_fw_ses3 <- lmer(fw ~ 1 + (1|sub_id), data = df_patients_subcortical_ses3,)\n",
    "location_lme_fw_ses3 <- lmer(fw ~ 1 + location + (1|sub_id), data = df_patients_subcortical_ses3)\n",
    "norm_lme_fw_ses3 <- lmer(fw ~ location + lesion_volume + days_since_stroke + age + sex + (1|sub_id), data = df_patients_subcortical_ses3)\n",
    "\n",
    "anova(baseline_lme_fw_ses3, location_lme_fw_ses3)\n",
    "summary(norm_lme_fw_ses3)"
   ]
  },
  {
   "attachments": {},
   "cell_type": "markdown",
   "metadata": {},
   "source": [
    "### Free-water - Session 4"
   ]
  },
  {
   "cell_type": "code",
   "execution_count": null,
   "metadata": {
    "vscode": {
     "languageId": "r"
    }
   },
   "outputs": [],
   "source": [
    "df_patients_subcortical_ses4 %>% group_by(location) %>% summarise(mean(fw), sd(fw))"
   ]
  },
  {
   "cell_type": "code",
   "execution_count": null,
   "metadata": {
    "vscode": {
     "languageId": "r"
    }
   },
   "outputs": [],
   "source": [
    "contrasts(df_patients_subcortical_ses4$location) = helmert_coding\n",
    "\n",
    "baseline_lme_fw_ses4 <- lmer(fw ~ 1 + (1|sub_id), data = df_patients_subcortical_ses4,)\n",
    "location_lme_fw_ses4 <- lmer(fw ~ 1 + location + (1|sub_id), data = df_patients_subcortical_ses4)\n",
    "norm_lme_fw_ses4 <- lmer(fw ~ location + lesion_volume + days_since_stroke + (1|sub_id), data = df_patients_subcortical_ses4)\n",
    "\n",
    "anova(baseline_lme_fw_ses4, location_lme_fw_ses4)\n",
    "summary(norm_lme_fw_ses4)"
   ]
  },
  {
   "cell_type": "markdown",
   "metadata": {},
   "source": [
    "#### ...including age and sex as covariates"
   ]
  },
  {
   "cell_type": "code",
   "execution_count": null,
   "metadata": {
    "vscode": {
     "languageId": "r"
    }
   },
   "outputs": [],
   "source": [
    "contrasts(df_patients_subcortical_ses4$location) = helmert_coding\n",
    "\n",
    "baseline_lme_fw_ses4 <- lmer(fw ~ 1 + (1|sub_id), data = df_patients_subcortical_ses4,)\n",
    "location_lme_fw_ses4 <- lmer(fw ~ 1 + location + (1|sub_id), data = df_patients_subcortical_ses4)\n",
    "norm_lme_fw_ses4 <- lmer(fw ~ location + lesion_volume + days_since_stroke + age + sex + (1|sub_id), data = df_patients_subcortical_ses4)\n",
    "\n",
    "anova(baseline_lme_fw_ses4, location_lme_fw_ses4)\n",
    "summary(norm_lme_fw_ses4)"
   ]
  },
  {
   "attachments": {},
   "cell_type": "markdown",
   "metadata": {},
   "source": [
    "### FA-t - Session 1"
   ]
  },
  {
   "cell_type": "code",
   "execution_count": null,
   "metadata": {
    "vscode": {
     "languageId": "r"
    }
   },
   "outputs": [],
   "source": [
    "df_patients_subcortical_ses1 %>% group_by(location) %>% summarise(mean(fat), sd(fat))"
   ]
  },
  {
   "cell_type": "code",
   "execution_count": null,
   "metadata": {
    "vscode": {
     "languageId": "r"
    }
   },
   "outputs": [],
   "source": [
    "baseline_lme_fat_ses1 <- lmer(fat ~ 1 + (1|sub_id), data = df_patients_subcortical_ses1,)\n",
    "location_lme_fat_ses1 <- lmer(fat ~ 1 + location + (1|sub_id), data = df_patients_subcortical_ses1)\n",
    "norm_lme_fat_ses1 <- lmer(fat ~ 1 + location + lesion_volume + days_since_stroke + (1|sub_id), data = df_patients_subcortical_ses1)\n",
    "\n",
    "anova(baseline_lme_fat_ses1, location_lme_fat_ses1)\n",
    "summary(norm_lme_fat_ses1)"
   ]
  },
  {
   "cell_type": "markdown",
   "metadata": {},
   "source": [
    "#### ...including age and sex as covariates"
   ]
  },
  {
   "cell_type": "code",
   "execution_count": null,
   "metadata": {
    "vscode": {
     "languageId": "r"
    }
   },
   "outputs": [],
   "source": [
    "baseline_lme_fat_ses1 <- lmer(fat ~ 1 + (1|sub_id), data = df_patients_subcortical_ses1,)\n",
    "location_lme_fat_ses1 <- lmer(fat ~ 1 + location + (1|sub_id), data = df_patients_subcortical_ses1)\n",
    "norm_lme_fat_ses1 <- lmer(fat ~ 1 + location + lesion_volume + days_since_stroke + age + sex + (1|sub_id), data = df_patients_subcortical_ses1)\n",
    "\n",
    "anova(baseline_lme_fat_ses1, location_lme_fat_ses1)\n",
    "summary(norm_lme_fat_ses1)"
   ]
  },
  {
   "attachments": {},
   "cell_type": "markdown",
   "metadata": {},
   "source": [
    "### FA-t - Session 2"
   ]
  },
  {
   "cell_type": "code",
   "execution_count": null,
   "metadata": {
    "vscode": {
     "languageId": "r"
    }
   },
   "outputs": [],
   "source": [
    "df_patients_subcortical_ses2 %>% group_by(location) %>% summarise(mean(fat), sd(fat))"
   ]
  },
  {
   "cell_type": "code",
   "execution_count": null,
   "metadata": {
    "vscode": {
     "languageId": "r"
    }
   },
   "outputs": [],
   "source": [
    "baseline_lme_fat_ses2 <- lmer(fat ~ 1 + (1|sub_id), data = df_patients_subcortical_ses2,)\n",
    "location_lme_fat_ses2 <- lmer(fat ~ 1 + location + (1|sub_id), data = df_patients_subcortical_ses2)\n",
    "norm_lme_fat_ses2 <- lmer(fat ~ 1 + location + lesion_volume + days_since_stroke + (1|sub_id), data = df_patients_subcortical_ses2)\n",
    "\n",
    "anova(baseline_lme_fat_ses2, location_lme_fat_ses2)\n",
    "summary(norm_lme_fat_ses2)"
   ]
  },
  {
   "cell_type": "markdown",
   "metadata": {},
   "source": [
    "#### ...including age and sex as covariates"
   ]
  },
  {
   "cell_type": "code",
   "execution_count": null,
   "metadata": {
    "vscode": {
     "languageId": "r"
    }
   },
   "outputs": [],
   "source": [
    "baseline_lme_fat_ses2 <- lmer(fat ~ 1 + (1|sub_id), data = df_patients_subcortical_ses2,)\n",
    "location_lme_fat_ses2 <- lmer(fat ~ 1 + location + (1|sub_id), data = df_patients_subcortical_ses2)\n",
    "norm_lme_fat_ses2 <- lmer(fat ~ 1 + location + lesion_volume + days_since_stroke + age + sex + (1|sub_id), data = df_patients_subcortical_ses2)\n",
    "\n",
    "anova(baseline_lme_fat_ses2, location_lme_fat_ses2)\n",
    "summary(norm_lme_fat_ses2)"
   ]
  },
  {
   "attachments": {},
   "cell_type": "markdown",
   "metadata": {},
   "source": [
    "### FA-t - Session 3"
   ]
  },
  {
   "cell_type": "code",
   "execution_count": null,
   "metadata": {
    "vscode": {
     "languageId": "r"
    }
   },
   "outputs": [],
   "source": [
    "df_patients_subcortical_ses3 %>% group_by(location) %>% summarise(mean(fat), sd(fat))"
   ]
  },
  {
   "cell_type": "code",
   "execution_count": null,
   "metadata": {
    "vscode": {
     "languageId": "r"
    }
   },
   "outputs": [],
   "source": [
    "baseline_lme_fat_ses3 <- lmer(fat ~ 1 + (1|sub_id), data = df_patients_subcortical_ses3,)\n",
    "location_lme_fat_ses3 <- lmer(fat ~ 1 + location + (1|sub_id), data = df_patients_subcortical_ses3)\n",
    "norm_lme_fat_ses3 <- lmer(fat ~ 1 + location + lesion_volume + days_since_stroke + (1|sub_id), data = df_patients_subcortical_ses3)\n",
    "\n",
    "anova(baseline_lme_fat_ses3, norm_lme_fat_ses3)\n",
    "summary(norm_lme_fat_ses3)"
   ]
  },
  {
   "cell_type": "markdown",
   "metadata": {},
   "source": [
    "#### ...including age and sex as covariates"
   ]
  },
  {
   "cell_type": "code",
   "execution_count": null,
   "metadata": {
    "vscode": {
     "languageId": "r"
    }
   },
   "outputs": [],
   "source": [
    "baseline_lme_fat_ses3 <- lmer(fat ~ 1 + (1|sub_id), data = df_patients_subcortical_ses3,)\n",
    "location_lme_fat_ses3 <- lmer(fat ~ 1 + location + (1|sub_id), data = df_patients_subcortical_ses3)\n",
    "norm_lme_fat_ses3 <- lmer(fat ~ 1 + location + lesion_volume + days_since_stroke + age + sex + (1|sub_id), data = df_patients_subcortical_ses3)\n",
    "\n",
    "anova(baseline_lme_fat_ses3, norm_lme_fat_ses3)\n",
    "summary(norm_lme_fat_ses3)"
   ]
  },
  {
   "attachments": {},
   "cell_type": "markdown",
   "metadata": {},
   "source": [
    "### FA-t - Session 4"
   ]
  },
  {
   "cell_type": "code",
   "execution_count": null,
   "metadata": {
    "vscode": {
     "languageId": "r"
    }
   },
   "outputs": [],
   "source": [
    "df_patients_subcortical_ses4 %>% group_by(location) %>% summarise(mean(fat), sd(fat))"
   ]
  },
  {
   "cell_type": "code",
   "execution_count": null,
   "metadata": {
    "vscode": {
     "languageId": "r"
    }
   },
   "outputs": [],
   "source": [
    "baseline_lme_fat_ses4 <- lmer(fat ~ 1 + (1|sub_id), data = df_patients_subcortical_ses4,)\n",
    "location_lme_fat_ses4 <- lmer(fat ~ 1 + location + (1|sub_id), data = df_patients_subcortical_ses4)\n",
    "norm_lme_fat_ses4 <- lmer(fat ~ 1 + location + lesion_volume + days_since_stroke + (1|sub_id), data = df_patients_subcortical_ses4)\n",
    "\n",
    "anova(baseline_lme_fat_ses4, location_lme_fat_ses4)\n",
    "summary(norm_lme_fat_ses4)"
   ]
  },
  {
   "cell_type": "markdown",
   "metadata": {},
   "source": [
    "#### ...including age and sex as covariates"
   ]
  },
  {
   "cell_type": "code",
   "execution_count": null,
   "metadata": {
    "vscode": {
     "languageId": "r"
    }
   },
   "outputs": [],
   "source": [
    "baseline_lme_fat_ses4 <- lmer(fat ~ 1 + (1|sub_id), data = df_patients_subcortical_ses4,)\n",
    "location_lme_fat_ses4 <- lmer(fat ~ 1 + location + (1|sub_id), data = df_patients_subcortical_ses4)\n",
    "norm_lme_fat_ses4 <- lmer(fat ~ 1 + location + lesion_volume + days_since_stroke + age + sex + (1|sub_id), data = df_patients_subcortical_ses4)\n",
    "\n",
    "anova(baseline_lme_fat_ses4, location_lme_fat_ses4)\n",
    "summary(norm_lme_fat_ses4)"
   ]
  },
  {
   "attachments": {},
   "cell_type": "markdown",
   "metadata": {},
   "source": [
    "## Test whether ipsilateral lesion/shells show differences in diffusion measures comparing to contralateral side"
   ]
  },
  {
   "cell_type": "markdown",
   "metadata": {},
   "source": [
    "### Function to extract FA-t dataframes for comparison of ipsi and contralateral shells in LME models"
   ]
  },
  {
   "cell_type": "code",
   "execution_count": null,
   "metadata": {
    "vscode": {
     "languageId": "r"
    }
   },
   "outputs": [],
   "source": [
    "library(tidyr)\n",
    "library(dplyr)\n",
    "\n",
    "convert_to_long_fat <- function(df) {\n",
    "  location_columns <- list(\n",
    "    lesion = c(\"lesionanalysis_fliplesion_mean_FAt\", \"lesionanalysis_lesion_mean_FAt\"),\n",
    "    \"2mm\" = c(\"lesionanalysis_flipshell1_mean_FAt\", \"lesionanalysis_shell1_mean_FAt\"),\n",
    "    \"4mm\" = c(\"lesionanalysis_flipshell2_mean_FAt\", \"lesionanalysis_shell2_mean_FAt\"),\n",
    "    \"6mm\" = c(\"lesionanalysis_flipshell3_mean_FAt\", \"lesionanalysis_shell3_mean_FAt\"),\n",
    "    \"8mm\" = c(\"lesionanalysis_flipshell4_mean_FAt\", \"lesionanalysis_shell4_mean_FAt\"),\n",
    "    \"10mm\" = c(\"lesionanalysis_flipshell5_mean_FAt\", \"lesionanalysis_shell5_mean_FAt\"),\n",
    "    \"12mm\" = c(\"lesionanalysis_flipshell6_mean_FAt\", \"lesionanalysis_shell6_mean_FAt\"),\n",
    "    \"14mm\" = c(\"lesionanalysis_flipshell7_mean_FAt\", \"lesionanalysis_shell7_mean_FAt\"),\n",
    "    \"16mm\" = c(\"lesionanalysis_flipshell8_mean_FAt\", \"lesionanalysis_shell8_mean_FAt\")\n",
    "  )\n",
    "  \n",
    "  results <- list()\n",
    "  \n",
    "  for (location in names(location_columns)) {\n",
    "    filtered_df <- df %>% filter(location == !!location)\n",
    "    \n",
    "    long_df <- pivot_longer(filtered_df, \n",
    "                            cols = location_columns[[location]], \n",
    "                            names_to = \"relative_location\", \n",
    "                            values_to = \"fat_abs\")\n",
    "    \n",
    "    results[[location]] <- long_df\n",
    "  }\n",
    "  \n",
    "  return(results)\n",
    "}\n"
   ]
  },
  {
   "cell_type": "markdown",
   "metadata": {},
   "source": [
    "### Extract FA-t dataframes"
   ]
  },
  {
   "cell_type": "code",
   "execution_count": null,
   "metadata": {
    "vscode": {
     "languageId": "r"
    }
   },
   "outputs": [],
   "source": [
    "df_list <- list(\n",
    "  ses1 = df_patients_subcortical_ses1,\n",
    "  ses2 = df_patients_subcortical_ses2,\n",
    "  ses3 = df_patients_subcortical_ses3,\n",
    "  ses4 = df_patients_subcortical_ses4\n",
    ")\n",
    "\n",
    "# Initialize an empty list to store results for all sessions\n",
    "all_sessions_results_fat <- list()\n",
    "\n",
    "# Iterate over each dataframe in the list\n",
    "for (session_name in names(df_list)) {\n",
    "  all_sessions_results_fat[[session_name]] <- convert_to_long_fat(df_list[[session_name]])\n",
    "}\n",
    "\n",
    "# At this point, 'all_sessions_results' is a nested list:\n",
    "# The first level is indexed by session names (ses1, ses2, etc.),\n",
    "# and the second level contains lists of data frames in long format for each location.\n",
    "\n",
    "all_sessions_results_fat$ses1$lesion -> fat_ses1_lesion\n",
    "all_sessions_results_fat$ses1$`2mm` -> fat_ses1_2mm\n",
    "all_sessions_results_fat$ses1$`4mm` -> fat_ses1_4mm\n",
    "all_sessions_results_fat$ses1$`6mm` -> fat_ses1_6mm\n",
    "all_sessions_results_fat$ses1$`8mm` -> fat_ses1_8mm\n",
    "all_sessions_results_fat$ses1$`10mm` -> fat_ses1_10mm\n",
    "all_sessions_results_fat$ses1$`12mm` -> fat_ses1_12mm\n",
    "all_sessions_results_fat$ses1$`14mm` -> fat_ses1_14mm\n",
    "all_sessions_results_fat$ses1$`16mm` -> fat_ses1_16mm\n",
    "\n",
    "all_sessions_results_fat$ses2$lesion -> fat_ses2_lesion\n",
    "all_sessions_results_fat$ses2$`2mm` -> fat_ses2_2mm\n",
    "all_sessions_results_fat$ses2$`4mm` -> fat_ses2_4mm\n",
    "all_sessions_results_fat$ses2$`6mm` -> fat_ses2_6mm\n",
    "all_sessions_results_fat$ses2$`8mm` -> fat_ses2_8mm\n",
    "all_sessions_results_fat$ses2$`10mm` -> fat_ses2_10mm\n",
    "all_sessions_results_fat$ses2$`12mm` -> fat_ses2_12mm\n",
    "all_sessions_results_fat$ses2$`14mm` -> fat_ses2_14mm\n",
    "all_sessions_results_fat$ses2$`16mm` -> fat_ses2_16mm\n",
    "\n",
    "all_sessions_results_fat$ses3$lesion -> fat_ses3_lesion\n",
    "all_sessions_results_fat$ses3$`2mm` -> fat_ses3_2mm\n",
    "all_sessions_results_fat$ses3$`4mm` -> fat_ses3_4mm\n",
    "all_sessions_results_fat$ses3$`6mm` -> fat_ses3_6mm\n",
    "all_sessions_results_fat$ses3$`8mm` -> fat_ses3_8mm\n",
    "all_sessions_results_fat$ses3$`10mm` -> fat_ses3_10mm\n",
    "all_sessions_results_fat$ses3$`12mm` -> fat_ses3_12mm\n",
    "all_sessions_results_fat$ses3$`14mm` -> fat_ses3_14mm\n",
    "all_sessions_results_fat$ses3$`16mm` -> fat_ses3_16mm\n",
    "\n",
    "all_sessions_results_fat$ses4$lesion -> fat_ses4_lesion\n",
    "all_sessions_results_fat$ses4$`2mm` -> fat_ses4_2mm\n",
    "all_sessions_results_fat$ses4$`4mm` -> fat_ses4_4mm\n",
    "all_sessions_results_fat$ses4$`6mm` -> fat_ses4_6mm\n",
    "all_sessions_results_fat$ses4$`8mm` -> fat_ses4_8mm\n",
    "all_sessions_results_fat$ses4$`10mm` -> fat_ses4_10mm\n",
    "all_sessions_results_fat$ses4$`12mm` -> fat_ses4_12mm\n",
    "all_sessions_results_fat$ses4$`14mm` -> fat_ses4_14mm\n",
    "all_sessions_results_fat$ses4$`16mm` -> fat_ses4_16mm"
   ]
  },
  {
   "cell_type": "markdown",
   "metadata": {},
   "source": [
    "### Function to extract FW dataframes for comparison of ipsi and contralateral shells in LME models"
   ]
  },
  {
   "cell_type": "code",
   "execution_count": null,
   "metadata": {
    "vscode": {
     "languageId": "r"
    }
   },
   "outputs": [],
   "source": [
    "library(tidyr)\n",
    "library(dplyr)\n",
    "\n",
    "convert_to_long_fw <- function(df) {\n",
    "  location_columns <- list(\n",
    "    lesion = c(\"lesionanalysis_fliplesion_mean_FW\", \"lesionanalysis_lesion_mean_FW\"),\n",
    "    \"2mm\" = c(\"lesionanalysis_flipshell1_mean_FW\", \"lesionanalysis_shell1_mean_FW\"),\n",
    "    \"4mm\" = c(\"lesionanalysis_flipshell2_mean_FW\", \"lesionanalysis_shell2_mean_FW\"),\n",
    "    \"6mm\" = c(\"lesionanalysis_flipshell3_mean_FW\", \"lesionanalysis_shell3_mean_FW\"),\n",
    "    \"8mm\" = c(\"lesionanalysis_flipshell4_mean_FW\", \"lesionanalysis_shell4_mean_FW\"),\n",
    "    \"10mm\" = c(\"lesionanalysis_flipshell5_mean_FW\", \"lesionanalysis_shell5_mean_FW\"),\n",
    "    \"12mm\" = c(\"lesionanalysis_flipshell6_mean_FW\", \"lesionanalysis_shell6_mean_FW\"),\n",
    "    \"14mm\" = c(\"lesionanalysis_flipshell7_mean_FW\", \"lesionanalysis_shell7_mean_FW\"),\n",
    "    \"16mm\" = c(\"lesionanalysis_flipshell8_mean_FW\", \"lesionanalysis_shell8_mean_FW\")\n",
    "  )\n",
    "  \n",
    "  results <- list()\n",
    "  \n",
    "  for (location in names(location_columns)) {\n",
    "    filtered_df <- df %>% filter(location == !!location)\n",
    "    \n",
    "    long_df <- pivot_longer(filtered_df, \n",
    "                            cols = location_columns[[location]], \n",
    "                            names_to = \"relative_location\", \n",
    "                            values_to = \"fw_abs\")\n",
    "    \n",
    "    results[[location]] <- long_df\n",
    "  }\n",
    "  \n",
    "  return(results)\n",
    "}"
   ]
  },
  {
   "cell_type": "markdown",
   "metadata": {},
   "source": [
    "### Extract FW dataframes"
   ]
  },
  {
   "cell_type": "code",
   "execution_count": null,
   "metadata": {
    "vscode": {
     "languageId": "r"
    }
   },
   "outputs": [],
   "source": [
    "df_list <- list(\n",
    "  ses1 = df_patients_subcortical_ses1,\n",
    "  ses2 = df_patients_subcortical_ses2,\n",
    "  ses3 = df_patients_subcortical_ses3,\n",
    "  ses4 = df_patients_subcortical_ses4\n",
    ")\n",
    "\n",
    "# Initialize an empty list to store results for all sessions\n",
    "all_sessions_results_fw <- list()\n",
    "\n",
    "# Iterate over each dataframe in the list\n",
    "for (session_name in names(df_list)) {\n",
    "  all_sessions_results_fw[[session_name]] <- convert_to_long_fw(df_list[[session_name]])\n",
    "}\n",
    "\n",
    "# At this point, 'all_sessions_results' is a nested list:\n",
    "# The first level is indexed by session names (ses1, ses2, etc.),\n",
    "# and the second level contains lists of data frames in long format for each location.\n",
    "\n",
    "all_sessions_results_fw$ses1$lesion -> fw_ses1_lesion\n",
    "all_sessions_results_fw$ses1$`2mm` -> fw_ses1_2mm\n",
    "all_sessions_results_fw$ses1$`4mm` -> fw_ses1_4mm\n",
    "all_sessions_results_fw$ses1$`6mm` -> fw_ses1_6mm\n",
    "all_sessions_results_fw$ses1$`8mm` -> fw_ses1_8mm\n",
    "all_sessions_results_fw$ses1$`10mm` -> fw_ses1_10mm\n",
    "all_sessions_results_fw$ses1$`12mm` -> fw_ses1_12mm\n",
    "all_sessions_results_fw$ses1$`14mm` -> fw_ses1_14mm\n",
    "all_sessions_results_fw$ses1$`16mm` -> fw_ses1_16mm\n",
    "\n",
    "all_sessions_results_fw$ses2$lesion -> fw_ses2_lesion\n",
    "all_sessions_results_fw$ses2$`2mm` -> fw_ses2_2mm\n",
    "all_sessions_results_fw$ses2$`4mm` -> fw_ses2_4mm\n",
    "all_sessions_results_fw$ses2$`6mm` -> fw_ses2_6mm\n",
    "all_sessions_results_fw$ses2$`8mm` -> fw_ses2_8mm\n",
    "all_sessions_results_fw$ses2$`10mm` -> fw_ses2_10mm\n",
    "all_sessions_results_fw$ses2$`12mm` -> fw_ses2_12mm\n",
    "all_sessions_results_fw$ses2$`14mm` -> fw_ses2_14mm\n",
    "all_sessions_results_fw$ses2$`16mm` -> fw_ses2_16mm\n",
    "\n",
    "all_sessions_results_fw$ses3$lesion -> fw_ses3_lesion\n",
    "all_sessions_results_fw$ses3$`2mm` -> fw_ses3_2mm\n",
    "all_sessions_results_fw$ses3$`4mm` -> fw_ses3_4mm\n",
    "all_sessions_results_fw$ses3$`6mm` -> fw_ses3_6mm\n",
    "all_sessions_results_fw$ses3$`8mm` -> fw_ses3_8mm\n",
    "all_sessions_results_fw$ses3$`10mm` -> fw_ses3_10mm\n",
    "all_sessions_results_fw$ses3$`12mm` -> fw_ses3_12mm\n",
    "all_sessions_results_fw$ses3$`14mm` -> fw_ses3_14mm\n",
    "all_sessions_results_fw$ses3$`16mm` -> fw_ses3_16mm\n",
    "\n",
    "all_sessions_results_fw$ses4$lesion -> fw_ses4_lesion\n",
    "all_sessions_results_fw$ses4$`2mm` -> fw_ses4_2mm\n",
    "all_sessions_results_fw$ses4$`4mm` -> fw_ses4_4mm\n",
    "all_sessions_results_fw$ses4$`6mm` -> fw_ses4_6mm\n",
    "all_sessions_results_fw$ses4$`8mm` -> fw_ses4_8mm\n",
    "all_sessions_results_fw$ses4$`10mm` -> fw_ses4_10mm\n",
    "all_sessions_results_fw$ses4$`12mm` -> fw_ses4_12mm\n",
    "all_sessions_results_fw$ses4$`14mm` -> fw_ses4_14mm\n",
    "all_sessions_results_fw$ses4$`16mm` -> fw_ses4_16mm"
   ]
  },
  {
   "cell_type": "markdown",
   "metadata": {},
   "source": [
    "### Function to perform LME to test for differences between ipsi and contralateral shells adjusting for covariates"
   ]
  },
  {
   "cell_type": "code",
   "execution_count": null,
   "metadata": {
    "vscode": {
     "languageId": "r"
    }
   },
   "outputs": [],
   "source": [
    "perform_analysis_and_save <- function(data, dependent_variable, two_groups_coding, anova_filename, summary_filename) {\n",
    "  # Ensure that 'lme4' and 'broom.mixed' packages are available\n",
    "  if (!requireNamespace(\"lme4\", quietly = TRUE)) {\n",
    "    install.packages(\"lme4\")\n",
    "  }\n",
    "  if (!requireNamespace(\"broom.mixed\", quietly = TRUE)) {\n",
    "    install.packages(\"broom.mixed\")\n",
    "  }\n",
    "  library(lme4)\n",
    "  library(broom.mixed)\n",
    "  \n",
    "  # Convert 'relative_location' to a factor and set contrasts\n",
    "  data$relative_location <- as.factor(data$relative_location)\n",
    "  contrasts(data$relative_location) <- two_groups_coding\n",
    "  \n",
    "  # Build the formula string using the dependent variable\n",
    "  baseline_formula <- paste(dependent_variable, \"~ 1 + (1|sub_id)\", sep = \"\")\n",
    "  rel_location_formula <- paste(dependent_variable, \"~ 1 + relative_location + (1|sub_id)\", sep = \"\")\n",
    "  final_formula <- paste(dependent_variable, \"~ relative_location + age + sex + lesion_volume + days_since_stroke + (1|sub_id)\", sep = \"\")\n",
    "  \n",
    "  # Linear mixed-effects models\n",
    "  baseline_lme <- lmer(as.formula(baseline_formula), data = data)\n",
    "  rel_location_lme <- lmer(as.formula(rel_location_formula), data = data)\n",
    "  final_rel_location_lme <- lmer(as.formula(final_formula), data = data)\n",
    "  \n",
    "  # ANOVA comparison and summarizing the final model\n",
    "  anova_result <- anova(baseline_lme, rel_location_lme)\n",
    "  summary_final_model <- summary(final_rel_location_lme)\n",
    "  \n",
    "  # Save ANOVA results to CSV\n",
    "  write.csv(anova_result, file = anova_filename)\n",
    "  \n",
    "  # Convert the summary to a tidy format using broom.mixed, then save\n",
    "  tidy_summary <- broom.mixed::tidy(final_rel_location_lme)\n",
    "  write.csv(tidy_summary, file = summary_filename)\n",
    "  \n",
    "  # Optionally, return the final model object for further processing\n",
    "  return(final_rel_location_lme)\n",
    "}\n",
    "\n",
    "# Example usage with the new parameter\n",
    "# final_model <- perform_analysis_and_save(data = fat_lesion_long_ses1, dependent_variable = \"fat_abs\", two_groups_coding, \"anova_results.csv\", \"final_model_summary.csv\")\n"
   ]
  },
  {
   "cell_type": "markdown",
   "metadata": {},
   "source": [
    "#### LME model FA-t"
   ]
  },
  {
   "cell_type": "code",
   "execution_count": null,
   "metadata": {
    "vscode": {
     "languageId": "r"
    }
   },
   "outputs": [],
   "source": [
    "# Create a named list of these dataframes\n",
    "dataframes <- list(\n",
    "    fat_ses1_lesion = fat_ses1_lesion,\n",
    "    fat_ses1_2mm = fat_ses1_2mm, \n",
    "    fat_ses1_4mm = fat_ses1_4mm,\n",
    "    fat_ses1_6mm = fat_ses1_6mm,\n",
    "    fat_ses1_8mm = fat_ses1_8mm,\n",
    "    fat_ses1_10mm = fat_ses1_10mm,\n",
    "    fat_ses1_12mm = fat_ses1_12mm,\n",
    "    fat_ses1_14mm = fat_ses1_14mm,\n",
    "    fat_ses1_16mm = fat_ses1_16mm,\n",
    "        fat_ses2_lesion = fat_ses2_lesion,\n",
    "    fat_ses2_2mm = fat_ses2_2mm, \n",
    "    fat_ses2_4mm = fat_ses2_4mm,\n",
    "    fat_ses2_6mm = fat_ses2_6mm,\n",
    "    fat_ses2_8mm = fat_ses2_8mm,\n",
    "    fat_ses2_10mm = fat_ses2_10mm,\n",
    "    fat_ses2_12mm = fat_ses2_12mm,\n",
    "    fat_ses2_14mm = fat_ses2_14mm,\n",
    "    fat_ses2_16mm = fat_ses2_16mm,\n",
    "        fat_ses3_lesion = fat_ses3_lesion,\n",
    "    fat_ses3_2mm = fat_ses3_2mm, \n",
    "    fat_ses3_4mm = fat_ses3_4mm,\n",
    "    fat_ses3_6mm = fat_ses3_6mm,\n",
    "    fat_ses3_8mm = fat_ses3_8mm,\n",
    "    fat_ses3_10mm = fat_ses3_10mm,\n",
    "    fat_ses3_12mm = fat_ses3_12mm,\n",
    "    fat_ses3_14mm = fat_ses3_14mm,\n",
    "    fat_ses3_16mm = fat_ses3_16mm,\n",
    "        fat_ses4_lesion = fat_ses4_lesion,\n",
    "    fat_ses4_2mm = fat_ses4_2mm, \n",
    "    fat_ses4_4mm = fat_ses4_4mm,\n",
    "    fat_ses4_6mm = fat_ses4_6mm,\n",
    "    fat_ses4_8mm = fat_ses4_8mm,\n",
    "    fat_ses4_10mm = fat_ses4_10mm,\n",
    "    fat_ses4_12mm = fat_ses4_12mm,\n",
    "    fat_ses4_14mm = fat_ses4_14mm,\n",
    "    fat_ses4_16mm = fat_ses4_16mm\n",
    ")"
   ]
  },
  {
   "cell_type": "code",
   "execution_count": null,
   "metadata": {
    "vscode": {
     "languageId": "r"
    }
   },
   "outputs": [],
   "source": [
    "library(broom.mixed)\n",
    "\n",
    "# Initialize an empty DataFrame to store the summary of all models\n",
    "models_summary <- data.frame(model_name = character(), estimate = numeric(), std.error = numeric(), statistic = numeric(), p.value = numeric(), stringsAsFactors = FALSE)\n",
    "\n",
    "for (df_name in names(dataframes)) {\n",
    "  df <- dataframes[[df_name]]\n",
    "  # Perform analysis - Adjust the function call as needed\n",
    "  result <- perform_analysis_and_save(df, \"fat_abs\", two_groups_coding, file.path(output_dir, paste0(df_name, \"_anova_results.csv\")), file.path(output_dir, paste0(df_name, \"_final_model_summary.csv\")))\n",
    "  \n",
    "  # Extract the main effect of \"relative_location\" from the final model summary\n",
    "  relative_location_effect <- broom.mixed::tidy(result)[grepl(\"relative_location\", broom.mixed::tidy(result)$term), ]\n",
    "  \n",
    "  # Add the model name as the first column\n",
    "  model_name_df <- data.frame(model_name = rep(df_name, nrow(relative_location_effect)))\n",
    "  relative_location_effect <- cbind(model_name_df, relative_location_effect)\n",
    "  \n",
    "  # Append this model's summary to the overall summary DataFrame\n",
    "  models_summary <- rbind(models_summary, relative_location_effect)\n",
    "}\n",
    "\n",
    "# Save the models_summary DataFrame to a CSV file\n",
    "write.csv(models_summary, file.path(output_dir, \"fat_differences_shells_models_summary.csv\"), row.names = FALSE)\n"
   ]
  },
  {
   "cell_type": "markdown",
   "metadata": {},
   "source": [
    "#### LME model free-water"
   ]
  },
  {
   "cell_type": "code",
   "execution_count": null,
   "metadata": {
    "vscode": {
     "languageId": "r"
    }
   },
   "outputs": [],
   "source": [
    "dataframes <- list(fw_ses1_lesion = fw_ses1_lesion,\n",
    "    fw_ses1_2mm = fw_ses1_2mm, \n",
    "    fw_ses1_4mm = fw_ses1_4mm,\n",
    "    fw_ses1_6mm = fw_ses1_6mm,\n",
    "    fw_ses1_8mm = fw_ses1_8mm,\n",
    "    fw_ses1_10mm = fw_ses1_10mm,\n",
    "    fw_ses1_12mm = fw_ses1_12mm,\n",
    "    fw_ses1_14mm = fw_ses1_14mm,\n",
    "    fw_ses1_16mm = fw_ses1_16mm,\n",
    "        fw_ses2_lesion = fw_ses2_lesion,\n",
    "    fw_ses2_2mm = fw_ses2_2mm, \n",
    "    fw_ses2_4mm = fw_ses2_4mm,\n",
    "    fw_ses2_6mm = fw_ses2_6mm,\n",
    "    fw_ses2_8mm = fw_ses2_8mm,\n",
    "    fw_ses2_10mm = fw_ses2_10mm,\n",
    "    fw_ses2_12mm = fw_ses2_12mm,\n",
    "    fw_ses2_14mm = fw_ses2_14mm,\n",
    "    fw_ses2_16mm = fw_ses2_16mm,\n",
    "        fw_ses3_lesion = fw_ses3_lesion,\n",
    "    fw_ses3_2mm = fw_ses3_2mm, \n",
    "    fw_ses3_4mm = fw_ses3_4mm,\n",
    "    fw_ses3_6mm = fw_ses3_6mm,\n",
    "    fw_ses3_8mm = fw_ses3_8mm,\n",
    "    fw_ses3_10mm = fw_ses3_10mm,\n",
    "    fw_ses3_12mm = fw_ses3_12mm,\n",
    "    fw_ses3_14mm = fw_ses3_14mm,\n",
    "    fw_ses3_16mm = fw_ses3_16mm,\n",
    "        fw_ses4_lesion = fw_ses4_lesion,\n",
    "    fw_ses4_2mm = fw_ses4_2mm, \n",
    "    fw_ses4_4mm = fw_ses4_4mm,\n",
    "    fw_ses4_6mm = fw_ses4_6mm,\n",
    "    fw_ses4_8mm = fw_ses4_8mm,\n",
    "    fw_ses4_10mm = fw_ses4_10mm,\n",
    "    fw_ses4_12mm = fw_ses4_12mm,\n",
    "    fw_ses4_14mm = fw_ses4_14mm,\n",
    "    fw_ses4_16mm = fw_ses4_16mm\n",
    ")"
   ]
  },
  {
   "cell_type": "code",
   "execution_count": null,
   "metadata": {
    "vscode": {
     "languageId": "r"
    }
   },
   "outputs": [],
   "source": [
    "library(broom.mixed)\n",
    "\n",
    "# Initialize an empty DataFrame to store the summary of all models\n",
    "models_summary <- data.frame(model_name = character(), estimate = numeric(), std.error = numeric(), statistic = numeric(), p.value = numeric(), stringsAsFactors = FALSE)\n",
    "\n",
    "for (df_name in names(dataframes)) {\n",
    "  df <- dataframes[[df_name]]\n",
    "  # Perform analysis - Adjust the function call as needed\n",
    "  result <- perform_analysis_and_save(df, \"fw_abs\", two_groups_coding, file.path(output_dir, paste0(df_name, \"_anova_results.csv\")), file.path(output_dir, paste0(df_name, \"_final_model_summary.csv\")))\n",
    "  \n",
    "  # Extract the main effect of \"relative_location\" from the final model summary\n",
    "  relative_location_effect <- broom.mixed::tidy(result)[grepl(\"relative_location\", broom.mixed::tidy(result)$term), ]\n",
    "  \n",
    "  # Add the model name as the first column\n",
    "  model_name_df <- data.frame(model_name = rep(df_name, nrow(relative_location_effect)))\n",
    "  relative_location_effect <- cbind(model_name_df, relative_location_effect)\n",
    "  \n",
    "  # Append this model's summary to the overall summary DataFrame\n",
    "  models_summary <- rbind(models_summary, relative_location_effect)\n",
    "}\n",
    "\n",
    "# Save the models_summary DataFrame to a CSV file\n",
    "write.csv(models_summary, file.path(output_dir, \"fw_differences_shells_models_summary.csv\"), row.names = FALSE)"
   ]
  },
  {
   "cell_type": "markdown",
   "metadata": {},
   "source": [
    "### Function to perform t.test and extract statistics and categorize p-value\n"
   ]
  },
  {
   "cell_type": "code",
   "execution_count": null,
   "metadata": {
    "vscode": {
     "languageId": "r"
    }
   },
   "outputs": [],
   "source": [
    "perform_t_test <- function(data, var_name, population_mean = 0) {\n",
    "  test_result <- t.test(data[[var_name]], mu = 0, alternative = \"two.sided\")\n",
    "  mean_value <- mean(data[[var_name]])\n",
    "  \n",
    "  # Categorizing the p-value\n",
    "  p_value_category <- ifelse(test_result$p.value < 0.001, \"< .001\",\n",
    "                             ifelse(test_result$p.value < 0.05, \"< .05\", formatC(test_result$p.value, format = \"f\", digits = 4)))\n",
    "  \n",
    "  # Sample data\n",
    "  sample_data = data[[var_name]]\n",
    "\n",
    "  # Calculate Cohen's d comparing sample to a known population mean\n",
    "  # We simulate a 'population' vector with the same length as our sample\n",
    "  # but with all values equal to the population mean\n",
    "  population_data <- rep(population_mean, length(sample_data))\n",
    "\n",
    "  # Calculate Cohen's d\n",
    "  library(effsize)\n",
    "  d <- cohen.d(sample_data, population_data, paired = TRUE)\n",
    "\n",
    "  # Calculate power\n",
    "  library(pwr)\n",
    "  power_result <- pwr.t.test(d = d$estimate, n = length(sample_data), sig.level = 0.05, type = \"one.sample\", alternative = \"two.sided\")\n",
    "\n",
    "\n",
    "  return(data.frame( \n",
    "    mean = mean_value, \n",
    "    ci_lower = test_result$conf.int[1], \n",
    "    ci_upper = test_result$conf.int[2],\n",
    "    t = test_result$statistic, \n",
    "    df = test_result$parameter,\n",
    "    cohen_d = d$estimate,\n",
    "    power = power_result$power,\n",
    "    p_value = test_result$p.value, \n",
    "    p_value_category = p_value_category\n",
    "  ))\n",
    "}"
   ]
  },
  {
   "attachments": {},
   "cell_type": "markdown",
   "metadata": {},
   "source": [
    "### T-test free-water"
   ]
  },
  {
   "cell_type": "code",
   "execution_count": null,
   "metadata": {
    "vscode": {
     "languageId": "r"
    }
   },
   "outputs": [],
   "source": [
    "# List of dataframes and their names\n",
    "dataframes <- list(lesion_ses1 = lesion_ses1, shell1_ses1 = shell1_ses1, shell2_ses1 = shell2_ses1,\n",
    "                   shell3_ses1 = shell3_ses1, shell4_ses1 = shell4_ses1, shell5_ses1 = shell5_ses1,\n",
    "                   shell6_ses1 = shell6_ses1, shell7_ses1 = shell7_ses1, shell8_ses1 = shell8_ses1,\n",
    "                   lesion_ses2 = lesion_ses2, shell1_ses2 = shell1_ses2, shell2_ses2 = shell2_ses2,\n",
    "                   shell3_ses2 = shell3_ses2, shell4_ses2 = shell4_ses2, shell5_ses2 = shell5_ses2, \n",
    "                   shell6_ses2 = shell6_ses2, shell7_ses2 = shell7_ses2, shell8_ses2 = shell8_ses2,\n",
    "                   lesion_ses3 = lesion_ses3, shell1_ses3 = shell1_ses3, shell2_ses3 = shell2_ses3,\n",
    "                   shell3_ses3 = shell3_ses3, shell4_ses3 = shell4_ses3, shell5_ses3 = shell5_ses3, \n",
    "                   shell6_ses3 = shell6_ses3, shell7_ses3 = shell7_ses3, shell8_ses3 = shell8_ses3,\n",
    "                   lesion_ses4 = lesion_ses4, shell1_ses4 = shell1_ses4, shell2_ses4 = shell2_ses4,\n",
    "                   shell3_ses4 = shell3_ses4, shell4_ses4 = shell4_ses4, shell5_ses4 = shell5_ses4, \n",
    "                   shell6_ses4 = shell6_ses4, shell7_ses4 = shell7_ses4, shell8_ses4 = shell8_ses4\n",
    "                   )\n",
    "\n",
    "# Variable name to test\n",
    "var_name <- \"fw\"\n",
    "\n",
    "# Apply the function to each dataframe\n",
    "test_results_list <- lapply(dataframes, perform_t_test, var_name)\n",
    "\n",
    "# Convert the list of data frames to a single data frame\n",
    "test_results_fw <- do.call(rbind, test_results_list)\n",
    "rownames(test_results_fw) <- names(dataframes)\n",
    "\n",
    "# View the results\n",
    "test_results_fw\n",
    "\n",
    "# Save the results\n",
    "write.csv(test_results_fw, file.path(output_dir, \"one_sample_t_tests_fw.csv\"), row.names = TRUE)"
   ]
  },
  {
   "cell_type": "code",
   "execution_count": null,
   "metadata": {
    "vscode": {
     "languageId": "r"
    }
   },
   "outputs": [],
   "source": [
    "# mean power session 1\n",
    "mean(test_results_fw[1:9,]$power)\n",
    "mean(test_results_fw[1:9,]$cohen_d)\n",
    "print(\"----------------------------\")\n",
    "\n",
    "# mean power session 2\n",
    "mean(test_results_fw[10:18,]$power)\n",
    "mean(test_results_fw[10:18,]$cohen_d)\n",
    "print(\"----------------------------\")\n",
    "\n",
    "# mean power session 3\n",
    "mean(test_results_fw[19:27,]$power)\n",
    "mean(test_results_fw[19:27,]$cohen_d)\n",
    "print(\"----------------------------\")\n",
    "\n",
    "# mean power session 4\n",
    "mean(test_results_fw[28:36,]$power)\n",
    "mean(test_results_fw[28:36,]$cohen_d)\n",
    "print(\"----------------------------\")\n",
    "\n",
    "# mean power overall\n",
    "mean(test_results_fw$power)\n",
    "mean(test_results_fw$cohen_d)"
   ]
  },
  {
   "attachments": {},
   "cell_type": "markdown",
   "metadata": {},
   "source": [
    "### T-tests FA-t"
   ]
  },
  {
   "cell_type": "code",
   "execution_count": null,
   "metadata": {
    "vscode": {
     "languageId": "r"
    }
   },
   "outputs": [],
   "source": [
    "# List of dataframes and their names\n",
    "dataframes <- list(lesion_ses1 = lesion_ses1, shell1_ses1 = shell1_ses1, shell2_ses1 = shell2_ses1,\n",
    "                   shell3_ses1 = shell3_ses1, shell4_ses1 = shell4_ses1, shell5_ses1 = shell5_ses1,\n",
    "                   shell6_ses1 = shell6_ses1, shell7_ses1 = shell7_ses1, shell8_ses1 = shell8_ses1,\n",
    "                   lesion_ses2 = lesion_ses2, shell1_ses2 = shell1_ses2, shell2_ses2 = shell2_ses2,\n",
    "                   shell3_ses2 = shell3_ses2, shell4_ses2 = shell4_ses2, shell5_ses2 = shell5_ses2, \n",
    "                   shell6_ses2 = shell6_ses2, shell7_ses2 = shell7_ses2, shell8_ses2 = shell8_ses2,\n",
    "                   lesion_ses3 = lesion_ses3, shell1_ses3 = shell1_ses3, shell2_ses3 = shell2_ses3,\n",
    "                   shell3_ses3 = shell3_ses3, shell4_ses3 = shell4_ses3, shell5_ses3 = shell5_ses3, \n",
    "                   shell6_ses3 = shell6_ses3, shell7_ses3 = shell7_ses3, shell8_ses3 = shell8_ses3,\n",
    "                   lesion_ses4 = lesion_ses4, shell1_ses4 = shell1_ses4, shell2_ses4 = shell2_ses4,\n",
    "                   shell3_ses4 = shell3_ses4, shell4_ses4 = shell4_ses4, shell5_ses4 = shell5_ses4, \n",
    "                   shell6_ses4 = shell6_ses4, shell7_ses4 = shell7_ses4, shell8_ses4 = shell8_ses4\n",
    "                   )\n",
    "\n",
    "# Variable name to test\n",
    "var_name <- \"fat\"\n",
    "\n",
    "# Apply the function to each dataframe\n",
    "test_results_list <- lapply(dataframes, perform_t_test, var_name)\n",
    "\n",
    "# Convert the list of data frames to a single data frame\n",
    "test_results_fat <- do.call(rbind, test_results_list)\n",
    "rownames(test_results_fat) <- names(dataframes)\n",
    "\n",
    "# View the results\n",
    "test_results_fat\n",
    "\n",
    "# Save the results\n",
    "write.csv(test_results_fat, file.path(output_dir, \"one_sample_t_tests_fat.csv\"), row.names = TRUE)"
   ]
  },
  {
   "cell_type": "code",
   "execution_count": null,
   "metadata": {
    "vscode": {
     "languageId": "r"
    }
   },
   "outputs": [],
   "source": [
    "# mean power session 1\n",
    "mean(test_results_fat[1:9,]$power)\n",
    "mean(test_results_fat[1:9,]$cohen_d)\n",
    "print(\"------------------------------------\")\n",
    "\n",
    "# mean power session 2\n",
    "mean(test_results_fat[10:18,]$power)\n",
    "mean(test_results_fat[10:18,]$cohen_d)\n",
    "print(\"------------------------------------\")\n",
    "\n",
    "# mean power session 3\n",
    "mean(test_results_fat[19:27,]$power)\n",
    "mean(test_results_fat[19:27,]$cohen_d)\n",
    "print(\"------------------------------------\")\n",
    "\n",
    "# mean power session 4\n",
    "mean(test_results_fat[28:36,]$power)\n",
    "mean(test_results_fat[28:36,]$cohen_d)\n",
    "print(\"------------------------------------\")\n",
    "\n",
    "# mean power overall\n",
    "mean(test_results_fat$power)\n",
    "mean(test_results_fat$cohen_d)"
   ]
  },
  {
   "attachments": {},
   "cell_type": "markdown",
   "metadata": {},
   "source": [
    "## Longitudinal linear mixed effects models"
   ]
  },
  {
   "cell_type": "markdown",
   "metadata": {},
   "source": [
    "### FW - base model adjusting for lesion volume"
   ]
  },
  {
   "cell_type": "code",
   "execution_count": null,
   "metadata": {
    "vscode": {
     "languageId": "r"
    }
   },
   "outputs": [],
   "source": [
    "contrasts(df_patients_subcortical_all$ses_id) = dummy_coding\n",
    "\n",
    "baseline_lme_fw_all <- lmer(fw ~ 1 + (1|sub_id) + (1|location), data = df_patients_subcortical_all)\n",
    "ses_lme_fw_all <- lmer(fw ~ 1 + ses_id + (1|sub_id) + (1|location), data = df_patients_subcortical_all)\n",
    "norm_lme_fw_all <- lmer(fw ~ 1 + ses_id + lesion_volume + (1|sub_id) + (1|location), data = df_patients_subcortical_all)\n",
    "\n",
    "# Run ANOVA and save results\n",
    "anova_result <- anova(baseline_lme_fw_all, ses_lme_fw_all)\n",
    "write.csv(anova_result, file.path(output_dir, \"anova_fw_longitudinal_all.csv\"))\n",
    "\n",
    "# Save model summary\n",
    "model_summary_df <- tidy(norm_lme_fw_all)\n",
    "write.csv(model_summary_df, file.path(output_dir, \"lme_fw_longitudinal_base_all.csv\"))\n",
    "\n",
    "# Display results\n",
    "anova_result\n",
    "summary(norm_lme_fw_all)"
   ]
  },
  {
   "cell_type": "code",
   "execution_count": null,
   "metadata": {
    "vscode": {
     "languageId": "r"
    }
   },
   "outputs": [],
   "source": [
    "library(multcomp)\n",
    "library(broom)\n",
    "\n",
    "# Run post-hoc tests\n",
    "posthoc_fw_base_all <- glht(norm_lme_fw_all, linfct = mcp(ses_id = \"Tukey\"))\n",
    "posthoc_summary <- summary(posthoc_fw_base_all)\n",
    "posthoc_confint <- confint(posthoc_fw_base_all)\n",
    "\n",
    "# Convert both summary and confint to data frames\n",
    "posthoc_summary_df <- tidy(posthoc_summary)\n",
    "posthoc_confint_df <- tidy(posthoc_confint)\n",
    "\n",
    "# Merge summary and confidence intervals data frames\n",
    "combined_df <- merge(posthoc_summary_df, posthoc_confint_df, by = c(\"contrast\", \"term\", \"estimate\"))\n",
    "\n",
    "# Write the combined dataframe to CSV\n",
    "write.csv(combined_df, file.path(output_dir, \"lme_fw_longitudinal_base_posthoc_tests.csv\"))\n",
    "\n",
    "# Display results\n",
    "posthoc_summary\n",
    "posthoc_confint"
   ]
  },
  {
   "cell_type": "markdown",
   "metadata": {},
   "source": [
    "### FW - model additionally adjusting for age and sex in the model"
   ]
  },
  {
   "cell_type": "code",
   "execution_count": null,
   "metadata": {
    "vscode": {
     "languageId": "r"
    }
   },
   "outputs": [],
   "source": [
    "library(broom.mixed)\n",
    "contrasts(df_patients_subcortical_all$ses_id) = dummy_coding\n",
    "\n",
    "baseline_lme_fw_all <- lmer(fw ~ 1 + (1|sub_id) + (1|location), data = df_patients_subcortical_all)\n",
    "ses_lme_fw_all <- lmer(fw ~ 1 + ses_id + (1|sub_id) + (1|location), data = df_patients_subcortical_all)\n",
    "demographics_lme_fw_all <- lmer(fw ~ 1 + ses_id + lesion_volume + age + sex + (1|sub_id) + (1|location), data = df_patients_subcortical_all)\n",
    "\n",
    "# Run ANOVA and save results\n",
    "anova_result <- anova(baseline_lme_fw_all, ses_lme_fw_all)\n",
    "write.csv(anova_result, file.path(output_dir, \"anova_fw_longitudinal_all.csv\"))\n",
    "\n",
    "# Save model summary\n",
    "model_summary_df <- tidy(demographics_lme_fw_all)\n",
    "write.csv(model_summary_df, file.path(output_dir, \"lme_fw_longitudinal_demographics_all.csv\"))\n",
    "\n",
    "# Display results\n",
    "anova_result\n",
    "summary(demographics_lme_fw_all)"
   ]
  },
  {
   "cell_type": "code",
   "execution_count": null,
   "metadata": {
    "vscode": {
     "languageId": "r"
    }
   },
   "outputs": [],
   "source": [
    "library(multcomp)\n",
    "library(broom)\n",
    "\n",
    "# Run post-hoc tests\n",
    "posthoc_fw_demographics_all <- glht(demographics_lme_fw_all, linfct = mcp(ses_id = \"Tukey\"))\n",
    "posthoc_summary <- summary(posthoc_fw_demographics_all)\n",
    "posthoc_confint <- confint(posthoc_fw_demographics_all)\n",
    "\n",
    "# Convert both summary and confint to data frames\n",
    "posthoc_summary_df <- tidy(posthoc_summary)\n",
    "posthoc_confint_df <- tidy(posthoc_confint)\n",
    "\n",
    "# Merge summary and confidence intervals data frames\n",
    "combined_df <- merge(posthoc_summary_df, posthoc_confint_df, by = c(\"contrast\", \"term\", \"estimate\"))\n",
    "\n",
    "# Write the combined dataframe to CSV\n",
    "write.csv(combined_df, file.path(output_dir, \"lme_fw_longitudinal_demographics_posthoc_tests.csv\"))\n",
    "\n",
    "# Display results\n",
    "posthoc_summary\n",
    "posthoc_confint"
   ]
  },
  {
   "cell_type": "markdown",
   "metadata": {},
   "source": [
    "### Free-water model additionally adjusting for age, sex and days since stroke (z-scored within each time point) "
   ]
  },
  {
   "cell_type": "code",
   "execution_count": null,
   "metadata": {
    "vscode": {
     "languageId": "r"
    }
   },
   "outputs": [],
   "source": [
    "# Z-score days since stroke within each session\n",
    "df_days_since_stroke_z <- subset(df_patients_subcortical_all, location == \"lesion\")[c(\"sub_id\", \"ses_id\", \"days_since_stroke\")] %>%\n",
    "  group_by(ses_id) %>%\n",
    "  mutate(days_since_stroke_z = (days_since_stroke - mean(days_since_stroke, na.rm = TRUE)) / sd(days_since_stroke, na.rm = TRUE)) %>%\n",
    "  ungroup() # Ungroup to avoid affecting subsequent operations\n",
    "\n",
    "df_patients_subcortical_all <- full_join(df_patients_subcortical_all, df_days_since_stroke_z, by = c(\"sub_id\", \"ses_id\", \"days_since_stroke\"), copy = TRUE)"
   ]
  },
  {
   "cell_type": "code",
   "execution_count": null,
   "metadata": {
    "vscode": {
     "languageId": "r"
    }
   },
   "outputs": [],
   "source": [
    "contrasts(df_patients_subcortical_all$ses_id) = dummy_coding\n",
    "\n",
    "baseline_lme_fw_all <- lmer(fw ~ 1 + (1|sub_id) + (1|location), data = df_patients_subcortical_all)\n",
    "ses_lme_fw_all <- lmer(fw ~ 1 + ses_id + (1|sub_id) + (1|location), data = df_patients_subcortical_all)\n",
    "demographics_dss_lme_fw_all <- lmer(fw ~ 1 + ses_id + lesion_volume + age + sex + days_since_stroke_z + (1|sub_id) + (1|location), data = df_patients_subcortical_all)\n",
    "\n",
    "# Run ANOVA and save results\n",
    "anova_result <- anova(baseline_lme_fw_all, ses_lme_fw_all)\n",
    "write.csv(anova_result, file.path(output_dir, \"anova_fw_longitudinal_all.csv\"))\n",
    "\n",
    "# Save model summary\n",
    "model_summary_df <- tidy(demographics_dss_lme_fw_all)\n",
    "write.csv(model_summary_df, file.path(output_dir, \"lme_fw_longitudinal_dss_all.csv\"))\n",
    "\n",
    "# Display results\n",
    "anova_result\n",
    "summary(demographics_dss_lme_fw_all)\n",
    "\n",
    "library(MuMIn)\n",
    "r.squaredGLMM(demographics_dss_lme_fw_all)"
   ]
  },
  {
   "cell_type": "code",
   "execution_count": null,
   "metadata": {
    "vscode": {
     "languageId": "r"
    }
   },
   "outputs": [],
   "source": [
    "library(multcomp)\n",
    "library(broom)\n",
    "\n",
    "# Run post-hoc tests\n",
    "posthoc_fw_demographics_dss_all <- glht(demographics_dss_lme_fw_all, linfct = mcp(ses_id = \"Tukey\"))\n",
    "posthoc_summary <- summary(posthoc_fw_demographics_dss_all)\n",
    "posthoc_confint <- confint(posthoc_fw_demographics_dss_all)\n",
    "\n",
    "# Convert both summary and confint to data frames\n",
    "posthoc_summary_df <- tidy(posthoc_summary)\n",
    "posthoc_confint_df <- tidy(posthoc_confint)\n",
    "\n",
    "# Merge summary and confidence intervals data frames\n",
    "combined_df <- merge(posthoc_summary_df, posthoc_confint_df, by = c(\"contrast\", \"term\", \"estimate\"))\n",
    "\n",
    "# Write the combined dataframe to CSV\n",
    "write.csv(combined_df, file.path(output_dir, \"lme_fw_longitudinal_dss_posthoc_tests.csv\"))\n",
    "\n",
    "# Display results\n",
    "posthoc_summary\n",
    "posthoc_confint"
   ]
  },
  {
   "attachments": {},
   "cell_type": "markdown",
   "metadata": {},
   "source": [
    "### FA-t - base model adjusting for lesion volume"
   ]
  },
  {
   "cell_type": "code",
   "execution_count": null,
   "metadata": {
    "vscode": {
     "languageId": "r"
    }
   },
   "outputs": [],
   "source": [
    "contrasts(df_patients_subcortical_all$ses_id) = dummy_coding\n",
    "\n",
    "baseline_lme_fat_all <- lmer(fat ~ 1 + (1|sub_id) + (1|location), data = df_patients_subcortical_all)\n",
    "ses_lme_fat_all <- lmer(fat ~ 1 + ses_id + (1|sub_id) + (1|location), data = df_patients_subcortical_all)\n",
    "norm_lme_fat_all <- lmer(fat ~ 1 + ses_id + lesion_volume + (1|sub_id) + (1|location), data = df_patients_subcortical_all)\n",
    "\n",
    "# Run ANOVA and save results\n",
    "anova_result <- anova(baseline_lme_fat_all, ses_lme_fat_all)\n",
    "write.csv(anova_result, file.path(output_dir, \"anova_fat_longitudinal_all.csv\"))\n",
    "\n",
    "# Save model summary\n",
    "model_summary_df <- tidy(norm_lme_fat_all)\n",
    "write.csv(model_summary_df, file.path(output_dir, \"lme_fat_longitudinal_base_all.csv\"))\n",
    "\n",
    "# Display results\n",
    "anova_result\n",
    "summary(norm_lme_fat_all)"
   ]
  },
  {
   "cell_type": "code",
   "execution_count": null,
   "metadata": {
    "vscode": {
     "languageId": "r"
    }
   },
   "outputs": [],
   "source": [
    "library(multcomp)\n",
    "library(broom)\n",
    "\n",
    "# Run post-hoc tests\n",
    "posthoc_fat_base_all <- glht(norm_lme_fat_all, linfct = mcp(ses_id = \"Tukey\"))\n",
    "posthoc_summary <- summary(posthoc_fat_base_all)\n",
    "posthoc_confint <- confint(posthoc_fat_base_all)\n",
    "\n",
    "# Convert both summary and confint to data frames\n",
    "posthoc_summary_df <- tidy(posthoc_summary)\n",
    "posthoc_confint_df <- tidy(posthoc_confint)\n",
    "\n",
    "# Merge summary and confidence intervals data frames\n",
    "combined_df <- merge(posthoc_summary_df, posthoc_confint_df, by = c(\"contrast\", \"term\", \"estimate\"))\n",
    "\n",
    "# Write the combined dataframe to CSV\n",
    "write.csv(combined_df, file.path(output_dir, \"lme_fat_longitudinal_base_posthoc_tests.csv\"))\n",
    "\n",
    "# Display results\n",
    "posthoc_summary\n",
    "posthoc_confint"
   ]
  },
  {
   "cell_type": "markdown",
   "metadata": {},
   "source": [
    "### FA-t - model additionally adjusting for age, sex in the model"
   ]
  },
  {
   "cell_type": "code",
   "execution_count": null,
   "metadata": {
    "vscode": {
     "languageId": "r"
    }
   },
   "outputs": [],
   "source": [
    "contrasts(df_patients_subcortical_all$ses_id) = dummy_coding\n",
    "\n",
    "baseline_lme_fat_all <- lmer(fat ~ 1 + (1|sub_id) + (1|location), data = df_patients_subcortical_all)\n",
    "ses_lme_fat_all <- lmer(fat ~ 1 + ses_id + (1|sub_id) + (1|location), data = df_patients_subcortical_all)\n",
    "demographics_lme_fat_all <- lmer(fat ~ 1 + ses_id + lesion_volume + age + sex + (1|sub_id) + (1|location), data = df_patients_subcortical_all)\n",
    "\n",
    "# Run ANOVA and save results\n",
    "anova_result <- anova(baseline_lme_fat_all, ses_lme_fat_all)\n",
    "write.csv(anova_result, file.path(output_dir, \"anova_fat_longitudinal_all.csv\"))\n",
    "\n",
    "# Save model summary\n",
    "model_summary_df <- tidy(demographics_lme_fat_all)\n",
    "write.csv(model_summary_df, file.path(output_dir, \"lme_fat_longitudinal_demographics_all.csv\"))\n",
    "\n",
    "# Display results\n",
    "anova_result\n",
    "summary(demographics_lme_fat_all)"
   ]
  },
  {
   "cell_type": "code",
   "execution_count": null,
   "metadata": {
    "vscode": {
     "languageId": "r"
    }
   },
   "outputs": [],
   "source": [
    "library(multcomp)\n",
    "library(broom)\n",
    "\n",
    "# Run post-hoc tests\n",
    "posthoc_fat_demographics_all <- glht(demographics_lme_fat_all, linfct = mcp(ses_id = \"Tukey\"))\n",
    "posthoc_summary <- summary(posthoc_fat_demographics_all)\n",
    "posthoc_confint <- confint(posthoc_fat_demographics_all)\n",
    "\n",
    "# Convert both summary and confint to data frames\n",
    "posthoc_summary_df <- tidy(posthoc_summary)\n",
    "posthoc_confint_df <- tidy(posthoc_confint)\n",
    "\n",
    "# Merge summary and confidence intervals data frames\n",
    "combined_df <- merge(posthoc_summary_df, posthoc_confint_df, by = c(\"contrast\", \"term\", \"estimate\"))\n",
    "\n",
    "# Write the combined dataframe to CSV\n",
    "write.csv(combined_df, file.path(output_dir, \"lme_fat_longitudinal_demographics_posthoc_tests.csv\"))\n",
    "\n",
    "# Display results\n",
    "posthoc_summary\n",
    "posthoc_confint"
   ]
  },
  {
   "cell_type": "markdown",
   "metadata": {},
   "source": [
    "### FA-t model additionally adjusting for age, sex and days since stroke (z-scored within each time point) "
   ]
  },
  {
   "cell_type": "code",
   "execution_count": null,
   "metadata": {
    "vscode": {
     "languageId": "r"
    }
   },
   "outputs": [],
   "source": [
    "contrasts(df_patients_subcortical_all$ses_id) = dummy_coding\n",
    "\n",
    "baseline_lme_fat_all <- lmer(fat ~ 1 + (1|sub_id) + (1|location), data = df_patients_subcortical_all)\n",
    "ses_lme_fat_all <- lmer(fat ~ 1 + ses_id + (1|sub_id) + (1|location), data = df_patients_subcortical_all)\n",
    "demographics_dss_lme_fat_all <- lmer(fat ~ 1 + ses_id + lesion_volume + age + sex + days_since_stroke_z + (1|sub_id) + (1|location), data = df_patients_subcortical_all)\n",
    "\n",
    "# Run ANOVA and save results\n",
    "anova_result <- anova(baseline_lme_fat_all, ses_lme_fat_all)\n",
    "write.csv(anova_result, file.path(output_dir, \"anova_fat_longitudinal_all.csv\"))\n",
    "\n",
    "# Save model summary\n",
    "model_summary_df <- tidy(demographics_dss_lme_fat_all)\n",
    "write.csv(model_summary_df, file.path(output_dir, \"lme_fat_longitudinal_dss_all.csv\"))\n",
    "\n",
    "# Display results\n",
    "anova_result\n",
    "summary(demographics_dss_lme_fat_all)"
   ]
  },
  {
   "cell_type": "code",
   "execution_count": null,
   "metadata": {
    "vscode": {
     "languageId": "r"
    }
   },
   "outputs": [],
   "source": [
    "library(MuMIn)\n",
    "r.squaredGLMM(demographics_dss_lme_fat_all)"
   ]
  },
  {
   "cell_type": "code",
   "execution_count": null,
   "metadata": {
    "vscode": {
     "languageId": "r"
    }
   },
   "outputs": [],
   "source": [
    "library(multcomp)\n",
    "library(broom)\n",
    "\n",
    "# Run post-hoc tests\n",
    "posthoc_fat_demographics_dss_all <- glht(demographics_dss_lme_fat_all, linfct = mcp(ses_id = \"Tukey\"))\n",
    "posthoc_summary <- summary(posthoc_fat_demographics_dss_all)\n",
    "posthoc_confint <- confint(posthoc_fat_demographics_dss_all)\n",
    "\n",
    "# Convert both summary and confint to data frames\n",
    "posthoc_summary_df <- tidy(posthoc_summary)\n",
    "posthoc_confint_df <- tidy(posthoc_confint)\n",
    "\n",
    "# Merge summary and confidence intervals data frames\n",
    "combined_df <- merge(posthoc_summary_df, posthoc_confint_df, by = c(\"contrast\", \"term\", \"estimate\"))\n",
    "\n",
    "# Write the combined dataframe to CSV\n",
    "write.csv(combined_df, file.path(output_dir, \"lme_fat_longitudinal_dss_posthoc_tests.csv\"))\n",
    "\n",
    "# Display results\n",
    "posthoc_summary\n",
    "posthoc_confint"
   ]
  },
  {
   "cell_type": "markdown",
   "metadata": {},
   "source": [
    "### Power analysis based on means for each time point"
   ]
  },
  {
   "cell_type": "code",
   "execution_count": null,
   "metadata": {
    "vscode": {
     "languageId": "r"
    }
   },
   "outputs": [],
   "source": [
    "df_mean_relative_diffusion_per_timepoint <- df_patients_subcortical_all %>% group_by(sub_id, ses_id) %>% mutate(mean_fw_per_ses = mean(fw, na.rm = TRUE), mean_fat_per_ses = mean(fat, na.rm = TRUE))\n",
    "df_mean_relative_diffusion_per_timepoint <- df_mean_relative_diffusion_per_timepoint[df_mean_relative_diffusion_per_timepoint$location == \"lesion\",][c(\"sub_id\", \"ses_id\", \"mean_fw_per_ses\", \"mean_fat_per_ses\")]\n",
    "\n",
    "subject_ids <- unique(df_mean_relative_diffusion_per_timepoint$sub_id)\n",
    "session_ids <- levels(df_mean_relative_diffusion_per_timepoint$ses_id) \n",
    "\n",
    "all_combinations <- expand.grid(sub_id = subject_ids, ses_id = session_ids)\n",
    "\n",
    "# Merge to add missing rows\n",
    "df_mean_relative_diffusion_per_timepoint <- merge(df_mean_relative_diffusion_per_timepoint, all_combinations, by = c(\"sub_id\", \"ses_id\"), all = TRUE)"
   ]
  },
  {
   "cell_type": "code",
   "execution_count": null,
   "metadata": {
    "vscode": {
     "languageId": "r"
    }
   },
   "outputs": [],
   "source": [
    "power_ses_1_2 <- df_mean_relative_diffusion_per_timepoint %>% \n",
    "    filter(ses_id == \"3-5 days\" | ses_id == \"1 month\") %>% \n",
    "    group_by(sub_id) %>%\n",
    "    filter(all(!is.na(mean_fw_per_ses)) & all(!is.na(mean_fat_per_ses))) %>%\n",
    "    ungroup()\n",
    "\n",
    "power_ses_1_3 <- df_mean_relative_diffusion_per_timepoint %>%\n",
    "  filter(ses_id == \"3-5 days\" | ses_id == \"3 months\") %>%\n",
    "  group_by(sub_id) %>%\n",
    "  filter(all(!is.na(mean_fw_per_ses)) & all(!is.na(mean_fat_per_ses))) %>%\n",
    "  ungroup()\n",
    "\n",
    "power_ses_1_4 <- df_mean_relative_diffusion_per_timepoint %>%\n",
    "  filter(ses_id == \"3-5 days\" | ses_id == \"1 year\") %>%\n",
    "  group_by(sub_id) %>%\n",
    "  filter(all(!is.na(mean_fw_per_ses)) & all(!is.na(mean_fat_per_ses))) %>%\n",
    "  ungroup()\n",
    "\n",
    "power_ses_2_3 <- df_mean_relative_diffusion_per_timepoint %>%\n",
    "  filter(ses_id == \"1 month\" | ses_id == \"3 months\") %>%\n",
    "  group_by(sub_id) %>%\n",
    "  filter(all(!is.na(mean_fw_per_ses)) & all(!is.na(mean_fat_per_ses))) %>%\n",
    "  ungroup()\n",
    "\n",
    "power_ses_2_4 <- df_mean_relative_diffusion_per_timepoint %>%\n",
    "  filter(ses_id == \"1 month\" | ses_id == \"1 year\") %>%\n",
    "  group_by(sub_id) %>%\n",
    "  filter(all(!is.na(mean_fw_per_ses)) & all(!is.na(mean_fat_per_ses))) %>%\n",
    "  ungroup()\n",
    "\n",
    "power_ses_3_4 <- df_mean_relative_diffusion_per_timepoint %>%\n",
    "  filter(ses_id == \"3 months\" | ses_id == \"1 year\") %>%\n",
    "  group_by(sub_id) %>%\n",
    "  filter(all(!is.na(mean_fw_per_ses)) & all(!is.na(mean_fat_per_ses))) %>%\n",
    "  ungroup()"
   ]
  },
  {
   "cell_type": "code",
   "execution_count": null,
   "metadata": {
    "vscode": {
     "languageId": "r"
    }
   },
   "outputs": [],
   "source": [
    "library(effsize)\n",
    "library(pwr)\n",
    "library(dplyr)\n",
    "\n",
    "calculate_power <- function(dataframe, time_point_x, time_point_y, value_of_interest) {\n",
    "  # Extract data for the two time points\n",
    "  data_x = dataframe[dataframe$ses_id == time_point_x, ][[value_of_interest]]\n",
    "  data_y = dataframe[dataframe$ses_id == time_point_y, ][[value_of_interest]]\n",
    "  \n",
    "  # Check for sufficient data\n",
    "  if(length(data_x) <= 1 || length(data_y) <= 1) {\n",
    "    stop(\"Not enough data for one of the time points.\")\n",
    "  }\n",
    "  \n",
    "  # Calculate Cohen's d\n",
    "  d <- cohen.d(data_x, data_y, paired = TRUE)\n",
    "  \n",
    "  # Calculate power\n",
    "  power_result <- pwr.t.test(d = d$estimate, n = length(data_x), sig.level = 0.05, type = \"paired\", alternative = \"two.sided\")\n",
    "  \n",
    "  # Calculate means\n",
    "  mean_x <- mean(data_x, na.rm = TRUE)\n",
    "  mean_y <- mean(data_y, na.rm = TRUE)\n",
    "\n",
    "  # Calculate standard deviations\n",
    "  sd_x <- sd(data_x, na.rm = TRUE)\n",
    "  sd_y <- sd(data_y, na.rm = TRUE)\n",
    "  \n",
    "  # Construct the results dataframe\n",
    "  results_df <- data.frame(\n",
    "    Modality = strsplit(value_of_interest, \"_\")[[1]][2],\n",
    "    Test = paste(time_point_x, \"vs\", time_point_y),\n",
    "    Cohens_d = d$estimate,\n",
    "    Sample_Size = length(data_x),\n",
    "    Significance_Level = 0.05,\n",
    "    Power = power_result$power,\n",
    "    Mean_X = mean_x,\n",
    "    SD_X = sd_x,\n",
    "    Mean_Y = mean_y,\n",
    "    SD_Y = sd_y\n",
    "  )\n",
    "  \n",
    "  return(results_df)\n",
    "}"
   ]
  },
  {
   "cell_type": "code",
   "execution_count": null,
   "metadata": {
    "vscode": {
     "languageId": "r"
    }
   },
   "outputs": [],
   "source": [
    "# List of all your dataframes\n",
    "df_list <- list(\n",
    "  power_ses_1_2 = power_ses_1_2,\n",
    "  power_ses_1_3 = power_ses_1_3,\n",
    "  power_ses_1_4 = power_ses_1_4,\n",
    "  power_ses_2_3 = power_ses_2_3,\n",
    "  power_ses_2_4 = power_ses_2_4,\n",
    "  power_ses_3_4 = power_ses_3_4\n",
    ")\n",
    "\n",
    "# List of values of interest\n",
    "values_of_interest <- c(\"mean_fw_per_ses\", \"mean_fat_per_ses\")\n",
    "\n",
    "# Time point pairs for each dataframe\n",
    "time_points <- list(\n",
    "  power_ses_1_2 = c(\"3-5 days\", \"1 month\"),\n",
    "  power_ses_1_3 = c(\"3-5 days\", \"3 months\"),\n",
    "  power_ses_1_4 = c(\"3-5 days\", \"1 year\"),\n",
    "  power_ses_2_3 = c(\"1 month\", \"3 months\"),\n",
    "  power_ses_2_4 = c(\"1 month\", \"1 year\"),\n",
    "  power_ses_3_4 = c(\"3 months\", \"1 year\")\n",
    ")\n",
    "\n",
    "# Assuming df_list, values_of_interest, time_points are defined\n",
    "results_list <- list()\n",
    "result_counter <- 1\n",
    "\n",
    "for (df_name in names(df_list)) {\n",
    "  current_df <- df_list[[df_name]]\n",
    "  current_time_points <- time_points[[df_name]]\n",
    "  \n",
    "  for (value in values_of_interest) {\n",
    "    result_df <- calculate_power(current_df, current_time_points[1], current_time_points[2], value)\n",
    "    results_list[[result_counter]] <- result_df\n",
    "    result_counter <- result_counter + 1\n",
    "  }\n",
    "}\n",
    "\n",
    "final_results_df <- bind_rows(results_list)\n",
    "\n",
    "write.csv(final_results_df, file.path(output_dir, \"fw_fat_longitudinal_power_analysis.csv\"))"
   ]
  },
  {
   "cell_type": "code",
   "execution_count": null,
   "metadata": {
    "vscode": {
     "languageId": "r"
    }
   },
   "outputs": [],
   "source": [
    "final_results_df[final_results_df$Modality == \"fw\",]"
   ]
  },
  {
   "cell_type": "code",
   "execution_count": null,
   "metadata": {
    "vscode": {
     "languageId": "r"
    }
   },
   "outputs": [],
   "source": [
    "final_results_df[final_results_df$Modality == \"fat\",]"
   ]
  },
  {
   "cell_type": "code",
   "execution_count": null,
   "metadata": {
    "vscode": {
     "languageId": "r"
    }
   },
   "outputs": [],
   "source": [
    "# mean power fw differences between time points\n",
    "mean(final_results_df[final_results_df$Modality == \"fw\",]$Power)\n",
    "mean(final_results_df[final_results_df$Modality == \"fw\",]$Cohens_d)\n",
    "\n",
    "\n",
    "# mean power fat differences between time points\n",
    "mean(final_results_df[final_results_df$Modality == \"fat\",]$Power)\n",
    "mean(final_results_df[final_results_df$Modality == \"fat\",]$Cohens_d)\n"
   ]
  },
  {
   "attachments": {},
   "cell_type": "markdown",
   "metadata": {},
   "source": [
    "## Linear models with clinical variables at 3 months as outcome"
   ]
  },
  {
   "attachments": {},
   "cell_type": "markdown",
   "metadata": {},
   "source": [
    "### Prepare dataframe"
   ]
  },
  {
   "cell_type": "code",
   "execution_count": null,
   "metadata": {
    "vscode": {
     "languageId": "r"
    }
   },
   "outputs": [],
   "source": [
    "# Calculate mean relative diffusion parameters across lesion/shells at time point 1\n",
    "df_esoc_mean_fw_shells <- df_patients_subcortical_ses1[df_patients_subcortical_ses1$location != \"lesion\", c(\"sub_id\", \"location\",\"fw\")]\n",
    "df_esoc_mean_fw_lesion <- df_patients_subcortical_ses1[df_patients_subcortical_ses1$location == \"lesion\", c(\"sub_id\", \"location\",\"fw\")]\n",
    "\n",
    "df_esoc_mean_fat_shells <- df_patients_subcortical_ses1[df_patients_subcortical_ses1$location != \"lesion\", c(\"sub_id\", \"location\",\"fat\")]\n",
    "df_esoc_mean_fat_lesion <- df_patients_subcortical_ses1[df_patients_subcortical_ses1$location == \"lesion\", c(\"sub_id\", \"location\",\"fat\")]\n",
    "\n",
    "df_esoc_mean_fw_shells %>% group_by(sub_id) %>% summarise(mean_delta_fw_shells = mean(fw)) -> df_esoc_mean_fw_shells\n",
    "df_esoc_mean_fat_shells %>% group_by(sub_id) %>% summarise(mean_delta_fat_shells = mean(fat)) -> df_esoc_mean_fat_shells\n",
    "df_esoc_mean_fw_lesion %>% group_by(sub_id) %>% summarise(mean_delta_fw_lesion = mean(fw)) -> df_esoc_mean_fw_lesion\n",
    "df_esoc_mean_fat_lesion %>% group_by(sub_id) %>% summarise(mean_delta_fat_lesion = mean(fat)) -> df_esoc_mean_fat_lesion\n",
    "\n",
    "df_esoc_mean_shells <- full_join(df_esoc_mean_fw_shells, df_esoc_mean_fat_shells)\n",
    "df_esoc_mean_lesion <- full_join(df_esoc_mean_fw_lesion, df_esoc_mean_fat_lesion)\n",
    "df_esoc_mean_diffusion_ses1 <- full_join(df_esoc_mean_shells, df_esoc_mean_lesion)\n",
    "\n",
    "df_esoc_mean_diffusion_ses1 <- left_join(df_patients_subcortical_ses1, df_esoc_mean_diffusion_ses1, copy = TRUE) \n",
    "\n",
    "# Calculate mean relative diffusion parameters across lesion/shells at time point 2\n",
    "df_esoc_mean_fw_shells_ses2 <- df_patients_subcortical_ses2[df_patients_subcortical_ses2$location != \"lesion\", c(\"sub_id\", \"location\",\"fw\")]\n",
    "df_esoc_mean_fw_lesion_ses2 <- df_patients_subcortical_ses2[df_patients_subcortical_ses2$location == \"lesion\", c(\"sub_id\", \"location\",\"fw\")]\n",
    "\n",
    "df_esoc_mean_fat_shells_ses2 <- df_patients_subcortical_ses2[df_patients_subcortical_ses2$location != \"lesion\", c(\"sub_id\", \"location\",\"fat\")]\n",
    "df_esoc_mean_fat_lesion_ses2 <- df_patients_subcortical_ses2[df_patients_subcortical_ses2$location == \"lesion\", c(\"sub_id\", \"location\",\"fat\")]\n",
    "\n",
    "df_esoc_mean_fw_shells_ses2 %>% group_by(sub_id) %>% summarise(mean_delta_fw_shells_ses2 = mean(fw)) -> df_esoc_mean_fw_shells_ses2\n",
    "df_esoc_mean_fat_shells_ses2 %>% group_by(sub_id) %>% summarise(mean_delta_fat_shells_ses2 = mean(fat)) -> df_esoc_mean_fat_shells_ses2\n",
    "df_esoc_mean_fw_lesion_ses2 %>% group_by(sub_id) %>% summarise(mean_delta_fw_lesion_ses2 = mean(fw)) -> df_esoc_mean_fw_lesion_ses2\n",
    "df_esoc_mean_fat_lesion_ses2 %>% group_by(sub_id) %>% summarise(mean_delta_fat_lesion_ses2 = mean(fat)) -> df_esoc_mean_fat_lesion_ses2\n",
    "\n",
    "df_esoc_mean_shells_ses2 <- full_join(df_esoc_mean_fw_shells_ses2, df_esoc_mean_fat_shells_ses2)\n",
    "df_esoc_mean_lesion_ses2 <- full_join(df_esoc_mean_fw_lesion_ses2, df_esoc_mean_fat_lesion_ses2)\n",
    "df_esoc_mean_diffusion_ses2 <- full_join(df_esoc_mean_shells_ses2, df_esoc_mean_lesion_ses2)\n",
    "\n",
    "df_esoc_mean_diffusion_ses12 <- left_join(df_esoc_mean_diffusion_ses1, df_esoc_mean_diffusion_ses2, copy = TRUE) \n",
    "\n",
    "# Calculate mean relative diffusion parameters across lesion/shells at time point 3\n",
    "df_esoc_mean_fw_shells_ses3 <- df_patients_subcortical_ses3[df_patients_subcortical_ses3$location != \"lesion\", c(\"sub_id\", \"location\",\"fw\")]\n",
    "df_esoc_mean_fw_lesion_ses3 <- df_patients_subcortical_ses3[df_patients_subcortical_ses3$location == \"lesion\", c(\"sub_id\", \"location\",\"fw\")]\n",
    "\n",
    "df_esoc_mean_fat_shells_ses3 <- df_patients_subcortical_ses3[df_patients_subcortical_ses3$location != \"lesion\", c(\"sub_id\", \"location\",\"fat\")]\n",
    "df_esoc_mean_fat_lesion_ses3 <- df_patients_subcortical_ses3[df_patients_subcortical_ses3$location == \"lesion\", c(\"sub_id\", \"location\",\"fat\")]\n",
    "\n",
    "df_esoc_mean_fw_shells_ses3 %>% group_by(sub_id) %>% summarise(mean_delta_fw_shells_ses3 = mean(fw)) -> df_esoc_mean_fw_shells_ses3\n",
    "df_esoc_mean_fat_shells_ses3 %>% group_by(sub_id) %>% summarise(mean_delta_fat_shells_ses3 = mean(fat)) -> df_esoc_mean_fat_shells_ses3\n",
    "df_esoc_mean_fw_lesion_ses3 %>% group_by(sub_id) %>% summarise(mean_delta_fw_lesion_ses3 = mean(fw)) -> df_esoc_mean_fw_lesion_ses3\n",
    "df_esoc_mean_fat_lesion_ses3 %>% group_by(sub_id) %>% summarise(mean_delta_fat_lesion_ses3 = mean(fat)) -> df_esoc_mean_fat_lesion_ses3\n",
    "\n",
    "df_esoc_mean_shells_ses3 <- full_join(df_esoc_mean_fw_shells_ses3, df_esoc_mean_fat_shells_ses3)\n",
    "df_esoc_mean_lesion_ses3 <- full_join(df_esoc_mean_fw_lesion_ses3, df_esoc_mean_fat_lesion_ses3)\n",
    "df_esoc_mean_diffusion_ses3 <- full_join(df_esoc_mean_shells_ses3, df_esoc_mean_lesion_ses3)\n",
    "\n",
    "df_esoc_mean_diffusion_ses123 <- left_join(df_esoc_mean_diffusion_ses12, df_esoc_mean_diffusion_ses3, copy = TRUE) \n",
    "\n",
    "# Calculate mean change in lesion size from time point 1 to 2, and time point 1 to 3\n",
    "lesionvolume_ses1 <- df_patients_subcortical_ses1[df_patients_subcortical_ses1$location == \"lesion\", c(\"sub_id\", \"lesion_volume\")]\n",
    "lesionvolume_ses1 %>% drop_na(c(\"sub_id\", \"lesion_volume\")) %>% rename(lesion_volume_1 = lesion_volume) -> lesionvolume_ses1\n",
    "\n",
    "lesionvolume_ses2 <- df_patients_subcortical_ses2[df_patients_subcortical_ses2$location == \"lesion\", c(\"sub_id\", \"lesion_volume\")]\n",
    "lesionvolume_ses2 %>% drop_na(c(\"sub_id\", \"lesion_volume\")) %>% rename(lesion_volume_2 = lesion_volume) -> lesionvolume_ses2\n",
    "\n",
    "lesionvolume_ses3 <- df_patients_subcortical_ses3[df_patients_subcortical_ses3$location == \"lesion\", c(\"sub_id\", \"lesion_volume\")]\n",
    "lesionvolume_ses3 %>% drop_na(c(\"sub_id\", \"lesion_volume\")) %>% rename(lesion_volume_3 = lesion_volume) -> lesionvolume_ses3\n",
    "\n",
    "df_lesion_vol <- lesionvolume_ses1 %>% full_join(lesionvolume_ses2) %>% full_join(lesionvolume_ses3)\n",
    "df_lesion_vol <- mutate(df_lesion_vol, \"lesion_delta_ses2\" = (lesion_volume_2 - lesion_volume_1) / lesion_volume_1)\n",
    "df_lesion_vol <- mutate(df_lesion_vol, \"lesion_delta\" = (lesion_volume_3 - lesion_volume_1) / lesion_volume_1)\n",
    "\n",
    "df_esoc_mean_diffusion_ses123 <- left_join(df_esoc_mean_diffusion_ses123, df_lesion_vol)\n",
    "\n",
    "# Retrieve clinical variables at time point 3\n",
    "nihss_3 <- df_patients_subcortical_ses3[df_patients_subcortical_ses3$location == \"lesion\", c(\"sub_id\", \"nihss\")]\n",
    "nihss_3 %>% drop_na(c(\"sub_id\",\"nihss\")) %>% rename(nihss_3 = nihss) -> nihss_3\n",
    "\n",
    "grip_3 <- df_patients_subcortical_ses3[df_patients_subcortical_ses3$location == \"lesion\", c(\"sub_id\", \"gripstrength_affected_hand_kg\")]\n",
    "grip_3 %>% drop_na(c(\"sub_id\",\"gripstrength_affected_hand_kg\")) %>% rename(grip_3 = gripstrength_affected_hand_kg) -> grip_3\n",
    "\n",
    "griprel_3 <- df_patients_subcortical_ses3[df_patients_subcortical_ses3$location == \"lesion\", c(\"sub_id\", \"gripstrength_affected_nonaffected\")]\n",
    "griprel_3 %>% drop_na(c(\"sub_id\",\"gripstrength_affected_nonaffected\")) %>% rename(griprel_3 = gripstrength_affected_nonaffected) -> griprel_3\n",
    "\n",
    "fugl_3 <- df_patients_subcortical_ses3[df_patients_subcortical_ses3$location == \"lesion\", c(\"sub_id\", \"fugl_meyer\")]\n",
    "fugl_3 %>% drop_na(c(\"sub_id\",\"fugl_meyer\")) %>% rename(fugl_3 = fugl_meyer) -> fugl_3\n",
    "\n",
    "nhp_3 <- df_patients_subcortical_ses3[df_patients_subcortical_ses3$location == \"lesion\", c(\"sub_id\", \"nhp_affected_nonaffected\")]\n",
    "nhp_3 %>% drop_na(c(\"sub_id\",\"nhp_affected_nonaffected\")) %>% rename(nhp_3 = nhp_affected_nonaffected) -> nhp_3\n",
    "\n",
    "# Join all dataframes\n",
    "df_esoc_mean_diffusion_ses123_nihss_ses3 <- left_join(df_esoc_mean_diffusion_ses123, nihss_3, by = \"sub_id\")\n",
    "df_esoc_mean_diffusion_ses123_nihss_ses3 <- left_join(df_esoc_mean_diffusion_ses123_nihss_ses3, grip_3, by = \"sub_id\")\n",
    "df_esoc_mean_diffusion_ses123_nihss_ses3 <- left_join(df_esoc_mean_diffusion_ses123_nihss_ses3, griprel_3, by = \"sub_id\")\n",
    "df_esoc_mean_diffusion_ses123_nihss_ses3 <- left_join(df_esoc_mean_diffusion_ses123_nihss_ses3, fugl_3, by = \"sub_id\")\n",
    "df_esoc_mean_diffusion_ses123_nihss_ses3 <- left_join(df_esoc_mean_diffusion_ses123_nihss_ses3, nhp_3, by = \"sub_id\")\n",
    "\n",
    "\n",
    "df_correlations <- df_esoc_mean_diffusion_ses123_nihss_ses3[df_esoc_mean_diffusion_ses123_nihss_ses3$location == \"lesion\",]\n",
    "\n",
    "dss_ses3 <- df_patients_subcortical_ses3[df_patients_subcortical_ses3$location == \"lesion\",][c(\"sub_id\", \"days_since_stroke\")] %>% \n",
    "    rename(days_since_stroke_3 = days_since_stroke)\n",
    "df_correlations <- left_join(df_correlations, dss_ses3)\n",
    "\n",
    "data_lesionsize_complete <- df_correlations[complete.cases(df_correlations[,c(\"sub_id\", \"ses_id\", \"mean_delta_fw_lesion\", \"lesion_delta\", \"mean_delta_fw_shells\")]),]"
   ]
  },
  {
   "cell_type": "markdown",
   "metadata": {},
   "source": [
    "### Change in lesion size (1 > 3)"
   ]
  },
  {
   "cell_type": "markdown",
   "metadata": {},
   "source": [
    "#### Linear model: lesional free-water "
   ]
  },
  {
   "cell_type": "code",
   "execution_count": null,
   "metadata": {
    "vscode": {
     "languageId": "r"
    }
   },
   "outputs": [],
   "source": [
    "baseline_lm_fw_lesion <- lm(lesion_delta ~ 1, data = data_lesionsize_complete)\n",
    "lesiondelta_lm_fw_lesion <- lm(lesion_delta  ~ mean_delta_fw_lesion, data = data_lesionsize_complete)\n",
    "lesion_demographics_lm_fw_lesion <- lm(lesion_delta ~ mean_delta_fw_lesion + age + sex + lesion_volume_1 + days_since_stroke_3, data = data_lesionsize_complete)\n",
    "\n",
    "# Run ANOVA and save results\n",
    "anova_result <- anova(baseline_lm_fw_lesion, lesion_demographics_lm_fw_lesion)\n",
    "write.csv(anova_result, file.path(output_dir, \"anova_fw_lesion_lesiondelta.csv\"))\n",
    "\n",
    "# Save model summary\n",
    "model_summary_df <- tidy(lesion_demographics_lm_fw_lesion)\n",
    "write.csv(model_summary_df, file.path(output_dir, \"lm_fw_lesion_lesiondelta_demographics_all.csv\"))\n",
    "\n",
    "# Display results\n",
    "anova_result\n",
    "summary(lesion_demographics_lm_fw_lesion)"
   ]
  },
  {
   "cell_type": "markdown",
   "metadata": {},
   "source": [
    "#### Linear model: perilesional free-water "
   ]
  },
  {
   "cell_type": "code",
   "execution_count": null,
   "metadata": {
    "vscode": {
     "languageId": "r"
    }
   },
   "outputs": [],
   "source": [
    "baseline_lm_fw_shells <- lm(lesion_delta ~ 1, data = data_lesionsize_complete)\n",
    "lesiondelta_lm_fw_shells <- lm(lesion_delta ~ mean_delta_fw_shells, data = data_lesionsize_complete)\n",
    "lesion_demographics_lm_fw_shells <- lm(lesion_delta ~ mean_delta_fw_shells + age + sex + lesion_volume_1 + days_since_stroke_3, data = data_lesionsize_complete)\n",
    "\n",
    "# Run ANOVA and save results\n",
    "anova_result <- anova(baseline_lm_fw_shells, lesion_demographics_lm_fw_shells)\n",
    "write.csv(anova_result, file.path(output_dir, \"anova_fw_shells_lesiondelta.csv\"))\n",
    "\n",
    "# Save model summary\n",
    "model_summary_df <- tidy(lesion_demographics_lm_fw_shells)\n",
    "write.csv(model_summary_df, file.path(output_dir, \"lm_fw_shells_lesiondelta_demographics_all.csv\"))\n",
    "\n",
    "# Display results\n",
    "anova_result\n",
    "summary(lesion_demographics_lm_fw_shells)"
   ]
  },
  {
   "cell_type": "markdown",
   "metadata": {},
   "source": [
    "#### Linear model: lesional FA-t"
   ]
  },
  {
   "cell_type": "code",
   "execution_count": null,
   "metadata": {
    "vscode": {
     "languageId": "r"
    }
   },
   "outputs": [],
   "source": [
    "baseline_lm_fat_lesion <- lm(lesion_delta ~ 1, data = data_lesionsize_complete)\n",
    "lesiondelta_lm_fat_lesion <- lm(lesion_delta ~ mean_delta_fat_lesion, data = data_lesionsize_complete)\n",
    "lesion_demographics_lm_fat_lesion <- lm(lesion_delta ~ mean_delta_fat_lesion + age + sex + lesion_volume_1 + days_since_stroke_3, data = data_lesionsize_complete)\n",
    "\n",
    "# Run ANOVA and save results\n",
    "anova_result <- anova(baseline_lm_fat_lesion, lesion_demographics_lm_fat_lesion)\n",
    "write.csv(anova_result, file.path(output_dir, \"anova_fat_lesion_lesiondelta.csv\"))\n",
    "\n",
    "# Save model summary\n",
    "model_summary_df <- tidy(lesion_demographics_lm_fat_lesion)\n",
    "write.csv(model_summary_df, file.path(output_dir, \"lm_fat_lesion_lesiondelta_demographics_all.csv\"))\n",
    "\n",
    "# Display results\n",
    "anova_result\n",
    "summary(lesion_demographics_lm_fat_lesion)"
   ]
  },
  {
   "cell_type": "markdown",
   "metadata": {},
   "source": [
    "#### Linear model: perilesional FA-t"
   ]
  },
  {
   "cell_type": "code",
   "execution_count": null,
   "metadata": {
    "vscode": {
     "languageId": "r"
    }
   },
   "outputs": [],
   "source": [
    "baseline_lm_fat_shells <- lm(lesion_delta ~ 1, data = data_lesionsize_complete)\n",
    "lesiondelta_lm_fat_shells <- lm(lesion_delta ~ mean_delta_fat_shells, data = data_lesionsize_complete)\n",
    "lesion_demographics_lm_fat_shells <- lm(lesion_delta ~ mean_delta_fat_shells + age + sex + lesion_volume_1 + days_since_stroke_3, data = data_lesionsize_complete)\n",
    "\n",
    "# Run ANOVA and save results\n",
    "anova_result <- anova(baseline_lm_fat_shells, lesion_demographics_lm_fat_shells)\n",
    "write.csv(anova_result, file.path(output_dir, \"anova_fat_shells_lesiondelta.csv\"))\n",
    "\n",
    "# Save model summary\n",
    "model_summary_df <- tidy(lesion_demographics_lm_fat_shells)\n",
    "write.csv(model_summary_df, file.path(output_dir, \"lm_fat_shells_lesiondelta_demographics_all.csv\"))\n",
    "\n",
    "# Display results\n",
    "anova_result\n",
    "summary(lesion_demographics_lm_fat_shells)"
   ]
  },
  {
   "cell_type": "code",
   "execution_count": null,
   "metadata": {
    "vscode": {
     "languageId": "r"
    }
   },
   "outputs": [],
   "source": [
    "# Boxplot to compare the two groups\n",
    "ggplot(data_lesionsize_complete, aes(x=sex, y=lesion_delta, fill=sex)) +\n",
    "  geom_boxplot() +\n",
    "  theme_minimal() +\n",
    "  labs(title=\"Comparison of Two Groups\", x=\"Sex\", y=\"Relative Change in Lesion Size (%)\") +\n",
    "  scale_fill_manual(values=c(\"Group1\"=\"blue\", \"Group2\"=\"red\"))\n",
    "\n",
    "# Independent t-test\n",
    "t_test_result <- t.test(lesion_delta~ sex, data=data_lesionsize_complete)\n",
    "print(t_test_result)"
   ]
  },
  {
   "attachments": {},
   "cell_type": "markdown",
   "metadata": {},
   "source": [
    "#### Spearman correlation: perilesional and lesional free-water"
   ]
  },
  {
   "cell_type": "code",
   "execution_count": null,
   "metadata": {
    "vscode": {
     "languageId": "r"
    }
   },
   "outputs": [],
   "source": [
    "# Create figure\n",
    "ggscatter(data_lesionsize_complete, x = \"mean_delta_fw_lesion\", y = \"lesion_delta\", add = \"reg.line\", \n",
    "    add.params = list(color = \"blue\", fill = \"lightgray\"), cor.method = \"spearman\", cor.coef = TRUE, cor.coef.name = \"rho\", \n",
    "    conf.int = TRUE, ylab = \"Relative change in lesion size (T3-T1/T1)\", xlab = \"FW lesional [(ipsi-contra)/contra]\") -> fw_lesion_deltalesion_corr\n",
    "\n",
    "# Display figure\n",
    "fw_lesion_deltalesion_corr\n",
    "\n",
    "# Save figure\n",
    "ggsave(file.path(plot_dir, \"fw_lesion_deltalesion_corr.png\"), plot = fw_lesion_deltalesion_corr, dpi = 300, width = 6, height = 5)\n",
    "\n",
    "# Create figure\n",
    "ggscatter(data_lesionsize_complete, x = \"mean_delta_fw_shells\", y = \"lesion_delta\", add = \"reg.line\", \n",
    "    add.params = list(color = \"blue\", fill = \"lightgray\"), cor.method = \"spearman\", cor.coef = TRUE, cor.coef.name = \"rho\", \n",
    "    conf.int = TRUE, ylab = \"Relative change in lesion size (T3-T1/T1)\", xlab = \"FW perilesional [(ipsi-contra)/contra]\") -> fw_shells_deltalesion_corr\n",
    "\n",
    "# Display figure\n",
    "fw_shells_deltalesion_corr\n",
    "\n",
    "# Save figure\n",
    "ggsave(file.path(plot_dir, \"fw_shells_deltalesion_corr.png\"), plot = fw_shells_deltalesion_corr, dpi = 300, width = 6, height = 5)"
   ]
  },
  {
   "cell_type": "markdown",
   "metadata": {},
   "source": [
    "#### Spearman correlation: perilesional and lesional FAt"
   ]
  },
  {
   "cell_type": "code",
   "execution_count": null,
   "metadata": {
    "vscode": {
     "languageId": "r"
    }
   },
   "outputs": [],
   "source": [
    "# Create figures\n",
    "ggscatter(data_lesionsize_complete, x = \"mean_delta_fat_shells\", y = \"lesion_delta\", add = \"reg.line\", \n",
    "    add.params = list(color = \"red\", fill = \"lightgray\"), cor.method = \"spearman\", cor.coef = TRUE, cor.coef.name = \"rho\", \n",
    "    conf.int = TRUE, ylab = \"Relative change in lesion size (T3-T1/T1)\", xlab = \"FA-t perilesional [(ipsi-contra)/contra]\") -> fat_shells_deltalesion_corr\n",
    "\n",
    "ggscatter(data_lesionsize_complete, x = \"mean_delta_fat_lesion\", y = \"lesion_delta\", add = \"reg.line\", \n",
    "    add.params = list(color = \"red\", fill = \"lightgray\"), cor.method = \"spearman\", cor.coef = TRUE, cor.coef.name = \"rho\", \n",
    "    conf.int = TRUE, ylab = \"Relative change in lesion size (T3-T1/T1)\", xlab = \"FA-t lesional [(ipsi-contra)/contra]\") -> fat_lesion_deltalesion_corr\n",
    "\n",
    "# Display figures\n",
    "fat_shells_deltalesion_corr\n",
    "fat_lesion_deltalesion_corr\n",
    "\n",
    "# Save figures\n",
    "ggsave(file.path(plot_dir, \"fat_shells_deltalesion_corr.png\"), plot = fat_shells_deltalesion_corr, dpi = 300, width = 6, height = 5)\n",
    "ggsave(file.path(plot_dir, \"fat_lesion_deltalesion_corr.png\"), plot = fat_lesion_deltalesion_corr, dpi = 300, width = 6, height = 5)\n"
   ]
  },
  {
   "attachments": {},
   "cell_type": "markdown",
   "metadata": {},
   "source": [
    "### NIHSS at time point 3"
   ]
  },
  {
   "cell_type": "markdown",
   "metadata": {},
   "source": [
    "#### Lesional and perilesional free-water"
   ]
  },
  {
   "cell_type": "code",
   "execution_count": null,
   "metadata": {
    "vscode": {
     "languageId": "r"
    }
   },
   "outputs": [],
   "source": [
    "ggscatter(df_correlations, x = \"mean_delta_fw_lesion\", y = \"nihss_3\", add = \"reg.line\", cor.method = \"spearman\", cor.coef = TRUE)\n",
    "ggscatter(df_correlations, x = \"mean_delta_fw_shells\", y = \"nihss_3\", add = \"reg.line\", cor.method = \"spearman\", cor.coef = TRUE)"
   ]
  },
  {
   "attachments": {},
   "cell_type": "markdown",
   "metadata": {},
   "source": [
    "#### Lesional and perilesional FAt"
   ]
  },
  {
   "cell_type": "code",
   "execution_count": null,
   "metadata": {
    "vscode": {
     "languageId": "r"
    }
   },
   "outputs": [],
   "source": [
    "ggscatter(df_correlations, x = \"mean_delta_fat_lesion\", y = \"nihss_3\", add = \"reg.line\", cor.method = \"spearman\", cor.coef = TRUE)\n",
    "ggscatter(df_correlations, x = \"mean_delta_fat_shells\", y = \"nihss_3\", add = \"reg.line\", cor.method = \"spearman\", cor.coef = TRUE)"
   ]
  },
  {
   "attachments": {},
   "cell_type": "markdown",
   "metadata": {},
   "source": [
    "### Gripstrength at time point 3"
   ]
  },
  {
   "cell_type": "markdown",
   "metadata": {},
   "source": [
    "##### Lesional and perilesional free-water"
   ]
  },
  {
   "cell_type": "code",
   "execution_count": null,
   "metadata": {
    "vscode": {
     "languageId": "r"
    }
   },
   "outputs": [],
   "source": [
    "ggscatter(df_correlations, x = \"mean_delta_fw_lesion\", y = \"grip_3\", add = \"reg.line\", cor.method = \"spearman\", cor.coef = TRUE)\n",
    "ggscatter(df_correlations, x = \"mean_delta_fw_shells\", y = \"grip_3\", add = \"reg.line\", cor.method = \"spearman\", cor.coef = TRUE)"
   ]
  },
  {
   "cell_type": "markdown",
   "metadata": {},
   "source": [
    "#### Lesional and perilesional FAt"
   ]
  },
  {
   "cell_type": "code",
   "execution_count": null,
   "metadata": {
    "vscode": {
     "languageId": "r"
    }
   },
   "outputs": [],
   "source": [
    "ggscatter(df_correlations, x = \"mean_delta_fat_lesion\", y = \"grip_3\", add = \"reg.line\", cor.method = \"spearman\", cor.coef = TRUE)\n",
    "ggscatter(df_correlations, x = \"mean_delta_fat_shells\", y = \"grip_3\", add = \"reg.line\", cor.method = \"spearman\", cor.coef = TRUE)"
   ]
  },
  {
   "attachments": {},
   "cell_type": "markdown",
   "metadata": {},
   "source": [
    "### Relative gripstrength at time point 3"
   ]
  },
  {
   "cell_type": "markdown",
   "metadata": {},
   "source": [
    "#### Lesional and perilesional free-water"
   ]
  },
  {
   "cell_type": "code",
   "execution_count": null,
   "metadata": {
    "vscode": {
     "languageId": "r"
    }
   },
   "outputs": [],
   "source": [
    "ggscatter(df_correlations, x = \"mean_delta_fw_lesion\", y = \"griprel_3\", add = \"reg.line\", cor.method = \"spearman\", cor.coef = TRUE)\n",
    "ggscatter(df_correlations, x = \"mean_delta_fw_shells\", y = \"griprel_3\", add = \"reg.line\", cor.method = \"spearman\", cor.coef = TRUE)"
   ]
  },
  {
   "cell_type": "markdown",
   "metadata": {},
   "source": [
    "#### Lesional and perilesional FAt"
   ]
  },
  {
   "cell_type": "code",
   "execution_count": null,
   "metadata": {
    "vscode": {
     "languageId": "r"
    }
   },
   "outputs": [],
   "source": [
    "ggscatter(df_correlations, x = \"mean_delta_fat_lesion\", y = \"griprel_3\", add = \"reg.line\", cor.method = \"spearman\", cor.coef = TRUE)\n",
    "ggscatter(df_correlations, x = \"mean_delta_fat_shells\", y = \"griprel_3\", add = \"reg.line\", cor.method = \"spearman\", cor.coef = TRUE)"
   ]
  },
  {
   "attachments": {},
   "cell_type": "markdown",
   "metadata": {},
   "source": [
    "### Fugl Meyer at time point 3"
   ]
  },
  {
   "cell_type": "markdown",
   "metadata": {},
   "source": [
    "#### Lesional and perilesional free-water"
   ]
  },
  {
   "cell_type": "code",
   "execution_count": null,
   "metadata": {
    "vscode": {
     "languageId": "r"
    }
   },
   "outputs": [],
   "source": [
    "ggscatter(df_correlations, x = \"mean_delta_fw_lesion\", y = \"fugl_3\", add = \"reg.line\", cor.method = \"spearman\", cor.coef = TRUE)\n",
    "ggscatter(df_correlations, x = \"mean_delta_fw_shells\", y = \"fugl_3\", add = \"reg.line\", cor.method = \"spearman\", cor.coef = TRUE)"
   ]
  },
  {
   "cell_type": "markdown",
   "metadata": {},
   "source": [
    "#### Lesional and perilesional FAt"
   ]
  },
  {
   "cell_type": "code",
   "execution_count": null,
   "metadata": {
    "vscode": {
     "languageId": "r"
    }
   },
   "outputs": [],
   "source": [
    "ggscatter(df_correlations, x = \"mean_delta_fat_lesion\", y = \"fugl_3\", add = \"reg.line\", cor.method = \"spearman\", cor.coef = TRUE)\n",
    "ggscatter(df_correlations, x = \"mean_delta_fat_shells\", y = \"fugl_3\", add = \"reg.line\", cor.method = \"spearman\", cor.coef = TRUE)"
   ]
  },
  {
   "attachments": {},
   "cell_type": "markdown",
   "metadata": {},
   "source": [
    "### NHP at time point 3"
   ]
  },
  {
   "cell_type": "markdown",
   "metadata": {},
   "source": [
    "#### Lesional and perilesional free-water"
   ]
  },
  {
   "cell_type": "code",
   "execution_count": null,
   "metadata": {
    "vscode": {
     "languageId": "r"
    }
   },
   "outputs": [],
   "source": [
    "ggscatter(df_correlations, x = \"mean_delta_fw_lesion\", y = \"nhp_3\", add = \"reg.line\", cor.method = \"spearman\", cor.coef = TRUE)\n",
    "ggscatter(df_correlations, x = \"mean_delta_fw_shells\", y = \"nhp_3\", add = \"reg.line\", cor.method = \"spearman\", cor.coef = TRUE)"
   ]
  },
  {
   "cell_type": "markdown",
   "metadata": {},
   "source": [
    "#### Lesional and perilesional FAt"
   ]
  },
  {
   "cell_type": "code",
   "execution_count": null,
   "metadata": {
    "vscode": {
     "languageId": "r"
    }
   },
   "outputs": [],
   "source": [
    "ggscatter(df_correlations, x = \"mean_delta_fat_lesion\", y = \"nhp_3\", add = \"reg.line\", cor.method = \"spearman\", cor.coef = TRUE)\n",
    "ggscatter(df_correlations, x = \"mean_delta_fat_shells\", y = \"nhp_3\", add = \"reg.line\", cor.method = \"spearman\", cor.coef = TRUE)"
   ]
  },
  {
   "cell_type": "markdown",
   "metadata": {},
   "source": [
    "## Linear models with clinical variables at 3-5 days as outcome"
   ]
  },
  {
   "cell_type": "code",
   "execution_count": null,
   "metadata": {
    "vscode": {
     "languageId": "r"
    }
   },
   "outputs": [],
   "source": [
    "# grip_3 <- df_patients_subcortical_ses3[df_patients_subcortical_ses3$location == \"lesion\", c(\"sub_id\", \"gripstrength_affected_hand_kg\")]\n",
    "# grip_3 %>% drop_na(c(\"sub_id\",\"gripstrength_affected_hand_kg\")) %>% rename(grip_3 = gripstrength_affected_hand_kg) -> grip_3\n",
    "\n",
    "# griprel_3 <- df_patients_subcortical_ses3[df_patients_subcortical_ses3$location == \"lesion\", c(\"sub_id\", \"gripstrength_affected_nonaffected\")]\n",
    "# griprel_3 %>% drop_na(c(\"sub_id\",\"gripstrength_affected_nonaffected\")) %>% rename(griprel_3 = gripstrength_affected_nonaffected) -> griprel_3\n",
    "\n",
    "# fugl_3 <- df_patients_subcortical_ses3[df_patients_subcortical_ses3$location == \"lesion\", c(\"sub_id\", \"fugl_meyer\")]\n",
    "# fugl_3 %>% drop_na(c(\"sub_id\",\"fugl_meyer\")) %>% rename(fugl_3 = fugl_meyer) -> fugl_3\n",
    "\n",
    "# nhp_3 <- df_patients_subcortical_ses3[df_patients_subcortical_ses3$location == \"lesion\", c(\"sub_id\", \"nhp_affected_nonaffected\")]\n",
    "# nhp_3 %>% drop_na(c(\"sub_id\",\"nhp_affected_nonaffected\")) %>% rename(nhp_3 = nhp_affected_nonaffected) -> nhp_3"
   ]
  },
  {
   "attachments": {},
   "cell_type": "markdown",
   "metadata": {},
   "source": [
    "### Lesion volume at 3-5 days"
   ]
  },
  {
   "cell_type": "markdown",
   "metadata": {},
   "source": [
    "#### Correlations: Lesional and perilesional free-water "
   ]
  },
  {
   "cell_type": "code",
   "execution_count": null,
   "metadata": {
    "vscode": {
     "languageId": "r"
    }
   },
   "outputs": [],
   "source": [
    "ggscatter(df_correlations, x = \"mean_delta_fw_lesion\", y = \"lesion_volume\", add = \"reg.line\", cor.method = \"spearman\", cor.coef = TRUE)\n",
    "ggscatter(df_correlations, x = \"mean_delta_fw_shells\", y = \"lesion_volume\", add = \"reg.line\", cor.method = \"spearman\", cor.coef = TRUE)"
   ]
  },
  {
   "attachments": {},
   "cell_type": "markdown",
   "metadata": {},
   "source": [
    "#### Correlations: lesional and perilesional FAt"
   ]
  },
  {
   "cell_type": "code",
   "execution_count": null,
   "metadata": {
    "vscode": {
     "languageId": "r"
    }
   },
   "outputs": [],
   "source": [
    "ggscatter(df_correlations, x = \"mean_delta_fat_lesion\", y = \"lesion_volume\", add = \"reg.line\", cor.method = \"spearman\", cor.coef = TRUE)\n",
    "ggscatter(df_correlations, x = \"mean_delta_fat_shells\", y = \"lesion_volume\", add = \"reg.line\", cor.method = \"spearman\", cor.coef = TRUE)"
   ]
  },
  {
   "cell_type": "markdown",
   "metadata": {},
   "source": [
    "### Fugl Meyer at 3-5 days"
   ]
  },
  {
   "attachments": {},
   "cell_type": "markdown",
   "metadata": {},
   "source": [
    "#### Correlations: lesional and perilesional free-water"
   ]
  },
  {
   "cell_type": "code",
   "execution_count": null,
   "metadata": {
    "vscode": {
     "languageId": "r"
    }
   },
   "outputs": [],
   "source": [
    "ggscatter(df_correlations, x = \"mean_delta_fw_lesion\", y = \"fugl_meyer\", add = \"reg.line\", cor.method = \"spearman\", cor.coef = TRUE)\n",
    "ggscatter(df_correlations, x = \"mean_delta_fw_shells\", y = \"fugl_meyer\", add = \"reg.line\", cor.method = \"spearman\", cor.coef = TRUE)"
   ]
  },
  {
   "attachments": {},
   "cell_type": "markdown",
   "metadata": {},
   "source": [
    "#### Correlations: lesional and perilesional FAt"
   ]
  },
  {
   "cell_type": "code",
   "execution_count": null,
   "metadata": {
    "vscode": {
     "languageId": "r"
    }
   },
   "outputs": [],
   "source": [
    "ggscatter(df_correlations, x = \"mean_delta_fat_lesion\", y = \"fugl_meyer\", add = \"reg.line\", cor.method = \"spearman\", cor.coef = TRUE)\n",
    "ggscatter(df_correlations, x = \"mean_delta_fat_shells\", y = \"fugl_meyer\", add = \"reg.line\", cor.method = \"spearman\", cor.coef = TRUE)"
   ]
  },
  {
   "cell_type": "markdown",
   "metadata": {},
   "source": [
    "### Relative grip strength at 3-5 days"
   ]
  },
  {
   "attachments": {},
   "cell_type": "markdown",
   "metadata": {},
   "source": [
    "#### Correlations: lesional and perilesional free-water"
   ]
  },
  {
   "cell_type": "code",
   "execution_count": null,
   "metadata": {
    "vscode": {
     "languageId": "r"
    }
   },
   "outputs": [],
   "source": [
    "ggscatter(df_correlations, x = \"mean_delta_fw_lesion\", y = \"gripstrength_affected_nonaffected\", add = \"reg.line\", cor.method = \"spearman\", cor.coef = TRUE)\n",
    "ggscatter(df_correlations, x = \"mean_delta_fw_shells\", y = \"gripstrength_affected_nonaffected\", add = \"reg.line\", cor.method = \"spearman\", cor.coef = TRUE)"
   ]
  },
  {
   "cell_type": "markdown",
   "metadata": {},
   "source": [
    "#### Correlations: lesional and perilesional FA-t"
   ]
  },
  {
   "cell_type": "code",
   "execution_count": null,
   "metadata": {
    "vscode": {
     "languageId": "r"
    }
   },
   "outputs": [],
   "source": [
    "ggscatter(df_correlations, x = \"mean_delta_fat_lesion\", y = \"gripstrength_affected_nonaffected\", add = \"reg.line\", cor.method = \"spearman\", cor.coef = TRUE)\n",
    "ggscatter(df_correlations, x = \"mean_delta_fat_shells\", y = \"gripstrength_affected_nonaffected\", add = \"reg.line\", cor.method = \"spearman\", cor.coef = TRUE)"
   ]
  },
  {
   "attachments": {},
   "cell_type": "markdown",
   "metadata": {},
   "source": [
    "### Grip strength at 3-5 days"
   ]
  },
  {
   "cell_type": "markdown",
   "metadata": {},
   "source": [
    "#### Correlations: lesional and perilesional free-water"
   ]
  },
  {
   "cell_type": "code",
   "execution_count": null,
   "metadata": {
    "vscode": {
     "languageId": "r"
    }
   },
   "outputs": [],
   "source": [
    "ggscatter(df_correlations, x = \"mean_delta_fw_lesion\", y = \"gripstrength_affected_hand_kg\", add = \"reg.line\", cor.method = \"spearman\", cor.coef = TRUE)\n",
    "ggscatter(df_correlations, x = \"mean_delta_fw_shells\", y = \"gripstrength_affected_hand_kg\", add = \"reg.line\", cor.method = \"spearman\", cor.coef = TRUE)"
   ]
  },
  {
   "attachments": {},
   "cell_type": "markdown",
   "metadata": {},
   "source": [
    "#### Correlations: lesional and perilesional FAt"
   ]
  },
  {
   "cell_type": "code",
   "execution_count": null,
   "metadata": {
    "vscode": {
     "languageId": "r"
    }
   },
   "outputs": [],
   "source": [
    "ggscatter(df_correlations, x = \"mean_delta_fat_lesion\", y = \"gripstrength_affected_hand_kg\", add = \"reg.line\", cor.method = \"spearman\", cor.coef = TRUE)\n",
    "ggscatter(df_correlations, x = \"mean_delta_fat_shells\", y = \"gripstrength_affected_hand_kg\", add = \"reg.line\", cor.method = \"spearman\", cor.coef = TRUE)"
   ]
  },
  {
   "attachments": {},
   "cell_type": "markdown",
   "metadata": {},
   "source": [
    "### NIHSS at 3-5 days"
   ]
  },
  {
   "cell_type": "markdown",
   "metadata": {},
   "source": [
    "#### Correlations: lesional and perilesional free-water"
   ]
  },
  {
   "cell_type": "code",
   "execution_count": null,
   "metadata": {
    "vscode": {
     "languageId": "r"
    }
   },
   "outputs": [],
   "source": [
    "ggscatter(df_correlations, x = \"mean_delta_fw_lesion\", y = \"nihss\", add = \"reg.line\", cor.method = \"spearman\", cor.coef = TRUE)\n",
    "ggscatter(df_correlations, x = \"mean_delta_fw_shells\", y = \"nihss\", add = \"reg.line\", cor.method = \"spearman\", cor.coef = TRUE)"
   ]
  },
  {
   "attachments": {},
   "cell_type": "markdown",
   "metadata": {},
   "source": [
    "#### Correlations: lesional and perilesional FAt"
   ]
  },
  {
   "cell_type": "code",
   "execution_count": null,
   "metadata": {
    "vscode": {
     "languageId": "r"
    }
   },
   "outputs": [],
   "source": [
    "ggscatter(df_correlations, x = \"mean_delta_fat_lesion\", y = \"nihss\", add = \"reg.line\", cor.method = \"spearman\", cor.coef = TRUE)\n",
    "ggscatter(df_correlations, x = \"mean_delta_fat_shells\", y = \"nihss\", add = \"reg.line\", cor.method = \"spearman\", cor.coef = TRUE)"
   ]
  },
  {
   "attachments": {},
   "cell_type": "markdown",
   "metadata": {},
   "source": [
    "### NHP at 3-5 days"
   ]
  },
  {
   "cell_type": "markdown",
   "metadata": {},
   "source": [
    "#### Correlations: lesional and perilesional free-water"
   ]
  },
  {
   "cell_type": "code",
   "execution_count": null,
   "metadata": {
    "vscode": {
     "languageId": "r"
    }
   },
   "outputs": [],
   "source": [
    "ggscatter(df_correlations, x = \"mean_delta_fw_lesion\", y = \"nhp_affected_nonaffected\", add = \"reg.line\", cor.method = \"spearman\", cor.coef = TRUE)\n",
    "ggscatter(df_correlations, x = \"mean_delta_fw_shells\", y = \"nhp_affected_nonaffected\", add = \"reg.line\", cor.method = \"spearman\", cor.coef = TRUE)"
   ]
  },
  {
   "attachments": {},
   "cell_type": "markdown",
   "metadata": {},
   "source": [
    "#### Correlations: lesional and perilesional FA-t"
   ]
  },
  {
   "cell_type": "code",
   "execution_count": null,
   "metadata": {
    "vscode": {
     "languageId": "r"
    }
   },
   "outputs": [],
   "source": [
    "ggscatter(df_correlations, x = \"mean_delta_fat_lesion\", y = \"nhp_affected_nonaffected\", add = \"reg.line\", cor.method = \"spearman\", cor.coef = TRUE)\n",
    "ggscatter(df_correlations, x = \"mean_delta_fat_shells\", y = \"nhp_affected_nonaffected\", add = \"reg.line\", cor.method = \"spearman\", cor.coef = TRUE)"
   ]
  },
  {
   "cell_type": "markdown",
   "metadata": {},
   "source": [
    "## Lesion volume reduction at 1 month (TP 2)"
   ]
  },
  {
   "cell_type": "markdown",
   "metadata": {},
   "source": [
    "#### Correlations: baseline lesional and perilesional free-water "
   ]
  },
  {
   "cell_type": "code",
   "execution_count": null,
   "metadata": {
    "vscode": {
     "languageId": "r"
    }
   },
   "outputs": [],
   "source": [
    "ggscatter(df_correlations, x = \"mean_delta_fw_lesion\", y = \"lesion_delta_ses2\", add = \"reg.line\", cor.method = \"spearman\", cor.coef = TRUE)\n",
    "ggscatter(df_correlations, x = \"mean_delta_fw_shells\", y = \"lesion_delta_ses2\", add = \"reg.line\", cor.method = \"spearman\", cor.coef = TRUE)"
   ]
  },
  {
   "cell_type": "markdown",
   "metadata": {},
   "source": [
    "#### Correlations: baseline lesional and perilesional FAt"
   ]
  },
  {
   "cell_type": "code",
   "execution_count": null,
   "metadata": {
    "vscode": {
     "languageId": "r"
    }
   },
   "outputs": [],
   "source": [
    "ggscatter(df_correlations, x = \"mean_delta_fat_lesion\", y = \"lesion_delta_ses2\", add = \"reg.line\", cor.method = \"spearman\", cor.coef = TRUE)\n",
    "ggscatter(df_correlations, x = \"mean_delta_fat_shells\", y = \"lesion_delta_ses2\", add = \"reg.line\", cor.method = \"spearman\", cor.coef = TRUE)"
   ]
  },
  {
   "cell_type": "markdown",
   "metadata": {},
   "source": [
    "#### Correlations: time point 2 lesional and perilesional free-water "
   ]
  },
  {
   "cell_type": "code",
   "execution_count": null,
   "metadata": {
    "vscode": {
     "languageId": "r"
    }
   },
   "outputs": [],
   "source": [
    "ggscatter(df_correlations, x = \"mean_delta_fw_lesion_ses2\", y = \"lesion_delta_ses2\", add = \"reg.line\", cor.method = \"spearman\", cor.coef = TRUE)\n",
    "ggscatter(df_correlations, x = \"mean_delta_fw_shells_ses2\", y = \"lesion_delta_ses2\", add = \"reg.line\", cor.method = \"spearman\", cor.coef = TRUE)"
   ]
  },
  {
   "cell_type": "markdown",
   "metadata": {},
   "source": [
    "#### Correlations: time point 2 lesional and perilesional FAt"
   ]
  },
  {
   "cell_type": "code",
   "execution_count": null,
   "metadata": {
    "vscode": {
     "languageId": "r"
    }
   },
   "outputs": [],
   "source": [
    "ggscatter(df_correlations, x = \"mean_delta_fat_lesion_ses2\", y = \"lesion_delta_ses2\", add = \"reg.line\", cor.method = \"spearman\", cor.coef = TRUE)\n",
    "ggscatter(df_correlations, x = \"mean_delta_fat_shells_ses2\", y = \"lesion_delta_ses2\", add = \"reg.line\", cor.method = \"spearman\", cor.coef = TRUE)"
   ]
  }
 ],
 "metadata": {
  "interpreter": {
   "hash": "670600997a950fa4949c4f437e053972f9e8db0968569fb7ef65a7c862049b6c"
  },
  "kernelspec": {
   "display_name": "R",
   "language": "R",
   "name": "ir"
  },
  "language_info": {
   "codemirror_mode": "r",
   "file_extension": ".r",
   "mimetype": "text/x-r-source",
   "name": "R",
   "pygments_lexer": "r",
   "version": "4.3.2"
  },
  "orig_nbformat": 4
 },
 "nbformat": 4,
 "nbformat_minor": 2
}
